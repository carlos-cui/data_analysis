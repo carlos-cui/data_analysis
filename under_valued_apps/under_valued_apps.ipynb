{
 "cells": [
  {
   "cell_type": "markdown",
   "metadata": {},
   "source": [
    "# Undervalued Apps\n",
    "\n",
    "Exercise to find an undervalued paid Apps in order to generate more revenue"
   ]
  },
  {
   "cell_type": "code",
   "execution_count": 1,
   "metadata": {},
   "outputs": [],
   "source": [
    "import pandas as pd"
   ]
  },
  {
   "cell_type": "code",
   "execution_count": 2,
   "metadata": {},
   "outputs": [],
   "source": [
    "df = pd.read_csv('googleplaystore.csv')"
   ]
  },
  {
   "cell_type": "code",
   "execution_count": 3,
   "metadata": {},
   "outputs": [
    {
     "data": {
      "text/html": [
       "<div>\n",
       "<style scoped>\n",
       "    .dataframe tbody tr th:only-of-type {\n",
       "        vertical-align: middle;\n",
       "    }\n",
       "\n",
       "    .dataframe tbody tr th {\n",
       "        vertical-align: top;\n",
       "    }\n",
       "\n",
       "    .dataframe thead th {\n",
       "        text-align: right;\n",
       "    }\n",
       "</style>\n",
       "<table border=\"1\" class=\"dataframe\">\n",
       "  <thead>\n",
       "    <tr style=\"text-align: right;\">\n",
       "      <th></th>\n",
       "      <th>App</th>\n",
       "      <th>Category</th>\n",
       "      <th>Rating</th>\n",
       "      <th>Reviews</th>\n",
       "      <th>Size</th>\n",
       "      <th>Installs</th>\n",
       "      <th>Type</th>\n",
       "      <th>Price</th>\n",
       "      <th>Content Rating</th>\n",
       "      <th>Genres</th>\n",
       "      <th>Last Updated</th>\n",
       "      <th>Current Ver</th>\n",
       "      <th>Android Ver</th>\n",
       "    </tr>\n",
       "  </thead>\n",
       "  <tbody>\n",
       "    <tr>\n",
       "      <th>4221</th>\n",
       "      <td>Mobile Number Tracker</td>\n",
       "      <td>TOOLS</td>\n",
       "      <td>3.9</td>\n",
       "      <td>19758</td>\n",
       "      <td>2.9M</td>\n",
       "      <td>5,000,000+</td>\n",
       "      <td>Free</td>\n",
       "      <td>0</td>\n",
       "      <td>Everyone</td>\n",
       "      <td>Tools</td>\n",
       "      <td>January 14, 2018</td>\n",
       "      <td>2.7</td>\n",
       "      <td>4.0 and up</td>\n",
       "    </tr>\n",
       "    <tr>\n",
       "      <th>10512</th>\n",
       "      <td>Funny Jokes</td>\n",
       "      <td>FAMILY</td>\n",
       "      <td>3.9</td>\n",
       "      <td>2505</td>\n",
       "      <td>2.9M</td>\n",
       "      <td>100,000+</td>\n",
       "      <td>Free</td>\n",
       "      <td>0</td>\n",
       "      <td>Mature 17+</td>\n",
       "      <td>Entertainment</td>\n",
       "      <td>June 18, 2018</td>\n",
       "      <td>1.2</td>\n",
       "      <td>4.1 and up</td>\n",
       "    </tr>\n",
       "    <tr>\n",
       "      <th>8014</th>\n",
       "      <td>Morse Player</td>\n",
       "      <td>FAMILY</td>\n",
       "      <td>5.0</td>\n",
       "      <td>12</td>\n",
       "      <td>2.4M</td>\n",
       "      <td>100+</td>\n",
       "      <td>Paid</td>\n",
       "      <td>$1.99</td>\n",
       "      <td>Everyone</td>\n",
       "      <td>Education</td>\n",
       "      <td>January 23, 2017</td>\n",
       "      <td>2.1.1</td>\n",
       "      <td>3.0 and up</td>\n",
       "    </tr>\n",
       "    <tr>\n",
       "      <th>7210</th>\n",
       "      <td>Grim Tales: The Wishes CE</td>\n",
       "      <td>GAME</td>\n",
       "      <td>4.3</td>\n",
       "      <td>4923</td>\n",
       "      <td>20M</td>\n",
       "      <td>100,000+</td>\n",
       "      <td>Free</td>\n",
       "      <td>0</td>\n",
       "      <td>Everyone 10+</td>\n",
       "      <td>Adventure</td>\n",
       "      <td>August 26, 2015</td>\n",
       "      <td>1.0.0</td>\n",
       "      <td>2.3.3 and up</td>\n",
       "    </tr>\n",
       "    <tr>\n",
       "      <th>9218</th>\n",
       "      <td>EB Cash Collections</td>\n",
       "      <td>BUSINESS</td>\n",
       "      <td>5.0</td>\n",
       "      <td>1</td>\n",
       "      <td>4.3M</td>\n",
       "      <td>5+</td>\n",
       "      <td>Free</td>\n",
       "      <td>0</td>\n",
       "      <td>Everyone</td>\n",
       "      <td>Business</td>\n",
       "      <td>July 31, 2018</td>\n",
       "      <td>1.10</td>\n",
       "      <td>4.4 and up</td>\n",
       "    </tr>\n",
       "  </tbody>\n",
       "</table>\n",
       "</div>"
      ],
      "text/plain": [
       "                             App  Category  Rating Reviews  Size    Installs  \\\n",
       "4221       Mobile Number Tracker     TOOLS     3.9   19758  2.9M  5,000,000+   \n",
       "10512                Funny Jokes    FAMILY     3.9    2505  2.9M    100,000+   \n",
       "8014                Morse Player    FAMILY     5.0      12  2.4M        100+   \n",
       "7210   Grim Tales: The Wishes CE      GAME     4.3    4923   20M    100,000+   \n",
       "9218         EB Cash Collections  BUSINESS     5.0       1  4.3M          5+   \n",
       "\n",
       "       Type  Price Content Rating         Genres      Last Updated  \\\n",
       "4221   Free      0       Everyone          Tools  January 14, 2018   \n",
       "10512  Free      0     Mature 17+  Entertainment     June 18, 2018   \n",
       "8014   Paid  $1.99       Everyone      Education  January 23, 2017   \n",
       "7210   Free      0   Everyone 10+      Adventure   August 26, 2015   \n",
       "9218   Free      0       Everyone       Business     July 31, 2018   \n",
       "\n",
       "      Current Ver   Android Ver  \n",
       "4221          2.7    4.0 and up  \n",
       "10512         1.2    4.1 and up  \n",
       "8014        2.1.1    3.0 and up  \n",
       "7210        1.0.0  2.3.3 and up  \n",
       "9218         1.10    4.4 and up  "
      ]
     },
     "execution_count": 3,
     "metadata": {},
     "output_type": "execute_result"
    }
   ],
   "source": [
    "# our dataset consists of close to 11K apps and 13 variables\n",
    "df.sample(5)"
   ]
  },
  {
   "cell_type": "code",
   "execution_count": 4,
   "metadata": {},
   "outputs": [
    {
     "data": {
      "text/plain": [
       "(10841, 13)"
      ]
     },
     "execution_count": 4,
     "metadata": {},
     "output_type": "execute_result"
    }
   ],
   "source": [
    "df.shape"
   ]
  },
  {
   "cell_type": "markdown",
   "metadata": {},
   "source": [
    "# Data Cleaning"
   ]
  },
  {
   "cell_type": "code",
   "execution_count": 5,
   "metadata": {},
   "outputs": [],
   "source": [
    "# dropping row 10472 since the data is shifted for that record and it's a free app so we don't need it for this analysis\n",
    "df.drop(labels=10472, inplace=True)"
   ]
  },
  {
   "cell_type": "code",
   "execution_count": 6,
   "metadata": {},
   "outputs": [
    {
     "data": {
      "text/plain": [
       "App                object\n",
       "Category           object\n",
       "Rating            float64\n",
       "Reviews            object\n",
       "Size               object\n",
       "Installs           object\n",
       "Type               object\n",
       "Price              object\n",
       "Content Rating     object\n",
       "Genres             object\n",
       "Last Updated       object\n",
       "Current Ver        object\n",
       "Android Ver        object\n",
       "dtype: object"
      ]
     },
     "execution_count": 6,
     "metadata": {},
     "output_type": "execute_result"
    }
   ],
   "source": [
    "# some of these columns need to be integer type not objects\n",
    "df.dtypes"
   ]
  },
  {
   "cell_type": "code",
   "execution_count": 7,
   "metadata": {},
   "outputs": [],
   "source": [
    "# removing the $ from the price column and converting it to a float\n",
    "df['Price'] = df['Price'].str.replace('$','').astype('float')"
   ]
  },
  {
   "cell_type": "code",
   "execution_count": 8,
   "metadata": {},
   "outputs": [],
   "source": [
    "# making a new df with only paid apps\n",
    "paid = df[df['Price'] != 0].copy()"
   ]
  },
  {
   "cell_type": "code",
   "execution_count": 9,
   "metadata": {},
   "outputs": [
    {
     "data": {
      "text/plain": [
       "(800, 13)"
      ]
     },
     "execution_count": 9,
     "metadata": {},
     "output_type": "execute_result"
    }
   ],
   "source": [
    "paid.shape"
   ]
  },
  {
   "cell_type": "code",
   "execution_count": 10,
   "metadata": {},
   "outputs": [
    {
     "data": {
      "text/html": [
       "<div>\n",
       "<style scoped>\n",
       "    .dataframe tbody tr th:only-of-type {\n",
       "        vertical-align: middle;\n",
       "    }\n",
       "\n",
       "    .dataframe tbody tr th {\n",
       "        vertical-align: top;\n",
       "    }\n",
       "\n",
       "    .dataframe thead th {\n",
       "        text-align: right;\n",
       "    }\n",
       "</style>\n",
       "<table border=\"1\" class=\"dataframe\">\n",
       "  <thead>\n",
       "    <tr style=\"text-align: right;\">\n",
       "      <th></th>\n",
       "      <th>App</th>\n",
       "      <th>Category</th>\n",
       "      <th>Rating</th>\n",
       "      <th>Reviews</th>\n",
       "      <th>Size</th>\n",
       "      <th>Installs</th>\n",
       "      <th>Type</th>\n",
       "      <th>Price</th>\n",
       "      <th>Content Rating</th>\n",
       "      <th>Genres</th>\n",
       "      <th>Last Updated</th>\n",
       "      <th>Current Ver</th>\n",
       "      <th>Android Ver</th>\n",
       "    </tr>\n",
       "  </thead>\n",
       "  <tbody>\n",
       "    <tr>\n",
       "      <th>9728</th>\n",
       "      <td>Sonic 4™ Episode I</td>\n",
       "      <td>GAME</td>\n",
       "      <td>3.7</td>\n",
       "      <td>8014</td>\n",
       "      <td>37M</td>\n",
       "      <td>100,000+</td>\n",
       "      <td>Paid</td>\n",
       "      <td>2.99</td>\n",
       "      <td>Everyone</td>\n",
       "      <td>Arcade</td>\n",
       "      <td>April 4, 2016</td>\n",
       "      <td>1.5.0</td>\n",
       "      <td>2.2 and up</td>\n",
       "    </tr>\n",
       "    <tr>\n",
       "      <th>1835</th>\n",
       "      <td>Farming Simulator 18</td>\n",
       "      <td>GAME</td>\n",
       "      <td>4.5</td>\n",
       "      <td>18125</td>\n",
       "      <td>15M</td>\n",
       "      <td>100,000+</td>\n",
       "      <td>Paid</td>\n",
       "      <td>4.99</td>\n",
       "      <td>Everyone</td>\n",
       "      <td>Simulation;Education</td>\n",
       "      <td>July 9, 2018</td>\n",
       "      <td>Varies with device</td>\n",
       "      <td>4.4 and up</td>\n",
       "    </tr>\n",
       "    <tr>\n",
       "      <th>4882</th>\n",
       "      <td>Math games for kids : times tables training</td>\n",
       "      <td>FAMILY</td>\n",
       "      <td>4.5</td>\n",
       "      <td>630</td>\n",
       "      <td>8.3M</td>\n",
       "      <td>10,000+</td>\n",
       "      <td>Paid</td>\n",
       "      <td>1.59</td>\n",
       "      <td>Everyone</td>\n",
       "      <td>Educational;Education</td>\n",
       "      <td>July 27, 2018</td>\n",
       "      <td>3.9.3</td>\n",
       "      <td>4.0.3 and up</td>\n",
       "    </tr>\n",
       "  </tbody>\n",
       "</table>\n",
       "</div>"
      ],
      "text/plain": [
       "                                              App Category  Rating Reviews  \\\n",
       "9728                           Sonic 4™ Episode I     GAME     3.7    8014   \n",
       "1835                         Farming Simulator 18     GAME     4.5   18125   \n",
       "4882  Math games for kids : times tables training   FAMILY     4.5     630   \n",
       "\n",
       "      Size  Installs  Type  Price Content Rating                 Genres  \\\n",
       "9728   37M  100,000+  Paid   2.99       Everyone                 Arcade   \n",
       "1835   15M  100,000+  Paid   4.99       Everyone   Simulation;Education   \n",
       "4882  8.3M   10,000+  Paid   1.59       Everyone  Educational;Education   \n",
       "\n",
       "       Last Updated         Current Ver   Android Ver  \n",
       "9728  April 4, 2016               1.5.0    2.2 and up  \n",
       "1835   July 9, 2018  Varies with device    4.4 and up  \n",
       "4882  July 27, 2018               3.9.3  4.0.3 and up  "
      ]
     },
     "execution_count": 10,
     "metadata": {},
     "output_type": "execute_result"
    }
   ],
   "source": [
    "paid.sample(3)"
   ]
  },
  {
   "cell_type": "code",
   "execution_count": 11,
   "metadata": {},
   "outputs": [],
   "source": [
    "# droppping the Type and column\n",
    "paid.drop(columns='Type', inplace=True)"
   ]
  },
  {
   "cell_type": "code",
   "execution_count": 12,
   "metadata": {},
   "outputs": [],
   "source": [
    "paid['Reviews'] = paid['Reviews'].astype('int')"
   ]
  },
  {
   "cell_type": "code",
   "execution_count": 13,
   "metadata": {},
   "outputs": [
    {
     "name": "stdout",
     "output_type": "stream",
     "text": [
      "Number of rows before dropping duplicates: 800\n",
      "Number of rows after dropping duplicates: 765\n"
     ]
    }
   ],
   "source": [
    "# dropping duplicates\n",
    "print(\"Number of rows before dropping duplicates: {}\".format(paid.shape[0]))\n",
    "paid.drop_duplicates(inplace=True)\n",
    "print(\"Number of rows after dropping duplicates: {}\".format(paid.shape[0]))"
   ]
  },
  {
   "cell_type": "code",
   "execution_count": 14,
   "metadata": {},
   "outputs": [
    {
     "data": {
      "text/plain": [
       "9"
      ]
     },
     "execution_count": 14,
     "metadata": {},
     "output_type": "execute_result"
    }
   ],
   "source": [
    "# checking by App name reveals there are still a few duplicates based on bad cagtegory data\n",
    "paid.duplicated(subset='App').sum()"
   ]
  },
  {
   "cell_type": "code",
   "execution_count": 15,
   "metadata": {},
   "outputs": [
    {
     "data": {
      "text/html": [
       "<div>\n",
       "<style scoped>\n",
       "    .dataframe tbody tr th:only-of-type {\n",
       "        vertical-align: middle;\n",
       "    }\n",
       "\n",
       "    .dataframe tbody tr th {\n",
       "        vertical-align: top;\n",
       "    }\n",
       "\n",
       "    .dataframe thead th {\n",
       "        text-align: right;\n",
       "    }\n",
       "</style>\n",
       "<table border=\"1\" class=\"dataframe\">\n",
       "  <thead>\n",
       "    <tr style=\"text-align: right;\">\n",
       "      <th></th>\n",
       "      <th>App</th>\n",
       "      <th>Category</th>\n",
       "      <th>Rating</th>\n",
       "      <th>Reviews</th>\n",
       "      <th>Size</th>\n",
       "      <th>Installs</th>\n",
       "      <th>Price</th>\n",
       "      <th>Content Rating</th>\n",
       "      <th>Genres</th>\n",
       "      <th>Last Updated</th>\n",
       "      <th>Current Ver</th>\n",
       "      <th>Android Ver</th>\n",
       "    </tr>\n",
       "  </thead>\n",
       "  <tbody>\n",
       "    <tr>\n",
       "      <th>2151</th>\n",
       "      <td>Toca Life: City</td>\n",
       "      <td>FAMILY</td>\n",
       "      <td>4.7</td>\n",
       "      <td>31100</td>\n",
       "      <td>24M</td>\n",
       "      <td>500,000+</td>\n",
       "      <td>3.99</td>\n",
       "      <td>Everyone</td>\n",
       "      <td>Education;Pretend Play</td>\n",
       "      <td>July 6, 2018</td>\n",
       "      <td>1.5-play</td>\n",
       "      <td>4.4 and up</td>\n",
       "    </tr>\n",
       "    <tr>\n",
       "      <th>4301</th>\n",
       "      <td>Fuzzy Numbers: Pre-K Number Foundation</td>\n",
       "      <td>FAMILY</td>\n",
       "      <td>4.7</td>\n",
       "      <td>21</td>\n",
       "      <td>44M</td>\n",
       "      <td>1,000+</td>\n",
       "      <td>5.99</td>\n",
       "      <td>Everyone</td>\n",
       "      <td>Education;Education</td>\n",
       "      <td>July 21, 2017</td>\n",
       "      <td>1.3</td>\n",
       "      <td>4.1 and up</td>\n",
       "    </tr>\n",
       "  </tbody>\n",
       "</table>\n",
       "</div>"
      ],
      "text/plain": [
       "                                         App Category  Rating  Reviews Size  \\\n",
       "2151                         Toca Life: City   FAMILY     4.7    31100  24M   \n",
       "4301  Fuzzy Numbers: Pre-K Number Foundation   FAMILY     4.7       21  44M   \n",
       "\n",
       "      Installs  Price Content Rating                  Genres   Last Updated  \\\n",
       "2151  500,000+   3.99       Everyone  Education;Pretend Play   July 6, 2018   \n",
       "4301    1,000+   5.99       Everyone     Education;Education  July 21, 2017   \n",
       "\n",
       "     Current Ver Android Ver  \n",
       "2151    1.5-play  4.4 and up  \n",
       "4301         1.3  4.1 and up  "
      ]
     },
     "execution_count": 15,
     "metadata": {},
     "output_type": "execute_result"
    }
   ],
   "source": [
    "app_mask = paid[\"App\"].isin(\n",
    "    [\"Fuzzy Numbers: Pre-K Number Foundation\", \"Toca Life: City\"]\n",
    ")\n",
    "\n",
    "category_mask = paid[\"Category\"] == \"FAMILY\"\n",
    "paid[app_mask & category_mask]"
   ]
  },
  {
   "cell_type": "code",
   "execution_count": 16,
   "metadata": {},
   "outputs": [
    {
     "data": {
      "text/plain": [
       "7"
      ]
     },
     "execution_count": 16,
     "metadata": {},
     "output_type": "execute_result"
    }
   ],
   "source": [
    "# we need to drop the two rows above\n",
    "paid.drop([2151, 4301], inplace=True)\n",
    "paid.duplicated(subset='App').sum()"
   ]
  },
  {
   "cell_type": "code",
   "execution_count": 17,
   "metadata": {},
   "outputs": [],
   "source": [
    "# we still have some other dups to drop\n",
    "paid.sort_values(by='Reviews', ascending=False, inplace=True)"
   ]
  },
  {
   "cell_type": "code",
   "execution_count": 18,
   "metadata": {},
   "outputs": [],
   "source": [
    "# dropping all duplicates and keeping the record with the highets reviews (since we sorted already)\n",
    "paid.drop_duplicates(subset='App', keep='first', inplace=True)"
   ]
  },
  {
   "cell_type": "code",
   "execution_count": 19,
   "metadata": {},
   "outputs": [
    {
     "data": {
      "text/plain": [
       "0"
      ]
     },
     "execution_count": 19,
     "metadata": {},
     "output_type": "execute_result"
    }
   ],
   "source": [
    "# checking one last time to make sure all duplicates have been eliminated\n",
    "paid.duplicated('App').sum()"
   ]
  },
  {
   "cell_type": "code",
   "execution_count": 20,
   "metadata": {},
   "outputs": [],
   "source": [
    "# resetting the index and dropping the old index\n",
    "paid.reset_index(drop=True, inplace=True)"
   ]
  },
  {
   "cell_type": "code",
   "execution_count": 21,
   "metadata": {},
   "outputs": [
    {
     "data": {
      "text/plain": [
       "(756, 12)"
      ]
     },
     "execution_count": 21,
     "metadata": {},
     "output_type": "execute_result"
    }
   ],
   "source": [
    "paid.shape"
   ]
  },
  {
   "cell_type": "markdown",
   "metadata": {},
   "source": [
    "### Data Exploration"
   ]
  },
  {
   "cell_type": "code",
   "execution_count": 22,
   "metadata": {},
   "outputs": [
    {
     "data": {
      "text/plain": [
       "array([[<matplotlib.axes._subplots.AxesSubplot object at 0x0000027983F0D9B0>]],\n",
       "      dtype=object)"
      ]
     },
     "execution_count": 22,
     "metadata": {},
     "output_type": "execute_result"
    }
   ],
   "source": [
    "# plotting the price column shows us the data is heavily skewed to the left \n",
    "paid.hist(column='Price', grid=False, figsize=(12, 6))"
   ]
  },
  {
   "cell_type": "code",
   "execution_count": 23,
   "metadata": {},
   "outputs": [
    {
     "data": {
      "text/html": [
       "<div>\n",
       "<style scoped>\n",
       "    .dataframe tbody tr th:only-of-type {\n",
       "        vertical-align: middle;\n",
       "    }\n",
       "\n",
       "    .dataframe tbody tr th {\n",
       "        vertical-align: top;\n",
       "    }\n",
       "\n",
       "    .dataframe thead th {\n",
       "        text-align: right;\n",
       "    }\n",
       "</style>\n",
       "<table border=\"1\" class=\"dataframe\">\n",
       "  <thead>\n",
       "    <tr style=\"text-align: right;\">\n",
       "      <th></th>\n",
       "      <th>App</th>\n",
       "      <th>Category</th>\n",
       "      <th>Rating</th>\n",
       "      <th>Reviews</th>\n",
       "      <th>Size</th>\n",
       "      <th>Installs</th>\n",
       "      <th>Price</th>\n",
       "      <th>Content Rating</th>\n",
       "      <th>Genres</th>\n",
       "      <th>Last Updated</th>\n",
       "      <th>Current Ver</th>\n",
       "      <th>Android Ver</th>\n",
       "    </tr>\n",
       "  </thead>\n",
       "  <tbody>\n",
       "    <tr>\n",
       "      <th>277</th>\n",
       "      <td>I'm Rich - Trump Edition</td>\n",
       "      <td>LIFESTYLE</td>\n",
       "      <td>3.6</td>\n",
       "      <td>275</td>\n",
       "      <td>7.3M</td>\n",
       "      <td>10,000+</td>\n",
       "      <td>400.00</td>\n",
       "      <td>Everyone</td>\n",
       "      <td>Lifestyle</td>\n",
       "      <td>May 3, 2018</td>\n",
       "      <td>1.0.1</td>\n",
       "      <td>4.1 and up</td>\n",
       "    </tr>\n",
       "    <tr>\n",
       "      <th>207</th>\n",
       "      <td>I am Rich Plus</td>\n",
       "      <td>FAMILY</td>\n",
       "      <td>4.0</td>\n",
       "      <td>856</td>\n",
       "      <td>8.7M</td>\n",
       "      <td>10,000+</td>\n",
       "      <td>399.99</td>\n",
       "      <td>Everyone</td>\n",
       "      <td>Entertainment</td>\n",
       "      <td>May 19, 2018</td>\n",
       "      <td>3.0</td>\n",
       "      <td>4.4 and up</td>\n",
       "    </tr>\n",
       "    <tr>\n",
       "      <th>355</th>\n",
       "      <td>I am rich (Most expensive app)</td>\n",
       "      <td>FINANCE</td>\n",
       "      <td>4.1</td>\n",
       "      <td>129</td>\n",
       "      <td>2.7M</td>\n",
       "      <td>1,000+</td>\n",
       "      <td>399.99</td>\n",
       "      <td>Teen</td>\n",
       "      <td>Finance</td>\n",
       "      <td>December 6, 2017</td>\n",
       "      <td>2</td>\n",
       "      <td>4.0.3 and up</td>\n",
       "    </tr>\n",
       "    <tr>\n",
       "      <th>371</th>\n",
       "      <td>I am Rich!</td>\n",
       "      <td>FINANCE</td>\n",
       "      <td>3.8</td>\n",
       "      <td>93</td>\n",
       "      <td>22M</td>\n",
       "      <td>1,000+</td>\n",
       "      <td>399.99</td>\n",
       "      <td>Everyone</td>\n",
       "      <td>Finance</td>\n",
       "      <td>December 11, 2017</td>\n",
       "      <td>1.0</td>\n",
       "      <td>4.1 and up</td>\n",
       "    </tr>\n",
       "    <tr>\n",
       "      <th>155</th>\n",
       "      <td>I Am Rich Premium</td>\n",
       "      <td>FINANCE</td>\n",
       "      <td>4.1</td>\n",
       "      <td>1867</td>\n",
       "      <td>4.7M</td>\n",
       "      <td>50,000+</td>\n",
       "      <td>399.99</td>\n",
       "      <td>Everyone</td>\n",
       "      <td>Finance</td>\n",
       "      <td>November 12, 2017</td>\n",
       "      <td>1.6</td>\n",
       "      <td>4.0 and up</td>\n",
       "    </tr>\n",
       "  </tbody>\n",
       "</table>\n",
       "</div>"
      ],
      "text/plain": [
       "                                App   Category  Rating  Reviews  Size  \\\n",
       "277        I'm Rich - Trump Edition  LIFESTYLE     3.6      275  7.3M   \n",
       "207                  I am Rich Plus     FAMILY     4.0      856  8.7M   \n",
       "355  I am rich (Most expensive app)    FINANCE     4.1      129  2.7M   \n",
       "371                      I am Rich!    FINANCE     3.8       93   22M   \n",
       "155               I Am Rich Premium    FINANCE     4.1     1867  4.7M   \n",
       "\n",
       "    Installs   Price Content Rating         Genres       Last Updated  \\\n",
       "277  10,000+  400.00       Everyone      Lifestyle        May 3, 2018   \n",
       "207  10,000+  399.99       Everyone  Entertainment       May 19, 2018   \n",
       "355   1,000+  399.99           Teen        Finance   December 6, 2017   \n",
       "371   1,000+  399.99       Everyone        Finance  December 11, 2017   \n",
       "155  50,000+  399.99       Everyone        Finance  November 12, 2017   \n",
       "\n",
       "    Current Ver   Android Ver  \n",
       "277       1.0.1    4.1 and up  \n",
       "207         3.0    4.4 and up  \n",
       "355           2  4.0.3 and up  \n",
       "371         1.0    4.1 and up  \n",
       "155         1.6    4.0 and up  "
      ]
     },
     "execution_count": 23,
     "metadata": {},
     "output_type": "execute_result"
    }
   ],
   "source": [
    "# looking at high prices\n",
    "paid.sort_values(by='Price', ascending=False).head(5)"
   ]
  },
  {
   "cell_type": "code",
   "execution_count": 24,
   "metadata": {},
   "outputs": [],
   "source": [
    "# restricting our analysis to apps under $50 to disregard outliers and capture most of the data\n",
    "affordable_apps = paid[paid['Price'] < 50].copy()"
   ]
  },
  {
   "cell_type": "code",
   "execution_count": 25,
   "metadata": {},
   "outputs": [
    {
     "data": {
      "text/plain": [
       "array([[<matplotlib.axes._subplots.AxesSubplot object at 0x00000279850899E8>]],\n",
       "      dtype=object)"
      ]
     },
     "execution_count": 25,
     "metadata": {},
     "output_type": "execute_result"
    },
    {
     "data": {
      "image/png": "[encoded data removed]",
      "text/plain": [
       "<Figure size 864x432 with 1 Axes>"
      ]
     },
     "metadata": {
      "needs_background": "light"
     },
     "output_type": "display_data"
    }
   ],
   "source": [
    "# plotting the distribution still shows a heavy skew to the left\n",
    "affordable_apps.hist(column='Price', grid=False, figsize=(12,6))"
   ]
  },
  {
   "cell_type": "code",
   "execution_count": 26,
   "metadata": {},
   "outputs": [],
   "source": [
    "# the data is still skewed so let's create a mask for cheap apps that cost less than $5\n",
    "cheap = affordable_apps['Price'] < 5\n",
    "reasonable = affordable_apps['Price'] >= 5"
   ]
  },
  {
   "cell_type": "code",
   "execution_count": 27,
   "metadata": {},
   "outputs": [
    {
     "data": {
      "text/plain": [
       "array([[<matplotlib.axes._subplots.AxesSubplot object at 0x000002798513C128>]],\n",
       "      dtype=object)"
      ]
     },
     "execution_count": 27,
     "metadata": {},
     "output_type": "execute_result"
    },
    {
     "data": {
      "image/png": "[encoded data removed]",
      "text/plain": [
       "<Figure size 864x432 with 1 Axes>"
      ]
     },
     "metadata": {
      "needs_background": "light"
     },
     "output_type": "display_data"
    }
   ],
   "source": [
    "# plotting the cheap apps shows a distribution around 1,2,3,4,5 $ prices\n",
    "affordable_apps[cheap].hist(column='Price', grid=False, figsize=(12,6))"
   ]
  },
  {
   "cell_type": "code",
   "execution_count": 28,
   "metadata": {},
   "outputs": [
    {
     "data": {
      "text/plain": [
       "array([[<matplotlib.axes._subplots.AxesSubplot object at 0x0000027985133438>]],\n",
       "      dtype=object)"
      ]
     },
     "execution_count": 28,
     "metadata": {},
     "output_type": "execute_result"
    },
    {
     "data": {
      "image/png": "[encoded data removed]",
      "text/plain": [
       "<Figure size 864x432 with 1 Axes>"
      ]
     },
     "metadata": {
      "needs_background": "light"
     },
     "output_type": "display_data"
    }
   ],
   "source": [
    "# plotting our reasonable apps shows less of a skew\n",
    "affordable_apps[reasonable].hist(column='Price', grid=False, figsize=(12,6))"
   ]
  },
  {
   "cell_type": "code",
   "execution_count": 29,
   "metadata": {},
   "outputs": [],
   "source": [
    "# creating a new column based on our masks with value of 'cheap' if < 5 and 'reasonable' otherwise\n",
    "affordable_apps['affordability'] = affordable_apps['Price'].apply(lambda x: 'cheap' if x < 5 else  'reasonable')"
   ]
  },
  {
   "cell_type": "code",
   "execution_count": 30,
   "metadata": {},
   "outputs": [
    {
     "data": {
      "text/html": [
       "<div>\n",
       "<style scoped>\n",
       "    .dataframe tbody tr th:only-of-type {\n",
       "        vertical-align: middle;\n",
       "    }\n",
       "\n",
       "    .dataframe tbody tr th {\n",
       "        vertical-align: top;\n",
       "    }\n",
       "\n",
       "    .dataframe thead th {\n",
       "        text-align: right;\n",
       "    }\n",
       "</style>\n",
       "<table border=\"1\" class=\"dataframe\">\n",
       "  <thead>\n",
       "    <tr style=\"text-align: right;\">\n",
       "      <th></th>\n",
       "      <th>App</th>\n",
       "      <th>Category</th>\n",
       "      <th>Rating</th>\n",
       "      <th>Reviews</th>\n",
       "      <th>Size</th>\n",
       "      <th>Installs</th>\n",
       "      <th>Price</th>\n",
       "      <th>Content Rating</th>\n",
       "      <th>Genres</th>\n",
       "      <th>Last Updated</th>\n",
       "      <th>Current Ver</th>\n",
       "      <th>Android Ver</th>\n",
       "      <th>affordability</th>\n",
       "    </tr>\n",
       "  </thead>\n",
       "  <tbody>\n",
       "    <tr>\n",
       "      <th>0</th>\n",
       "      <td>Minecraft</td>\n",
       "      <td>FAMILY</td>\n",
       "      <td>4.5</td>\n",
       "      <td>2376564</td>\n",
       "      <td>Varies with device</td>\n",
       "      <td>10,000,000+</td>\n",
       "      <td>6.99</td>\n",
       "      <td>Everyone 10+</td>\n",
       "      <td>Arcade;Action &amp; Adventure</td>\n",
       "      <td>July 24, 2018</td>\n",
       "      <td>1.5.2.1</td>\n",
       "      <td>Varies with device</td>\n",
       "      <td>reasonable</td>\n",
       "    </tr>\n",
       "    <tr>\n",
       "      <th>1</th>\n",
       "      <td>Hitman Sniper</td>\n",
       "      <td>GAME</td>\n",
       "      <td>4.6</td>\n",
       "      <td>408292</td>\n",
       "      <td>29M</td>\n",
       "      <td>10,000,000+</td>\n",
       "      <td>0.99</td>\n",
       "      <td>Mature 17+</td>\n",
       "      <td>Action</td>\n",
       "      <td>July 12, 2018</td>\n",
       "      <td>1.7.110758</td>\n",
       "      <td>4.1 and up</td>\n",
       "      <td>cheap</td>\n",
       "    </tr>\n",
       "    <tr>\n",
       "      <th>2</th>\n",
       "      <td>Grand Theft Auto: San Andreas</td>\n",
       "      <td>GAME</td>\n",
       "      <td>4.4</td>\n",
       "      <td>348962</td>\n",
       "      <td>26M</td>\n",
       "      <td>1,000,000+</td>\n",
       "      <td>6.99</td>\n",
       "      <td>Mature 17+</td>\n",
       "      <td>Action</td>\n",
       "      <td>March 21, 2015</td>\n",
       "      <td>1.08</td>\n",
       "      <td>3.0 and up</td>\n",
       "      <td>reasonable</td>\n",
       "    </tr>\n",
       "    <tr>\n",
       "      <th>3</th>\n",
       "      <td>Bloons TD 5</td>\n",
       "      <td>FAMILY</td>\n",
       "      <td>4.6</td>\n",
       "      <td>190086</td>\n",
       "      <td>94M</td>\n",
       "      <td>1,000,000+</td>\n",
       "      <td>2.99</td>\n",
       "      <td>Everyone</td>\n",
       "      <td>Strategy</td>\n",
       "      <td>July 13, 2018</td>\n",
       "      <td>3.16</td>\n",
       "      <td>2.3.3 and up</td>\n",
       "      <td>cheap</td>\n",
       "    </tr>\n",
       "    <tr>\n",
       "      <th>4</th>\n",
       "      <td>Where's My Water?</td>\n",
       "      <td>FAMILY</td>\n",
       "      <td>4.7</td>\n",
       "      <td>188740</td>\n",
       "      <td>69M</td>\n",
       "      <td>1,000,000+</td>\n",
       "      <td>1.99</td>\n",
       "      <td>Everyone</td>\n",
       "      <td>Puzzle;Brain Games</td>\n",
       "      <td>July 5, 2018</td>\n",
       "      <td>1.16.0</td>\n",
       "      <td>4.2 and up</td>\n",
       "      <td>cheap</td>\n",
       "    </tr>\n",
       "  </tbody>\n",
       "</table>\n",
       "</div>"
      ],
      "text/plain": [
       "                             App Category  Rating  Reviews  \\\n",
       "0                      Minecraft   FAMILY     4.5  2376564   \n",
       "1                  Hitman Sniper     GAME     4.6   408292   \n",
       "2  Grand Theft Auto: San Andreas     GAME     4.4   348962   \n",
       "3                    Bloons TD 5   FAMILY     4.6   190086   \n",
       "4              Where's My Water?   FAMILY     4.7   188740   \n",
       "\n",
       "                 Size     Installs  Price Content Rating  \\\n",
       "0  Varies with device  10,000,000+   6.99   Everyone 10+   \n",
       "1                 29M  10,000,000+   0.99     Mature 17+   \n",
       "2                 26M   1,000,000+   6.99     Mature 17+   \n",
       "3                 94M   1,000,000+   2.99       Everyone   \n",
       "4                 69M   1,000,000+   1.99       Everyone   \n",
       "\n",
       "                      Genres    Last Updated Current Ver         Android Ver  \\\n",
       "0  Arcade;Action & Adventure   July 24, 2018     1.5.2.1  Varies with device   \n",
       "1                     Action   July 12, 2018  1.7.110758          4.1 and up   \n",
       "2                     Action  March 21, 2015        1.08          3.0 and up   \n",
       "3                   Strategy   July 13, 2018        3.16        2.3.3 and up   \n",
       "4         Puzzle;Brain Games    July 5, 2018      1.16.0          4.2 and up   \n",
       "\n",
       "  affordability  \n",
       "0    reasonable  \n",
       "1         cheap  \n",
       "2    reasonable  \n",
       "3         cheap  \n",
       "4         cheap  "
      ]
     },
     "execution_count": 30,
     "metadata": {},
     "output_type": "execute_result"
    }
   ],
   "source": [
    "affordable_apps.head()"
   ]
  },
  {
   "cell_type": "code",
   "execution_count": 31,
   "metadata": {},
   "outputs": [
    {
     "data": {
      "text/plain": [
       "<matplotlib.axes._subplots.AxesSubplot at 0x279851fe8d0>"
      ]
     },
     "execution_count": 31,
     "metadata": {},
     "output_type": "execute_result"
    },
    {
     "data": {
      "image/png": "[encoded data removed]",
      "text/plain": [
       "<Figure size 432x288 with 1 Axes>"
      ]
     },
     "metadata": {
      "needs_background": "light"
     },
     "output_type": "display_data"
    }
   ],
   "source": [
    "# plotting price vs rating for cheap apps doesn't show a clear correlation\n",
    "affordable_apps[cheap].plot(kind='scatter', x='Price', y='Rating')"
   ]
  },
  {
   "cell_type": "code",
   "execution_count": 32,
   "metadata": {},
   "outputs": [
    {
     "data": {
      "text/plain": [
       "-0.05593771505463038"
      ]
     },
     "execution_count": 32,
     "metadata": {},
     "output_type": "execute_result"
    }
   ],
   "source": [
    "# let's figure out the correlation between price and rating\n",
    "affordable_apps[cheap].corr().loc['Rating', 'Price']"
   ]
  },
  {
   "cell_type": "code",
   "execution_count": 33,
   "metadata": {},
   "outputs": [
    {
     "data": {
      "text/plain": [
       "2.580318791946309"
      ]
     },
     "execution_count": 33,
     "metadata": {},
     "output_type": "execute_result"
    }
   ],
   "source": [
    "# since there is very little correlation we should be able to change the cost of apps with a price less than \n",
    "# the mean to the mean wihtout impacting teh ratings\n",
    "cheap_mean = affordable_apps[cheap]['Price'].mean()\n",
    "cheap_mean"
   ]
  },
  {
   "cell_type": "code",
   "execution_count": 34,
   "metadata": {},
   "outputs": [],
   "source": [
    "# adding a new column that flags those apps that are less than the cheap mean price\n",
    "affordable_apps['price_criterion'] = affordable_apps[cheap]['Price'].apply(lambda x: 1 if x < cheap_mean else 0)"
   ]
  },
  {
   "cell_type": "code",
   "execution_count": 35,
   "metadata": {},
   "outputs": [
    {
     "data": {
      "text/html": [
       "<div>\n",
       "<style scoped>\n",
       "    .dataframe tbody tr th:only-of-type {\n",
       "        vertical-align: middle;\n",
       "    }\n",
       "\n",
       "    .dataframe tbody tr th {\n",
       "        vertical-align: top;\n",
       "    }\n",
       "\n",
       "    .dataframe thead th {\n",
       "        text-align: right;\n",
       "    }\n",
       "</style>\n",
       "<table border=\"1\" class=\"dataframe\">\n",
       "  <thead>\n",
       "    <tr style=\"text-align: right;\">\n",
       "      <th></th>\n",
       "      <th>App</th>\n",
       "      <th>Category</th>\n",
       "      <th>Rating</th>\n",
       "      <th>Reviews</th>\n",
       "      <th>Size</th>\n",
       "      <th>Installs</th>\n",
       "      <th>Price</th>\n",
       "      <th>Content Rating</th>\n",
       "      <th>Genres</th>\n",
       "      <th>Last Updated</th>\n",
       "      <th>Current Ver</th>\n",
       "      <th>Android Ver</th>\n",
       "      <th>affordability</th>\n",
       "      <th>price_criterion</th>\n",
       "    </tr>\n",
       "  </thead>\n",
       "  <tbody>\n",
       "    <tr>\n",
       "      <th>0</th>\n",
       "      <td>Minecraft</td>\n",
       "      <td>FAMILY</td>\n",
       "      <td>4.5</td>\n",
       "      <td>2376564</td>\n",
       "      <td>Varies with device</td>\n",
       "      <td>10,000,000+</td>\n",
       "      <td>6.99</td>\n",
       "      <td>Everyone 10+</td>\n",
       "      <td>Arcade;Action &amp; Adventure</td>\n",
       "      <td>July 24, 2018</td>\n",
       "      <td>1.5.2.1</td>\n",
       "      <td>Varies with device</td>\n",
       "      <td>reasonable</td>\n",
       "      <td>NaN</td>\n",
       "    </tr>\n",
       "    <tr>\n",
       "      <th>1</th>\n",
       "      <td>Hitman Sniper</td>\n",
       "      <td>GAME</td>\n",
       "      <td>4.6</td>\n",
       "      <td>408292</td>\n",
       "      <td>29M</td>\n",
       "      <td>10,000,000+</td>\n",
       "      <td>0.99</td>\n",
       "      <td>Mature 17+</td>\n",
       "      <td>Action</td>\n",
       "      <td>July 12, 2018</td>\n",
       "      <td>1.7.110758</td>\n",
       "      <td>4.1 and up</td>\n",
       "      <td>cheap</td>\n",
       "      <td>1.0</td>\n",
       "    </tr>\n",
       "    <tr>\n",
       "      <th>2</th>\n",
       "      <td>Grand Theft Auto: San Andreas</td>\n",
       "      <td>GAME</td>\n",
       "      <td>4.4</td>\n",
       "      <td>348962</td>\n",
       "      <td>26M</td>\n",
       "      <td>1,000,000+</td>\n",
       "      <td>6.99</td>\n",
       "      <td>Mature 17+</td>\n",
       "      <td>Action</td>\n",
       "      <td>March 21, 2015</td>\n",
       "      <td>1.08</td>\n",
       "      <td>3.0 and up</td>\n",
       "      <td>reasonable</td>\n",
       "      <td>NaN</td>\n",
       "    </tr>\n",
       "    <tr>\n",
       "      <th>3</th>\n",
       "      <td>Bloons TD 5</td>\n",
       "      <td>FAMILY</td>\n",
       "      <td>4.6</td>\n",
       "      <td>190086</td>\n",
       "      <td>94M</td>\n",
       "      <td>1,000,000+</td>\n",
       "      <td>2.99</td>\n",
       "      <td>Everyone</td>\n",
       "      <td>Strategy</td>\n",
       "      <td>July 13, 2018</td>\n",
       "      <td>3.16</td>\n",
       "      <td>2.3.3 and up</td>\n",
       "      <td>cheap</td>\n",
       "      <td>0.0</td>\n",
       "    </tr>\n",
       "    <tr>\n",
       "      <th>4</th>\n",
       "      <td>Where's My Water?</td>\n",
       "      <td>FAMILY</td>\n",
       "      <td>4.7</td>\n",
       "      <td>188740</td>\n",
       "      <td>69M</td>\n",
       "      <td>1,000,000+</td>\n",
       "      <td>1.99</td>\n",
       "      <td>Everyone</td>\n",
       "      <td>Puzzle;Brain Games</td>\n",
       "      <td>July 5, 2018</td>\n",
       "      <td>1.16.0</td>\n",
       "      <td>4.2 and up</td>\n",
       "      <td>cheap</td>\n",
       "      <td>1.0</td>\n",
       "    </tr>\n",
       "  </tbody>\n",
       "</table>\n",
       "</div>"
      ],
      "text/plain": [
       "                             App Category  Rating  Reviews  \\\n",
       "0                      Minecraft   FAMILY     4.5  2376564   \n",
       "1                  Hitman Sniper     GAME     4.6   408292   \n",
       "2  Grand Theft Auto: San Andreas     GAME     4.4   348962   \n",
       "3                    Bloons TD 5   FAMILY     4.6   190086   \n",
       "4              Where's My Water?   FAMILY     4.7   188740   \n",
       "\n",
       "                 Size     Installs  Price Content Rating  \\\n",
       "0  Varies with device  10,000,000+   6.99   Everyone 10+   \n",
       "1                 29M  10,000,000+   0.99     Mature 17+   \n",
       "2                 26M   1,000,000+   6.99     Mature 17+   \n",
       "3                 94M   1,000,000+   2.99       Everyone   \n",
       "4                 69M   1,000,000+   1.99       Everyone   \n",
       "\n",
       "                      Genres    Last Updated Current Ver         Android Ver  \\\n",
       "0  Arcade;Action & Adventure   July 24, 2018     1.5.2.1  Varies with device   \n",
       "1                     Action   July 12, 2018  1.7.110758          4.1 and up   \n",
       "2                     Action  March 21, 2015        1.08          3.0 and up   \n",
       "3                   Strategy   July 13, 2018        3.16        2.3.3 and up   \n",
       "4         Puzzle;Brain Games    July 5, 2018      1.16.0          4.2 and up   \n",
       "\n",
       "  affordability  price_criterion  \n",
       "0    reasonable              NaN  \n",
       "1         cheap              1.0  \n",
       "2    reasonable              NaN  \n",
       "3         cheap              0.0  \n",
       "4         cheap              1.0  "
      ]
     },
     "execution_count": 35,
     "metadata": {},
     "output_type": "execute_result"
    }
   ],
   "source": [
    "affordable_apps.head()"
   ]
  },
  {
   "cell_type": "code",
   "execution_count": 36,
   "metadata": {},
   "outputs": [
    {
     "data": {
      "text/plain": [
       "<matplotlib.axes._subplots.AxesSubplot at 0x279852920f0>"
      ]
     },
     "execution_count": 36,
     "metadata": {},
     "output_type": "execute_result"
    },
    {
     "data": {
      "image/png": "[encoded data removed]",
      "text/plain": [
       "<Figure size 432x288 with 1 Axes>"
      ]
     },
     "metadata": {
      "needs_background": "light"
     },
     "output_type": "display_data"
    }
   ],
   "source": [
    "# plotting price vs rating for reasonable apps also doesn't show a clear correlation\n",
    "affordable_apps[reasonable].plot(kind='scatter', x='Price', y='Rating')"
   ]
  },
  {
   "cell_type": "code",
   "execution_count": 37,
   "metadata": {},
   "outputs": [
    {
     "data": {
      "text/plain": [
       "-0.048609647085130735"
      ]
     },
     "execution_count": 37,
     "metadata": {},
     "output_type": "execute_result"
    }
   ],
   "source": [
    "# the correlation for reasonable apps is also very low\n",
    "affordable_apps[reasonable].corr().loc['Rating', 'Price']"
   ]
  },
  {
   "cell_type": "code",
   "execution_count": 38,
   "metadata": {},
   "outputs": [
    {
     "data": {
      "text/plain": [
       "12.44868613138686"
      ]
     },
     "execution_count": 38,
     "metadata": {},
     "output_type": "execute_result"
    }
   ],
   "source": [
    "# finding the mean of the reasonable subset\n",
    "reasonable_mean = affordable_apps[reasonable]['Price'].mean()\n",
    "reasonable_mean"
   ]
  },
  {
   "cell_type": "code",
   "execution_count": 39,
   "metadata": {},
   "outputs": [],
   "source": [
    "# flagging the reasonable apps that are less than the reasonable mean\n",
    "affordable_apps.loc[reasonable,'price_criterion'] = affordable_apps['Price'].apply(lambda x: 1 if x < reasonable_mean else 0)"
   ]
  },
  {
   "cell_type": "code",
   "execution_count": 40,
   "metadata": {},
   "outputs": [
    {
     "data": {
      "text/html": [
       "<div>\n",
       "<style scoped>\n",
       "    .dataframe tbody tr th:only-of-type {\n",
       "        vertical-align: middle;\n",
       "    }\n",
       "\n",
       "    .dataframe tbody tr th {\n",
       "        vertical-align: top;\n",
       "    }\n",
       "\n",
       "    .dataframe thead th {\n",
       "        text-align: right;\n",
       "    }\n",
       "</style>\n",
       "<table border=\"1\" class=\"dataframe\">\n",
       "  <thead>\n",
       "    <tr style=\"text-align: right;\">\n",
       "      <th></th>\n",
       "      <th>App</th>\n",
       "      <th>Category</th>\n",
       "      <th>Rating</th>\n",
       "      <th>Reviews</th>\n",
       "      <th>Size</th>\n",
       "      <th>Installs</th>\n",
       "      <th>Price</th>\n",
       "      <th>Content Rating</th>\n",
       "      <th>Genres</th>\n",
       "      <th>Last Updated</th>\n",
       "      <th>Current Ver</th>\n",
       "      <th>Android Ver</th>\n",
       "      <th>affordability</th>\n",
       "      <th>price_criterion</th>\n",
       "    </tr>\n",
       "  </thead>\n",
       "  <tbody>\n",
       "    <tr>\n",
       "      <th>698</th>\n",
       "      <td>Private Dating, Hide App- Blue for PrivacyHider</td>\n",
       "      <td>DATING</td>\n",
       "      <td>NaN</td>\n",
       "      <td>0</td>\n",
       "      <td>18k</td>\n",
       "      <td>100+</td>\n",
       "      <td>2.99</td>\n",
       "      <td>Everyone</td>\n",
       "      <td>Dating</td>\n",
       "      <td>July 25, 2017</td>\n",
       "      <td>1.0.1</td>\n",
       "      <td>4.0 and up</td>\n",
       "      <td>cheap</td>\n",
       "      <td>0.0</td>\n",
       "    </tr>\n",
       "    <tr>\n",
       "      <th>315</th>\n",
       "      <td>Dots puzzle</td>\n",
       "      <td>FAMILY</td>\n",
       "      <td>4.0</td>\n",
       "      <td>179</td>\n",
       "      <td>14M</td>\n",
       "      <td>50,000+</td>\n",
       "      <td>0.99</td>\n",
       "      <td>Everyone</td>\n",
       "      <td>Puzzle</td>\n",
       "      <td>April 18, 2018</td>\n",
       "      <td>NaN</td>\n",
       "      <td>4.0 and up</td>\n",
       "      <td>cheap</td>\n",
       "      <td>1.0</td>\n",
       "    </tr>\n",
       "    <tr>\n",
       "      <th>587</th>\n",
       "      <td>Chess of Blades (BL/Yaoi Game) (No VA)</td>\n",
       "      <td>FAMILY</td>\n",
       "      <td>4.8</td>\n",
       "      <td>4</td>\n",
       "      <td>23M</td>\n",
       "      <td>10+</td>\n",
       "      <td>14.99</td>\n",
       "      <td>Teen</td>\n",
       "      <td>Casual</td>\n",
       "      <td>January 24, 2018</td>\n",
       "      <td>1.03</td>\n",
       "      <td>2.3.3 and up</td>\n",
       "      <td>reasonable</td>\n",
       "      <td>0.0</td>\n",
       "    </tr>\n",
       "  </tbody>\n",
       "</table>\n",
       "</div>"
      ],
      "text/plain": [
       "                                                 App Category  Rating  \\\n",
       "698  Private Dating, Hide App- Blue for PrivacyHider   DATING     NaN   \n",
       "315                                      Dots puzzle   FAMILY     4.0   \n",
       "587           Chess of Blades (BL/Yaoi Game) (No VA)   FAMILY     4.8   \n",
       "\n",
       "     Reviews Size Installs  Price Content Rating  Genres      Last Updated  \\\n",
       "698        0  18k     100+   2.99       Everyone  Dating     July 25, 2017   \n",
       "315      179  14M  50,000+   0.99       Everyone  Puzzle    April 18, 2018   \n",
       "587        4  23M      10+  14.99           Teen  Casual  January 24, 2018   \n",
       "\n",
       "    Current Ver   Android Ver affordability  price_criterion  \n",
       "698       1.0.1    4.0 and up         cheap              0.0  \n",
       "315         NaN    4.0 and up         cheap              1.0  \n",
       "587        1.03  2.3.3 and up    reasonable              0.0  "
      ]
     },
     "execution_count": 40,
     "metadata": {},
     "output_type": "execute_result"
    }
   ],
   "source": [
    "affordable_apps.sample(3)"
   ]
  },
  {
   "cell_type": "code",
   "execution_count": 41,
   "metadata": {},
   "outputs": [
    {
     "data": {
      "text/plain": [
       "array(['Arcade;Action & Adventure', 'Action', 'Strategy',\n",
       "       'Puzzle;Brain Games', 'Card;Action & Adventure', 'Sports',\n",
       "       'Personalization', 'Arcade', 'Puzzle', 'Productivity', 'Weather',\n",
       "       'Tools', 'Sports;Action & Adventure', 'Communication',\n",
       "       'Role Playing', 'Photography', 'Card', 'Simulation;Education',\n",
       "       'Adventure', 'Education;Pretend Play', 'Lifestyle',\n",
       "       'Strategy;Action & Adventure', 'Board', 'Finance',\n",
       "       'Health & Fitness', 'Role Playing;Action & Adventure', 'Music',\n",
       "       'Travel & Local', 'Business', 'Simulation',\n",
       "       'Adventure;Action & Adventure', 'Parenting',\n",
       "       'Adventure;Brain Games', 'Entertainment', 'Maps & Navigation',\n",
       "       'Video Players & Editors', 'Racing', 'Medical', 'Auto & Vehicles',\n",
       "       'Educational;Pretend Play', 'Casual;Pretend Play',\n",
       "       'Education;Creativity', 'Education', 'Board;Brain Games',\n",
       "       'Food & Drink', 'Action;Action & Adventure',\n",
       "       'Simulation;Pretend Play', 'Dating', 'Books & Reference',\n",
       "       'Art & Design', 'Racing;Action & Adventure', 'Casual',\n",
       "       'Education;Education', 'Educational;Education', 'Casual;Education',\n",
       "       'Shopping', 'Books & Reference;Education',\n",
       "       'Education;Action & Adventure', 'Board;Action & Adventure',\n",
       "       'Social', 'Casual;Action & Adventure', 'News & Magazines',\n",
       "       'Music;Music & Video', 'Educational;Creativity', 'Casino',\n",
       "       'Educational', 'Books & Reference;Creativity',\n",
       "       'Board;Pretend Play', 'Libraries & Demo', 'Education;Brain Games',\n",
       "       'Role Playing;Education'], dtype=object)"
      ]
     },
     "execution_count": 41,
     "metadata": {},
     "output_type": "execute_result"
    }
   ],
   "source": [
    "# reviewing data in the genre column which is separated by ';'\n",
    "affordable_apps['Genres'].unique()"
   ]
  },
  {
   "cell_type": "code",
   "execution_count": 42,
   "metadata": {},
   "outputs": [],
   "source": [
    "# creating a column to count the number of genres\n",
    "affordable_apps['genre_count'] = affordable_apps['Genres'].str.count(';')+1"
   ]
  },
  {
   "cell_type": "code",
   "execution_count": 43,
   "metadata": {},
   "outputs": [
    {
     "data": {
      "text/html": [
       "<div>\n",
       "<style scoped>\n",
       "    .dataframe tbody tr th:only-of-type {\n",
       "        vertical-align: middle;\n",
       "    }\n",
       "\n",
       "    .dataframe tbody tr th {\n",
       "        vertical-align: top;\n",
       "    }\n",
       "\n",
       "    .dataframe thead th {\n",
       "        text-align: right;\n",
       "    }\n",
       "</style>\n",
       "<table border=\"1\" class=\"dataframe\">\n",
       "  <thead>\n",
       "    <tr style=\"text-align: right;\">\n",
       "      <th></th>\n",
       "      <th></th>\n",
       "      <th>Price</th>\n",
       "    </tr>\n",
       "    <tr>\n",
       "      <th>affordability</th>\n",
       "      <th>genre_count</th>\n",
       "      <th></th>\n",
       "    </tr>\n",
       "  </thead>\n",
       "  <tbody>\n",
       "    <tr>\n",
       "      <th rowspan=\"2\" valign=\"top\">cheap</th>\n",
       "      <th>1</th>\n",
       "      <td>2.507448</td>\n",
       "    </tr>\n",
       "    <tr>\n",
       "      <th>2</th>\n",
       "      <td>3.155672</td>\n",
       "    </tr>\n",
       "    <tr>\n",
       "      <th rowspan=\"2\" valign=\"top\">reasonable</th>\n",
       "      <th>1</th>\n",
       "      <td>12.574627</td>\n",
       "    </tr>\n",
       "    <tr>\n",
       "      <th>2</th>\n",
       "      <td>6.823333</td>\n",
       "    </tr>\n",
       "  </tbody>\n",
       "</table>\n",
       "</div>"
      ],
      "text/plain": [
       "                               Price\n",
       "affordability genre_count           \n",
       "cheap         1             2.507448\n",
       "              2             3.155672\n",
       "reasonable    1            12.574627\n",
       "              2             6.823333"
      ]
     },
     "execution_count": 43,
     "metadata": {},
     "output_type": "execute_result"
    }
   ],
   "source": [
    "# getting the mean by affordability and genre count\n",
    "genre_mean = affordable_apps.groupby(['affordability', 'genre_count']).mean()[['Price']]\n",
    "genre_mean"
   ]
  },
  {
   "cell_type": "code",
   "execution_count": 44,
   "metadata": {},
   "outputs": [],
   "source": [
    "# labeling each segment in 'genres_mean'\n",
    "def label_genres(row):\n",
    "    \"\"\"For each segment in `genres_mean`,\n",
    "    labels the apps that cost less than its segment's mean with `1`\n",
    "    and the others with `0`.\"\"\"\n",
    "\n",
    "    aff = row[\"affordability\"]\n",
    "    gc = row[\"genre_count\"]\n",
    "    price = row[\"Price\"]\n",
    "\n",
    "    if price < genre_mean.loc[(aff, gc)][0]:\n",
    "        return 1\n",
    "    else:\n",
    "        return 0\n",
    "\n",
    "affordable_apps[\"genre_criterion\"] = affordable_apps.apply(\n",
    "    label_genres, axis='columns')"
   ]
  },
  {
   "cell_type": "code",
   "execution_count": 45,
   "metadata": {},
   "outputs": [
    {
     "data": {
      "text/html": [
       "<div>\n",
       "<style scoped>\n",
       "    .dataframe tbody tr th:only-of-type {\n",
       "        vertical-align: middle;\n",
       "    }\n",
       "\n",
       "    .dataframe tbody tr th {\n",
       "        vertical-align: top;\n",
       "    }\n",
       "\n",
       "    .dataframe thead th {\n",
       "        text-align: right;\n",
       "    }\n",
       "</style>\n",
       "<table border=\"1\" class=\"dataframe\">\n",
       "  <thead>\n",
       "    <tr style=\"text-align: right;\">\n",
       "      <th></th>\n",
       "      <th></th>\n",
       "      <th>Price</th>\n",
       "    </tr>\n",
       "    <tr>\n",
       "      <th>affordability</th>\n",
       "      <th>Category</th>\n",
       "      <th></th>\n",
       "    </tr>\n",
       "  </thead>\n",
       "  <tbody>\n",
       "    <tr>\n",
       "      <th rowspan=\"5\" valign=\"top\">cheap</th>\n",
       "      <th>ART_AND_DESIGN</th>\n",
       "      <td>1.990000</td>\n",
       "    </tr>\n",
       "    <tr>\n",
       "      <th>AUTO_AND_VEHICLES</th>\n",
       "      <td>1.740000</td>\n",
       "    </tr>\n",
       "    <tr>\n",
       "      <th>BOOKS_AND_REFERENCE</th>\n",
       "      <td>2.529286</td>\n",
       "    </tr>\n",
       "    <tr>\n",
       "      <th>BUSINESS</th>\n",
       "      <td>3.632857</td>\n",
       "    </tr>\n",
       "    <tr>\n",
       "      <th>COMMUNICATION</th>\n",
       "      <td>2.428846</td>\n",
       "    </tr>\n",
       "  </tbody>\n",
       "</table>\n",
       "</div>"
      ],
      "text/plain": [
       "                                      Price\n",
       "affordability Category                     \n",
       "cheap         ART_AND_DESIGN       1.990000\n",
       "              AUTO_AND_VEHICLES    1.740000\n",
       "              BOOKS_AND_REFERENCE  2.529286\n",
       "              BUSINESS             3.632857\n",
       "              COMMUNICATION        2.428846"
      ]
     },
     "execution_count": 45,
     "metadata": {},
     "output_type": "execute_result"
    }
   ],
   "source": [
    "# getting the mean by affordability and Categoriy\n",
    "categories_mean = affordable_apps.groupby(['affordability', 'Category']).mean()[['Price']]\n",
    "categories_mean.head()"
   ]
  },
  {
   "cell_type": "code",
   "execution_count": 46,
   "metadata": {},
   "outputs": [],
   "source": [
    "# labeling each segment in 'categories_mean'\n",
    "def label_categories(row):\n",
    "    \"\"\"For each segment in `genres_mean`,\n",
    "    labels the apps that cost less than its segment's mean with `1`\n",
    "    and the others with `0`.\"\"\"\n",
    "\n",
    "    aff = row[\"affordability\"]\n",
    "    ct = row[\"Category\"]\n",
    "    price = row[\"Price\"]\n",
    "\n",
    "    if price < categories_mean.loc[(aff, ct)][0]:\n",
    "        return 1\n",
    "    else:\n",
    "        return 0\n",
    "\n",
    "affordable_apps[\"category_criterion\"] = affordable_apps.apply(\n",
    "    label_categories, axis='columns')"
   ]
  },
  {
   "cell_type": "code",
   "execution_count": 47,
   "metadata": {},
   "outputs": [
    {
     "data": {
      "text/html": [
       "<div>\n",
       "<style scoped>\n",
       "    .dataframe tbody tr th:only-of-type {\n",
       "        vertical-align: middle;\n",
       "    }\n",
       "\n",
       "    .dataframe tbody tr th {\n",
       "        vertical-align: top;\n",
       "    }\n",
       "\n",
       "    .dataframe thead th {\n",
       "        text-align: right;\n",
       "    }\n",
       "</style>\n",
       "<table border=\"1\" class=\"dataframe\">\n",
       "  <thead>\n",
       "    <tr style=\"text-align: right;\">\n",
       "      <th></th>\n",
       "      <th>App</th>\n",
       "      <th>Category</th>\n",
       "      <th>Rating</th>\n",
       "      <th>Reviews</th>\n",
       "      <th>Size</th>\n",
       "      <th>Installs</th>\n",
       "      <th>Price</th>\n",
       "      <th>Content Rating</th>\n",
       "      <th>Genres</th>\n",
       "      <th>Last Updated</th>\n",
       "      <th>Current Ver</th>\n",
       "      <th>Android Ver</th>\n",
       "      <th>affordability</th>\n",
       "      <th>price_criterion</th>\n",
       "      <th>genre_count</th>\n",
       "      <th>genre_criterion</th>\n",
       "      <th>category_criterion</th>\n",
       "    </tr>\n",
       "  </thead>\n",
       "  <tbody>\n",
       "    <tr>\n",
       "      <th>0</th>\n",
       "      <td>Minecraft</td>\n",
       "      <td>FAMILY</td>\n",
       "      <td>4.5</td>\n",
       "      <td>2376564</td>\n",
       "      <td>Varies with device</td>\n",
       "      <td>10,000,000+</td>\n",
       "      <td>6.99</td>\n",
       "      <td>Everyone 10+</td>\n",
       "      <td>Arcade;Action &amp; Adventure</td>\n",
       "      <td>July 24, 2018</td>\n",
       "      <td>1.5.2.1</td>\n",
       "      <td>Varies with device</td>\n",
       "      <td>reasonable</td>\n",
       "      <td>1.0</td>\n",
       "      <td>2</td>\n",
       "      <td>0</td>\n",
       "      <td>1</td>\n",
       "    </tr>\n",
       "    <tr>\n",
       "      <th>1</th>\n",
       "      <td>Hitman Sniper</td>\n",
       "      <td>GAME</td>\n",
       "      <td>4.6</td>\n",
       "      <td>408292</td>\n",
       "      <td>29M</td>\n",
       "      <td>10,000,000+</td>\n",
       "      <td>0.99</td>\n",
       "      <td>Mature 17+</td>\n",
       "      <td>Action</td>\n",
       "      <td>July 12, 2018</td>\n",
       "      <td>1.7.110758</td>\n",
       "      <td>4.1 and up</td>\n",
       "      <td>cheap</td>\n",
       "      <td>1.0</td>\n",
       "      <td>1</td>\n",
       "      <td>1</td>\n",
       "      <td>1</td>\n",
       "    </tr>\n",
       "    <tr>\n",
       "      <th>2</th>\n",
       "      <td>Grand Theft Auto: San Andreas</td>\n",
       "      <td>GAME</td>\n",
       "      <td>4.4</td>\n",
       "      <td>348962</td>\n",
       "      <td>26M</td>\n",
       "      <td>1,000,000+</td>\n",
       "      <td>6.99</td>\n",
       "      <td>Mature 17+</td>\n",
       "      <td>Action</td>\n",
       "      <td>March 21, 2015</td>\n",
       "      <td>1.08</td>\n",
       "      <td>3.0 and up</td>\n",
       "      <td>reasonable</td>\n",
       "      <td>1.0</td>\n",
       "      <td>1</td>\n",
       "      <td>1</td>\n",
       "      <td>1</td>\n",
       "    </tr>\n",
       "  </tbody>\n",
       "</table>\n",
       "</div>"
      ],
      "text/plain": [
       "                             App Category  Rating  Reviews  \\\n",
       "0                      Minecraft   FAMILY     4.5  2376564   \n",
       "1                  Hitman Sniper     GAME     4.6   408292   \n",
       "2  Grand Theft Auto: San Andreas     GAME     4.4   348962   \n",
       "\n",
       "                 Size     Installs  Price Content Rating  \\\n",
       "0  Varies with device  10,000,000+   6.99   Everyone 10+   \n",
       "1                 29M  10,000,000+   0.99     Mature 17+   \n",
       "2                 26M   1,000,000+   6.99     Mature 17+   \n",
       "\n",
       "                      Genres    Last Updated Current Ver         Android Ver  \\\n",
       "0  Arcade;Action & Adventure   July 24, 2018     1.5.2.1  Varies with device   \n",
       "1                     Action   July 12, 2018  1.7.110758          4.1 and up   \n",
       "2                     Action  March 21, 2015        1.08          3.0 and up   \n",
       "\n",
       "  affordability  price_criterion  genre_count  genre_criterion  \\\n",
       "0    reasonable              1.0            2                0   \n",
       "1         cheap              1.0            1                1   \n",
       "2    reasonable              1.0            1                1   \n",
       "\n",
       "   category_criterion  \n",
       "0                   1  \n",
       "1                   1  \n",
       "2                   1  "
      ]
     },
     "execution_count": 47,
     "metadata": {},
     "output_type": "execute_result"
    }
   ],
   "source": [
    "affordable_apps.head(3)"
   ]
  },
  {
   "cell_type": "code",
   "execution_count": 48,
   "metadata": {},
   "outputs": [
    {
     "data": {
      "text/html": [
       "<div>\n",
       "<style scoped>\n",
       "    .dataframe tbody tr th:only-of-type {\n",
       "        vertical-align: middle;\n",
       "    }\n",
       "\n",
       "    .dataframe tbody tr th {\n",
       "        vertical-align: top;\n",
       "    }\n",
       "\n",
       "    .dataframe thead th {\n",
       "        text-align: right;\n",
       "    }\n",
       "</style>\n",
       "<table border=\"1\" class=\"dataframe\">\n",
       "  <thead>\n",
       "    <tr style=\"text-align: right;\">\n",
       "      <th></th>\n",
       "      <th>App</th>\n",
       "      <th>Category</th>\n",
       "      <th>Rating</th>\n",
       "      <th>Reviews</th>\n",
       "      <th>Size</th>\n",
       "      <th>Installs</th>\n",
       "      <th>Price</th>\n",
       "      <th>Content Rating</th>\n",
       "      <th>Genres</th>\n",
       "      <th>Last Updated</th>\n",
       "      <th>Current Ver</th>\n",
       "      <th>Android Ver</th>\n",
       "      <th>affordability</th>\n",
       "      <th>price_criterion</th>\n",
       "      <th>genre_count</th>\n",
       "      <th>genre_criterion</th>\n",
       "      <th>category_criterion</th>\n",
       "      <th>Result</th>\n",
       "    </tr>\n",
       "  </thead>\n",
       "  <tbody>\n",
       "    <tr>\n",
       "      <th>583</th>\n",
       "      <td>California Cop Assist CA Cop</td>\n",
       "      <td>PRODUCTIVITY</td>\n",
       "      <td>3.0</td>\n",
       "      <td>5</td>\n",
       "      <td>7.0M</td>\n",
       "      <td>100+</td>\n",
       "      <td>4.99</td>\n",
       "      <td>Everyone</td>\n",
       "      <td>Productivity</td>\n",
       "      <td>February 11, 2014</td>\n",
       "      <td>1.3</td>\n",
       "      <td>2.2 and up</td>\n",
       "      <td>cheap</td>\n",
       "      <td>0.0</td>\n",
       "      <td>1</td>\n",
       "      <td>0</td>\n",
       "      <td>0</td>\n",
       "      <td>0.0</td>\n",
       "    </tr>\n",
       "    <tr>\n",
       "      <th>197</th>\n",
       "      <td>G Cloud Apps Backup Key * root</td>\n",
       "      <td>TOOLS</td>\n",
       "      <td>4.5</td>\n",
       "      <td>1034</td>\n",
       "      <td>196k</td>\n",
       "      <td>5,000+</td>\n",
       "      <td>4.99</td>\n",
       "      <td>Everyone</td>\n",
       "      <td>Tools</td>\n",
       "      <td>September 8, 2013</td>\n",
       "      <td>1.1</td>\n",
       "      <td>2.2 and up</td>\n",
       "      <td>cheap</td>\n",
       "      <td>0.0</td>\n",
       "      <td>1</td>\n",
       "      <td>0</td>\n",
       "      <td>0</td>\n",
       "      <td>0.0</td>\n",
       "    </tr>\n",
       "    <tr>\n",
       "      <th>596</th>\n",
       "      <td>Obbligo o Verità? PRO</td>\n",
       "      <td>GAME</td>\n",
       "      <td>NaN</td>\n",
       "      <td>4</td>\n",
       "      <td>2.9M</td>\n",
       "      <td>100+</td>\n",
       "      <td>0.99</td>\n",
       "      <td>Teen</td>\n",
       "      <td>Board</td>\n",
       "      <td>April 26, 2018</td>\n",
       "      <td>1,01</td>\n",
       "      <td>3.0 and up</td>\n",
       "      <td>cheap</td>\n",
       "      <td>1.0</td>\n",
       "      <td>1</td>\n",
       "      <td>1</td>\n",
       "      <td>1</td>\n",
       "      <td>1.0</td>\n",
       "    </tr>\n",
       "    <tr>\n",
       "      <th>665</th>\n",
       "      <td>Técnico Legislativo Câmara Legislativa DF</td>\n",
       "      <td>PRODUCTIVITY</td>\n",
       "      <td>NaN</td>\n",
       "      <td>1</td>\n",
       "      <td>10M</td>\n",
       "      <td>10+</td>\n",
       "      <td>2.99</td>\n",
       "      <td>Everyone</td>\n",
       "      <td>Productivity</td>\n",
       "      <td>June 29, 2018</td>\n",
       "      <td>6.0</td>\n",
       "      <td>4.0.3 and up</td>\n",
       "      <td>cheap</td>\n",
       "      <td>0.0</td>\n",
       "      <td>1</td>\n",
       "      <td>0</td>\n",
       "      <td>0</td>\n",
       "      <td>0.0</td>\n",
       "    </tr>\n",
       "    <tr>\n",
       "      <th>397</th>\n",
       "      <td>Color Changer Pro [root]</td>\n",
       "      <td>PERSONALIZATION</td>\n",
       "      <td>4.5</td>\n",
       "      <td>69</td>\n",
       "      <td>951k</td>\n",
       "      <td>1,000+</td>\n",
       "      <td>0.99</td>\n",
       "      <td>Everyone</td>\n",
       "      <td>Personalization</td>\n",
       "      <td>January 12, 2017</td>\n",
       "      <td>1.11</td>\n",
       "      <td>4.4 and up</td>\n",
       "      <td>cheap</td>\n",
       "      <td>1.0</td>\n",
       "      <td>1</td>\n",
       "      <td>1</td>\n",
       "      <td>1</td>\n",
       "      <td>1.0</td>\n",
       "    </tr>\n",
       "  </tbody>\n",
       "</table>\n",
       "</div>"
      ],
      "text/plain": [
       "                                           App         Category  Rating  \\\n",
       "583               California Cop Assist CA Cop     PRODUCTIVITY     3.0   \n",
       "197             G Cloud Apps Backup Key * root            TOOLS     4.5   \n",
       "596                      Obbligo o Verità? PRO             GAME     NaN   \n",
       "665  Técnico Legislativo Câmara Legislativa DF     PRODUCTIVITY     NaN   \n",
       "397                   Color Changer Pro [root]  PERSONALIZATION     4.5   \n",
       "\n",
       "     Reviews  Size Installs  Price Content Rating           Genres  \\\n",
       "583        5  7.0M     100+   4.99       Everyone     Productivity   \n",
       "197     1034  196k   5,000+   4.99       Everyone            Tools   \n",
       "596        4  2.9M     100+   0.99           Teen            Board   \n",
       "665        1   10M      10+   2.99       Everyone     Productivity   \n",
       "397       69  951k   1,000+   0.99       Everyone  Personalization   \n",
       "\n",
       "          Last Updated Current Ver   Android Ver affordability  \\\n",
       "583  February 11, 2014         1.3    2.2 and up         cheap   \n",
       "197  September 8, 2013         1.1    2.2 and up         cheap   \n",
       "596     April 26, 2018        1,01    3.0 and up         cheap   \n",
       "665      June 29, 2018         6.0  4.0.3 and up         cheap   \n",
       "397   January 12, 2017        1.11    4.4 and up         cheap   \n",
       "\n",
       "     price_criterion  genre_count  genre_criterion  category_criterion  Result  \n",
       "583              0.0            1                0                   0     0.0  \n",
       "197              0.0            1                0                   0     0.0  \n",
       "596              1.0            1                1                   1     1.0  \n",
       "665              0.0            1                0                   0     0.0  \n",
       "397              1.0            1                1                   1     1.0  "
      ]
     },
     "execution_count": 48,
     "metadata": {},
     "output_type": "execute_result"
    }
   ],
   "source": [
    "# we now have 3 criterion columns to use to segment which apps to apply price increases\n",
    "# creating a criteria to select the value with the most results; majority voting\n",
    "criteria = ['price_criterion', 'genre_criterion', 'category_criterion']\n",
    "affordable_apps['Result'] = affordable_apps[criteria].mode(axis='columns')\n",
    "\n",
    "affordable_apps.sample(5)"
   ]
  },
  {
   "cell_type": "code",
   "execution_count": 49,
   "metadata": {},
   "outputs": [
    {
     "data": {
      "text/plain": [
       "401.0"
      ]
     },
     "execution_count": 49,
     "metadata": {},
     "output_type": "execute_result"
    }
   ],
   "source": [
    "# checking how many apps are eligible for a price increase based on majority voting\n",
    "nr_eligible = affordable_apps['Result'].sum()\n",
    "nr_eligible"
   ]
  },
  {
   "cell_type": "code",
   "execution_count": 50,
   "metadata": {},
   "outputs": [
    {
     "name": "stdout",
     "output_type": "stream",
     "text": [
      "401.0\n",
      "0.5470668485675307\n"
     ]
    }
   ],
   "source": [
    "# 54.7% are eligible for a price increase\n",
    "print(nr_eligible, nr_eligible/affordable_apps.shape[0], sep='\\n')"
   ]
  },
  {
   "cell_type": "markdown",
   "metadata": {},
   "source": [
    "# Assessing the impact"
   ]
  },
  {
   "cell_type": "code",
   "execution_count": 51,
   "metadata": {},
   "outputs": [],
   "source": [
    "# creating a new column which is the max of Price or the cheap_mean for cheap apps or max of Price or reasonable_mean for reasonable apps\n",
    "affordable_apps.loc[cheap, 'New Price'] = affordable_apps['Price'].apply(lambda x: cheap_mean if x < cheap_mean else x).round(2)\n",
    "affordable_apps.loc[reasonable, 'New Price'] = affordable_apps['Price'].apply(lambda x: reasonable_mean if x < reasonable_mean else x).round(2)"
   ]
  },
  {
   "cell_type": "code",
   "execution_count": 52,
   "metadata": {},
   "outputs": [
    {
     "data": {
      "text/html": [
       "<div>\n",
       "<style scoped>\n",
       "    .dataframe tbody tr th:only-of-type {\n",
       "        vertical-align: middle;\n",
       "    }\n",
       "\n",
       "    .dataframe tbody tr th {\n",
       "        vertical-align: top;\n",
       "    }\n",
       "\n",
       "    .dataframe thead th {\n",
       "        text-align: right;\n",
       "    }\n",
       "</style>\n",
       "<table border=\"1\" class=\"dataframe\">\n",
       "  <thead>\n",
       "    <tr style=\"text-align: right;\">\n",
       "      <th></th>\n",
       "      <th>App</th>\n",
       "      <th>Category</th>\n",
       "      <th>Rating</th>\n",
       "      <th>Reviews</th>\n",
       "      <th>Size</th>\n",
       "      <th>Installs</th>\n",
       "      <th>Price</th>\n",
       "      <th>Content Rating</th>\n",
       "      <th>Genres</th>\n",
       "      <th>Last Updated</th>\n",
       "      <th>Current Ver</th>\n",
       "      <th>Android Ver</th>\n",
       "      <th>affordability</th>\n",
       "      <th>price_criterion</th>\n",
       "      <th>genre_count</th>\n",
       "      <th>genre_criterion</th>\n",
       "      <th>category_criterion</th>\n",
       "      <th>Result</th>\n",
       "      <th>New Price</th>\n",
       "    </tr>\n",
       "  </thead>\n",
       "  <tbody>\n",
       "    <tr>\n",
       "      <th>0</th>\n",
       "      <td>Minecraft</td>\n",
       "      <td>FAMILY</td>\n",
       "      <td>4.5</td>\n",
       "      <td>2376564</td>\n",
       "      <td>Varies with device</td>\n",
       "      <td>10,000,000+</td>\n",
       "      <td>6.99</td>\n",
       "      <td>Everyone 10+</td>\n",
       "      <td>Arcade;Action &amp; Adventure</td>\n",
       "      <td>July 24, 2018</td>\n",
       "      <td>1.5.2.1</td>\n",
       "      <td>Varies with device</td>\n",
       "      <td>reasonable</td>\n",
       "      <td>1.0</td>\n",
       "      <td>2</td>\n",
       "      <td>0</td>\n",
       "      <td>1</td>\n",
       "      <td>1.0</td>\n",
       "      <td>12.45</td>\n",
       "    </tr>\n",
       "    <tr>\n",
       "      <th>1</th>\n",
       "      <td>Hitman Sniper</td>\n",
       "      <td>GAME</td>\n",
       "      <td>4.6</td>\n",
       "      <td>408292</td>\n",
       "      <td>29M</td>\n",
       "      <td>10,000,000+</td>\n",
       "      <td>0.99</td>\n",
       "      <td>Mature 17+</td>\n",
       "      <td>Action</td>\n",
       "      <td>July 12, 2018</td>\n",
       "      <td>1.7.110758</td>\n",
       "      <td>4.1 and up</td>\n",
       "      <td>cheap</td>\n",
       "      <td>1.0</td>\n",
       "      <td>1</td>\n",
       "      <td>1</td>\n",
       "      <td>1</td>\n",
       "      <td>1.0</td>\n",
       "      <td>2.58</td>\n",
       "    </tr>\n",
       "    <tr>\n",
       "      <th>2</th>\n",
       "      <td>Grand Theft Auto: San Andreas</td>\n",
       "      <td>GAME</td>\n",
       "      <td>4.4</td>\n",
       "      <td>348962</td>\n",
       "      <td>26M</td>\n",
       "      <td>1,000,000+</td>\n",
       "      <td>6.99</td>\n",
       "      <td>Mature 17+</td>\n",
       "      <td>Action</td>\n",
       "      <td>March 21, 2015</td>\n",
       "      <td>1.08</td>\n",
       "      <td>3.0 and up</td>\n",
       "      <td>reasonable</td>\n",
       "      <td>1.0</td>\n",
       "      <td>1</td>\n",
       "      <td>1</td>\n",
       "      <td>1</td>\n",
       "      <td>1.0</td>\n",
       "      <td>12.45</td>\n",
       "    </tr>\n",
       "    <tr>\n",
       "      <th>3</th>\n",
       "      <td>Bloons TD 5</td>\n",
       "      <td>FAMILY</td>\n",
       "      <td>4.6</td>\n",
       "      <td>190086</td>\n",
       "      <td>94M</td>\n",
       "      <td>1,000,000+</td>\n",
       "      <td>2.99</td>\n",
       "      <td>Everyone</td>\n",
       "      <td>Strategy</td>\n",
       "      <td>July 13, 2018</td>\n",
       "      <td>3.16</td>\n",
       "      <td>2.3.3 and up</td>\n",
       "      <td>cheap</td>\n",
       "      <td>0.0</td>\n",
       "      <td>1</td>\n",
       "      <td>0</td>\n",
       "      <td>0</td>\n",
       "      <td>0.0</td>\n",
       "      <td>2.99</td>\n",
       "    </tr>\n",
       "    <tr>\n",
       "      <th>4</th>\n",
       "      <td>Where's My Water?</td>\n",
       "      <td>FAMILY</td>\n",
       "      <td>4.7</td>\n",
       "      <td>188740</td>\n",
       "      <td>69M</td>\n",
       "      <td>1,000,000+</td>\n",
       "      <td>1.99</td>\n",
       "      <td>Everyone</td>\n",
       "      <td>Puzzle;Brain Games</td>\n",
       "      <td>July 5, 2018</td>\n",
       "      <td>1.16.0</td>\n",
       "      <td>4.2 and up</td>\n",
       "      <td>cheap</td>\n",
       "      <td>1.0</td>\n",
       "      <td>2</td>\n",
       "      <td>1</td>\n",
       "      <td>1</td>\n",
       "      <td>1.0</td>\n",
       "      <td>2.58</td>\n",
       "    </tr>\n",
       "  </tbody>\n",
       "</table>\n",
       "</div>"
      ],
      "text/plain": [
       "                             App Category  Rating  Reviews  \\\n",
       "0                      Minecraft   FAMILY     4.5  2376564   \n",
       "1                  Hitman Sniper     GAME     4.6   408292   \n",
       "2  Grand Theft Auto: San Andreas     GAME     4.4   348962   \n",
       "3                    Bloons TD 5   FAMILY     4.6   190086   \n",
       "4              Where's My Water?   FAMILY     4.7   188740   \n",
       "\n",
       "                 Size     Installs  Price Content Rating  \\\n",
       "0  Varies with device  10,000,000+   6.99   Everyone 10+   \n",
       "1                 29M  10,000,000+   0.99     Mature 17+   \n",
       "2                 26M   1,000,000+   6.99     Mature 17+   \n",
       "3                 94M   1,000,000+   2.99       Everyone   \n",
       "4                 69M   1,000,000+   1.99       Everyone   \n",
       "\n",
       "                      Genres    Last Updated Current Ver         Android Ver  \\\n",
       "0  Arcade;Action & Adventure   July 24, 2018     1.5.2.1  Varies with device   \n",
       "1                     Action   July 12, 2018  1.7.110758          4.1 and up   \n",
       "2                     Action  March 21, 2015        1.08          3.0 and up   \n",
       "3                   Strategy   July 13, 2018        3.16        2.3.3 and up   \n",
       "4         Puzzle;Brain Games    July 5, 2018      1.16.0          4.2 and up   \n",
       "\n",
       "  affordability  price_criterion  genre_count  genre_criterion  \\\n",
       "0    reasonable              1.0            2                0   \n",
       "1         cheap              1.0            1                1   \n",
       "2    reasonable              1.0            1                1   \n",
       "3         cheap              0.0            1                0   \n",
       "4         cheap              1.0            2                1   \n",
       "\n",
       "   category_criterion  Result  New Price  \n",
       "0                   1     1.0      12.45  \n",
       "1                   1     1.0       2.58  \n",
       "2                   1     1.0      12.45  \n",
       "3                   0     0.0       2.99  \n",
       "4                   1     1.0       2.58  "
      ]
     },
     "execution_count": 52,
     "metadata": {},
     "output_type": "execute_result"
    }
   ],
   "source": [
    "affordable_apps.head()"
   ]
  },
  {
   "cell_type": "code",
   "execution_count": 53,
   "metadata": {},
   "outputs": [],
   "source": [
    "# transforming Installs into a numeric column\n",
    "affordable_apps['Installs'] = affordable_apps['Installs'].str.replace('+','').str.replace(',','').astype(int)"
   ]
  },
  {
   "cell_type": "code",
   "execution_count": 54,
   "metadata": {},
   "outputs": [],
   "source": [
    "# impact\n",
    "affordable_apps['Impact'] = (affordable_apps['New Price'] - affordable_apps['Price']) * affordable_apps['Installs']"
   ]
  },
  {
   "cell_type": "code",
   "execution_count": 55,
   "metadata": {},
   "outputs": [
    {
     "data": {
      "text/html": [
       "<div>\n",
       "<style scoped>\n",
       "    .dataframe tbody tr th:only-of-type {\n",
       "        vertical-align: middle;\n",
       "    }\n",
       "\n",
       "    .dataframe tbody tr th {\n",
       "        vertical-align: top;\n",
       "    }\n",
       "\n",
       "    .dataframe thead th {\n",
       "        text-align: right;\n",
       "    }\n",
       "</style>\n",
       "<table border=\"1\" class=\"dataframe\">\n",
       "  <thead>\n",
       "    <tr style=\"text-align: right;\">\n",
       "      <th></th>\n",
       "      <th>App</th>\n",
       "      <th>Category</th>\n",
       "      <th>Rating</th>\n",
       "      <th>Reviews</th>\n",
       "      <th>Size</th>\n",
       "      <th>Installs</th>\n",
       "      <th>Price</th>\n",
       "      <th>Content Rating</th>\n",
       "      <th>Genres</th>\n",
       "      <th>Last Updated</th>\n",
       "      <th>Current Ver</th>\n",
       "      <th>Android Ver</th>\n",
       "      <th>affordability</th>\n",
       "      <th>price_criterion</th>\n",
       "      <th>genre_count</th>\n",
       "      <th>genre_criterion</th>\n",
       "      <th>category_criterion</th>\n",
       "      <th>Result</th>\n",
       "      <th>New Price</th>\n",
       "      <th>Impact</th>\n",
       "    </tr>\n",
       "  </thead>\n",
       "  <tbody>\n",
       "    <tr>\n",
       "      <th>0</th>\n",
       "      <td>Minecraft</td>\n",
       "      <td>FAMILY</td>\n",
       "      <td>4.5</td>\n",
       "      <td>2376564</td>\n",
       "      <td>Varies with device</td>\n",
       "      <td>10000000</td>\n",
       "      <td>6.99</td>\n",
       "      <td>Everyone 10+</td>\n",
       "      <td>Arcade;Action &amp; Adventure</td>\n",
       "      <td>July 24, 2018</td>\n",
       "      <td>1.5.2.1</td>\n",
       "      <td>Varies with device</td>\n",
       "      <td>reasonable</td>\n",
       "      <td>1.0</td>\n",
       "      <td>2</td>\n",
       "      <td>0</td>\n",
       "      <td>1</td>\n",
       "      <td>1.0</td>\n",
       "      <td>12.45</td>\n",
       "      <td>54600000.0</td>\n",
       "    </tr>\n",
       "    <tr>\n",
       "      <th>1</th>\n",
       "      <td>Hitman Sniper</td>\n",
       "      <td>GAME</td>\n",
       "      <td>4.6</td>\n",
       "      <td>408292</td>\n",
       "      <td>29M</td>\n",
       "      <td>10000000</td>\n",
       "      <td>0.99</td>\n",
       "      <td>Mature 17+</td>\n",
       "      <td>Action</td>\n",
       "      <td>July 12, 2018</td>\n",
       "      <td>1.7.110758</td>\n",
       "      <td>4.1 and up</td>\n",
       "      <td>cheap</td>\n",
       "      <td>1.0</td>\n",
       "      <td>1</td>\n",
       "      <td>1</td>\n",
       "      <td>1</td>\n",
       "      <td>1.0</td>\n",
       "      <td>2.58</td>\n",
       "      <td>15900000.0</td>\n",
       "    </tr>\n",
       "    <tr>\n",
       "      <th>2</th>\n",
       "      <td>Grand Theft Auto: San Andreas</td>\n",
       "      <td>GAME</td>\n",
       "      <td>4.4</td>\n",
       "      <td>348962</td>\n",
       "      <td>26M</td>\n",
       "      <td>1000000</td>\n",
       "      <td>6.99</td>\n",
       "      <td>Mature 17+</td>\n",
       "      <td>Action</td>\n",
       "      <td>March 21, 2015</td>\n",
       "      <td>1.08</td>\n",
       "      <td>3.0 and up</td>\n",
       "      <td>reasonable</td>\n",
       "      <td>1.0</td>\n",
       "      <td>1</td>\n",
       "      <td>1</td>\n",
       "      <td>1</td>\n",
       "      <td>1.0</td>\n",
       "      <td>12.45</td>\n",
       "      <td>5460000.0</td>\n",
       "    </tr>\n",
       "  </tbody>\n",
       "</table>\n",
       "</div>"
      ],
      "text/plain": [
       "                             App Category  Rating  Reviews  \\\n",
       "0                      Minecraft   FAMILY     4.5  2376564   \n",
       "1                  Hitman Sniper     GAME     4.6   408292   \n",
       "2  Grand Theft Auto: San Andreas     GAME     4.4   348962   \n",
       "\n",
       "                 Size  Installs  Price Content Rating  \\\n",
       "0  Varies with device  10000000   6.99   Everyone 10+   \n",
       "1                 29M  10000000   0.99     Mature 17+   \n",
       "2                 26M   1000000   6.99     Mature 17+   \n",
       "\n",
       "                      Genres    Last Updated Current Ver         Android Ver  \\\n",
       "0  Arcade;Action & Adventure   July 24, 2018     1.5.2.1  Varies with device   \n",
       "1                     Action   July 12, 2018  1.7.110758          4.1 and up   \n",
       "2                     Action  March 21, 2015        1.08          3.0 and up   \n",
       "\n",
       "  affordability  price_criterion  genre_count  genre_criterion  \\\n",
       "0    reasonable              1.0            2                0   \n",
       "1         cheap              1.0            1                1   \n",
       "2    reasonable              1.0            1                1   \n",
       "\n",
       "   category_criterion  Result  New Price      Impact  \n",
       "0                   1     1.0      12.45  54600000.0  \n",
       "1                   1     1.0       2.58  15900000.0  \n",
       "2                   1     1.0      12.45   5460000.0  "
      ]
     },
     "execution_count": 55,
     "metadata": {},
     "output_type": "execute_result"
    }
   ],
   "source": [
    "affordable_apps.head(3)"
   ]
  },
  {
   "cell_type": "code",
   "execution_count": 56,
   "metadata": {},
   "outputs": [
    {
     "data": {
      "text/plain": [
       "115441618.98"
      ]
     },
     "execution_count": 56,
     "metadata": {},
     "output_type": "execute_result"
    }
   ],
   "source": [
    "total_impact = affordable_apps['Impact'].sum()\n",
    "total_impact"
   ]
  },
  {
   "cell_type": "markdown",
   "metadata": {},
   "source": [
    "# Total impact could be up to $115 million. \n",
    "\n",
    "There are other variables in our dataset that can be used to shed light on this analysis, like the number of reviews, size of the app, and last updated date."
   ]
  },
  {
   "cell_type": "code",
   "execution_count": null,
   "metadata": {},
   "outputs": [],
   "source": []
  }
 ],
 "metadata": {
  "kernelspec": {
   "display_name": "Python 3",
   "language": "python",
   "name": "python3"
  },
  "language_info": {
   "codemirror_mode": {
    "name": "ipython",
    "version": 3
   },
   "file_extension": ".py",
   "mimetype": "text/x-python",
   "name": "python",
   "nbconvert_exporter": "python",
   "pygments_lexer": "ipython3",
   "version": "3.7.1"
  }
 },
 "nbformat": 4,
 "nbformat_minor": 2
}

{
 "cells": [
  {
   "cell_type": "markdown",
   "metadata": {},
   "source": [
    "# Most Used and Viewed Tags in Data Exchange\n",
    "\n",
    "Scenario: \n",
    "\n",
    "we work in a company that creates data science content. The task is to figure what what is the beset content to write about.\n",
    "\n",
    "We will use the Data Science Stack Exchange (DSSE) data to complete this analysis.\n",
    "\n",
    "https://datascience.stackexchange.com/\n",
    "\n",
    "The Data Science Exchange has a Stack Exchange Data Explorer (SEDE) in which we can query their database post information. \n",
    "\n",
    "https://data.stackexchange.com/\n",
    "\n",
    "The most promising of the tables in this database are the Tags table, which contains a count of tags applied to posts. We can also use the Posts table which has a value for the total ViewCount, Score value, based on users upvoting/downvoting each post, favorite count, and comment count. All of which should enable us to figure out which types of topics are most common."
   ]
  },
  {
   "cell_type": "raw",
   "metadata": {},
   "source": [
    "If I ran this query:\n",
    "\n",
    "SELECT pt.Name, COUNT(p.PostTypeId) AS NumOfPosts\n",
    "FROM Posts p\n",
    "JOIN PostTypes pt ON p.PostTypeId = pt.Id\n",
    "GROUP BY pt.Name\n",
    "ORDER BY 2 DESC\n",
    "\n",
    "I get these results:\n",
    "\n",
    "Name\t        NumOfPosts\n",
    "Answer\t        24837\n",
    "Question\t    22560\n",
    "TagWiki\t        237\n",
    "TagWikiExcerpt\t237\n",
    "ModeratorNomination\t11\n",
    "WikiPlaceholder\t 1\n",
    "\n",
    "Based on these results we'll focus our analysis on Questions (posttypeid =1) since it's more in line with what people want to know about. The volumn of the other types is very low. We'll also extract data for anything posted from 2019 forward (through 3.8.20).\n",
    "\n",
    "Query run to get our dataset:\n",
    "\n",
    "SELECT\n",
    "  Id,\n",
    "  PostTypeId,\n",
    "  CreationDate,\n",
    "  Score,\n",
    "  Viewcount,\n",
    "  Tags,\n",
    "  AnswerCount,\n",
    "  FavoriteCount\n",
    "FROM posts\n",
    "WHERE creationdate >= '2019-01-01'\n",
    "AND posttypeid = 1"
   ]
  },
  {
   "cell_type": "code",
   "execution_count": 24,
   "metadata": {},
   "outputs": [],
   "source": [
    "import pandas as pd\n",
    "from matplotlib import pyplot as plt\n",
    "import seaborn as sns\n",
    "sns.set_style(\"darkgrid\")"
   ]
  },
  {
   "cell_type": "code",
   "execution_count": 2,
   "metadata": {},
   "outputs": [],
   "source": [
    "df = pd.read_csv('data_posts.csv')"
   ]
  },
  {
   "cell_type": "code",
   "execution_count": 3,
   "metadata": {},
   "outputs": [
    {
     "data": {
      "text/plain": [
       "(10282, 8)"
      ]
     },
     "execution_count": 3,
     "metadata": {},
     "output_type": "execute_result"
    }
   ],
   "source": [
    "df.shape"
   ]
  },
  {
   "cell_type": "code",
   "execution_count": 4,
   "metadata": {},
   "outputs": [
    {
     "data": {
      "text/html": [
       "<div>\n",
       "<style scoped>\n",
       "    .dataframe tbody tr th:only-of-type {\n",
       "        vertical-align: middle;\n",
       "    }\n",
       "\n",
       "    .dataframe tbody tr th {\n",
       "        vertical-align: top;\n",
       "    }\n",
       "\n",
       "    .dataframe thead th {\n",
       "        text-align: right;\n",
       "    }\n",
       "</style>\n",
       "<table border=\"1\" class=\"dataframe\">\n",
       "  <thead>\n",
       "    <tr style=\"text-align: right;\">\n",
       "      <th></th>\n",
       "      <th>Id</th>\n",
       "      <th>PostTypeId</th>\n",
       "      <th>CreationDate</th>\n",
       "      <th>Score</th>\n",
       "      <th>Viewcount</th>\n",
       "      <th>Tags</th>\n",
       "      <th>AnswerCount</th>\n",
       "      <th>FavoriteCount</th>\n",
       "    </tr>\n",
       "  </thead>\n",
       "  <tbody>\n",
       "    <tr>\n",
       "      <th>0</th>\n",
       "      <td>62542</td>\n",
       "      <td>1</td>\n",
       "      <td>2019-11-01 19:11:02</td>\n",
       "      <td>1</td>\n",
       "      <td>13</td>\n",
       "      <td>&lt;python&gt;&lt;deep-learning&gt;&lt;tensorflow&gt;&lt;preprocess...</td>\n",
       "      <td>0</td>\n",
       "      <td>NaN</td>\n",
       "    </tr>\n",
       "    <tr>\n",
       "      <th>1</th>\n",
       "      <td>62547</td>\n",
       "      <td>1</td>\n",
       "      <td>2019-11-01 19:44:09</td>\n",
       "      <td>1</td>\n",
       "      <td>16</td>\n",
       "      <td>&lt;machine-learning&gt;&lt;classification&gt;&lt;regression&gt;</td>\n",
       "      <td>1</td>\n",
       "      <td>NaN</td>\n",
       "    </tr>\n",
       "    <tr>\n",
       "      <th>2</th>\n",
       "      <td>62548</td>\n",
       "      <td>1</td>\n",
       "      <td>2019-11-01 20:00:47</td>\n",
       "      <td>0</td>\n",
       "      <td>44</td>\n",
       "      <td>&lt;r&gt;&lt;missing-data&gt;</td>\n",
       "      <td>1</td>\n",
       "      <td>NaN</td>\n",
       "    </tr>\n",
       "    <tr>\n",
       "      <th>3</th>\n",
       "      <td>62549</td>\n",
       "      <td>1</td>\n",
       "      <td>2019-11-01 20:20:21</td>\n",
       "      <td>1</td>\n",
       "      <td>98</td>\n",
       "      <td>&lt;python&gt;&lt;scikit-learn&gt;&lt;scipy&gt;</td>\n",
       "      <td>1</td>\n",
       "      <td>NaN</td>\n",
       "    </tr>\n",
       "    <tr>\n",
       "      <th>4</th>\n",
       "      <td>62550</td>\n",
       "      <td>1</td>\n",
       "      <td>2019-11-01 20:30:20</td>\n",
       "      <td>0</td>\n",
       "      <td>51</td>\n",
       "      <td>&lt;machine-learning&gt;&lt;classification&gt;&lt;scikit-lear...</td>\n",
       "      <td>1</td>\n",
       "      <td>NaN</td>\n",
       "    </tr>\n",
       "  </tbody>\n",
       "</table>\n",
       "</div>"
      ],
      "text/plain": [
       "      Id  PostTypeId         CreationDate  Score  Viewcount  \\\n",
       "0  62542           1  2019-11-01 19:11:02      1         13   \n",
       "1  62547           1  2019-11-01 19:44:09      1         16   \n",
       "2  62548           1  2019-11-01 20:00:47      0         44   \n",
       "3  62549           1  2019-11-01 20:20:21      1         98   \n",
       "4  62550           1  2019-11-01 20:30:20      0         51   \n",
       "\n",
       "                                                Tags  AnswerCount  \\\n",
       "0  <python><deep-learning><tensorflow><preprocess...            0   \n",
       "1     <machine-learning><classification><regression>            1   \n",
       "2                                  <r><missing-data>            1   \n",
       "3                      <python><scikit-learn><scipy>            1   \n",
       "4  <machine-learning><classification><scikit-lear...            1   \n",
       "\n",
       "   FavoriteCount  \n",
       "0            NaN  \n",
       "1            NaN  \n",
       "2            NaN  \n",
       "3            NaN  \n",
       "4            NaN  "
      ]
     },
     "execution_count": 4,
     "metadata": {},
     "output_type": "execute_result"
    }
   ],
   "source": [
    "df.head()"
   ]
  },
  {
   "cell_type": "code",
   "execution_count": 5,
   "metadata": {},
   "outputs": [
    {
     "data": {
      "text/plain": [
       "Id                  0\n",
       "PostTypeId          0\n",
       "CreationDate        0\n",
       "Score               0\n",
       "Viewcount           0\n",
       "Tags                0\n",
       "AnswerCount         0\n",
       "FavoriteCount    8661\n",
       "dtype: int64"
      ]
     },
     "execution_count": 5,
     "metadata": {},
     "output_type": "execute_result"
    }
   ],
   "source": [
    "# checking for null values in our dataset\n",
    "df.isnull().sum()"
   ]
  },
  {
   "cell_type": "code",
   "execution_count": 6,
   "metadata": {},
   "outputs": [
    {
     "data": {
      "text/plain": [
       "Id                 int64\n",
       "PostTypeId         int64\n",
       "CreationDate      object\n",
       "Score              int64\n",
       "Viewcount          int64\n",
       "Tags              object\n",
       "AnswerCount        int64\n",
       "FavoriteCount    float64\n",
       "dtype: object"
      ]
     },
     "execution_count": 6,
     "metadata": {},
     "output_type": "execute_result"
    }
   ],
   "source": [
    "# checking datatypes\n",
    "df.dtypes"
   ]
  },
  {
   "cell_type": "markdown",
   "metadata": {},
   "source": [
    "Notes on our dataset so far:\n",
    "\n",
    "The dataset has a lot of nulls in ViewCount, Tags, AnswerCount, and mostly in FavoriteCount. FavoriteCount has mostly null values so we may not be using that field. Tags has all the tags in one cell seperated by <tag>. Datatypes are mostly correct except for CreationDate."
   ]
  },
  {
   "cell_type": "code",
   "execution_count": 7,
   "metadata": {},
   "outputs": [],
   "source": [
    "# converting CreationDate to datetime type; we could have done this when we read in the data by using parse_dates\n",
    "df['CreationDate'] = pd.to_datetime(df['CreationDate'])"
   ]
  },
  {
   "cell_type": "code",
   "execution_count": 8,
   "metadata": {},
   "outputs": [
    {
     "data": {
      "text/plain": [
       "Id                        int64\n",
       "PostTypeId                int64\n",
       "CreationDate     datetime64[ns]\n",
       "Score                     int64\n",
       "Viewcount                 int64\n",
       "Tags                     object\n",
       "AnswerCount               int64\n",
       "FavoriteCount           float64\n",
       "dtype: object"
      ]
     },
     "execution_count": 8,
     "metadata": {},
     "output_type": "execute_result"
    }
   ],
   "source": [
    "df.dtypes"
   ]
  },
  {
   "cell_type": "code",
   "execution_count": 9,
   "metadata": {},
   "outputs": [],
   "source": [
    "# we'll fill in all the missing values above with zeros\n",
    "df.fillna(0, inplace=True)"
   ]
  },
  {
   "cell_type": "code",
   "execution_count": 10,
   "metadata": {},
   "outputs": [],
   "source": [
    "# we're gong to convert tags to comma seperated values\n",
    "df['Tags'] = df['Tags'].str.replace('><',',').str.replace('<','').str.replace('>',\"\")"
   ]
  },
  {
   "cell_type": "code",
   "execution_count": 11,
   "metadata": {},
   "outputs": [
    {
     "data": {
      "text/html": [
       "<div>\n",
       "<style scoped>\n",
       "    .dataframe tbody tr th:only-of-type {\n",
       "        vertical-align: middle;\n",
       "    }\n",
       "\n",
       "    .dataframe tbody tr th {\n",
       "        vertical-align: top;\n",
       "    }\n",
       "\n",
       "    .dataframe thead th {\n",
       "        text-align: right;\n",
       "    }\n",
       "</style>\n",
       "<table border=\"1\" class=\"dataframe\">\n",
       "  <thead>\n",
       "    <tr style=\"text-align: right;\">\n",
       "      <th></th>\n",
       "      <th>Id</th>\n",
       "      <th>PostTypeId</th>\n",
       "      <th>CreationDate</th>\n",
       "      <th>Score</th>\n",
       "      <th>Viewcount</th>\n",
       "      <th>Tags</th>\n",
       "      <th>AnswerCount</th>\n",
       "      <th>FavoriteCount</th>\n",
       "    </tr>\n",
       "  </thead>\n",
       "  <tbody>\n",
       "    <tr>\n",
       "      <th>8923</th>\n",
       "      <td>48697</td>\n",
       "      <td>1</td>\n",
       "      <td>2019-04-05 14:25:07</td>\n",
       "      <td>1</td>\n",
       "      <td>528</td>\n",
       "      <td>python,keras,tensorflow,loss-function,autoencoder</td>\n",
       "      <td>1</td>\n",
       "      <td>0.0</td>\n",
       "    </tr>\n",
       "    <tr>\n",
       "      <th>1455</th>\n",
       "      <td>62833</td>\n",
       "      <td>1</td>\n",
       "      <td>2019-11-07 13:09:09</td>\n",
       "      <td>2</td>\n",
       "      <td>45</td>\n",
       "      <td>machine-learning,neural-network,classification...</td>\n",
       "      <td>1</td>\n",
       "      <td>0.0</td>\n",
       "    </tr>\n",
       "    <tr>\n",
       "      <th>804</th>\n",
       "      <td>54737</td>\n",
       "      <td>1</td>\n",
       "      <td>2019-06-29 10:42:19</td>\n",
       "      <td>0</td>\n",
       "      <td>20</td>\n",
       "      <td>machine-learning,clustering,unsupervised-learn...</td>\n",
       "      <td>0</td>\n",
       "      <td>0.0</td>\n",
       "    </tr>\n",
       "  </tbody>\n",
       "</table>\n",
       "</div>"
      ],
      "text/plain": [
       "         Id  PostTypeId        CreationDate  Score  Viewcount  \\\n",
       "8923  48697           1 2019-04-05 14:25:07      1        528   \n",
       "1455  62833           1 2019-11-07 13:09:09      2         45   \n",
       "804   54737           1 2019-06-29 10:42:19      0         20   \n",
       "\n",
       "                                                   Tags  AnswerCount  \\\n",
       "8923  python,keras,tensorflow,loss-function,autoencoder            1   \n",
       "1455  machine-learning,neural-network,classification...            1   \n",
       "804   machine-learning,clustering,unsupervised-learn...            0   \n",
       "\n",
       "      FavoriteCount  \n",
       "8923            0.0  \n",
       "1455            0.0  \n",
       "804             0.0  "
      ]
     },
     "execution_count": 11,
     "metadata": {},
     "output_type": "execute_result"
    }
   ],
   "source": [
    "df.sample(3)"
   ]
  },
  {
   "cell_type": "code",
   "execution_count": 12,
   "metadata": {},
   "outputs": [],
   "source": [
    "df['Tags'] = df['Tags'].str.split(',')"
   ]
  },
  {
   "cell_type": "code",
   "execution_count": 13,
   "metadata": {},
   "outputs": [
    {
     "data": {
      "text/html": [
       "<div>\n",
       "<style scoped>\n",
       "    .dataframe tbody tr th:only-of-type {\n",
       "        vertical-align: middle;\n",
       "    }\n",
       "\n",
       "    .dataframe tbody tr th {\n",
       "        vertical-align: top;\n",
       "    }\n",
       "\n",
       "    .dataframe thead th {\n",
       "        text-align: right;\n",
       "    }\n",
       "</style>\n",
       "<table border=\"1\" class=\"dataframe\">\n",
       "  <thead>\n",
       "    <tr style=\"text-align: right;\">\n",
       "      <th></th>\n",
       "      <th>Id</th>\n",
       "      <th>PostTypeId</th>\n",
       "      <th>CreationDate</th>\n",
       "      <th>Score</th>\n",
       "      <th>Viewcount</th>\n",
       "      <th>Tags</th>\n",
       "      <th>AnswerCount</th>\n",
       "      <th>FavoriteCount</th>\n",
       "    </tr>\n",
       "  </thead>\n",
       "  <tbody>\n",
       "    <tr>\n",
       "      <th>129</th>\n",
       "      <td>54313</td>\n",
       "      <td>1</td>\n",
       "      <td>2019-06-23 01:25:13</td>\n",
       "      <td>0</td>\n",
       "      <td>243</td>\n",
       "      <td>[neural-network, distribution, gaussian, opena...</td>\n",
       "      <td>1</td>\n",
       "      <td>0.0</td>\n",
       "    </tr>\n",
       "    <tr>\n",
       "      <th>8487</th>\n",
       "      <td>48208</td>\n",
       "      <td>1</td>\n",
       "      <td>2019-03-29 10:37:17</td>\n",
       "      <td>1</td>\n",
       "      <td>59</td>\n",
       "      <td>[machine-learning, decision-trees, information...</td>\n",
       "      <td>1</td>\n",
       "      <td>1.0</td>\n",
       "    </tr>\n",
       "    <tr>\n",
       "      <th>3887</th>\n",
       "      <td>55641</td>\n",
       "      <td>1</td>\n",
       "      <td>2019-07-14 12:49:57</td>\n",
       "      <td>0</td>\n",
       "      <td>39</td>\n",
       "      <td>[machine-learning, deep-learning, tensorflow, ...</td>\n",
       "      <td>0</td>\n",
       "      <td>0.0</td>\n",
       "    </tr>\n",
       "  </tbody>\n",
       "</table>\n",
       "</div>"
      ],
      "text/plain": [
       "         Id  PostTypeId        CreationDate  Score  Viewcount  \\\n",
       "129   54313           1 2019-06-23 01:25:13      0        243   \n",
       "8487  48208           1 2019-03-29 10:37:17      1         59   \n",
       "3887  55641           1 2019-07-14 12:49:57      0         39   \n",
       "\n",
       "                                                   Tags  AnswerCount  \\\n",
       "129   [neural-network, distribution, gaussian, opena...            1   \n",
       "8487  [machine-learning, decision-trees, information...            1   \n",
       "3887  [machine-learning, deep-learning, tensorflow, ...            0   \n",
       "\n",
       "      FavoriteCount  \n",
       "129             0.0  \n",
       "8487            1.0  \n",
       "3887            0.0  "
      ]
     },
     "execution_count": 13,
     "metadata": {},
     "output_type": "execute_result"
    }
   ],
   "source": [
    "df.sample(3)"
   ]
  },
  {
   "cell_type": "code",
   "execution_count": 14,
   "metadata": {},
   "outputs": [],
   "source": [
    "# We'll now foucs on determining the most popular tags\n",
    "# This counts the number tags used in all question posts from 1/1/2019 forward\n",
    "tag_count = dict()\n",
    "\n",
    "for tags in df['Tags']:\n",
    "    for tag in tags:\n",
    "        if tag in tag_count:\n",
    "            tag_count[tag] += 1\n",
    "        else:\n",
    "            tag_count[tag] = 1"
   ]
  },
  {
   "cell_type": "code",
   "execution_count": 15,
   "metadata": {},
   "outputs": [],
   "source": [
    "# Converting the dictionary into a dataframe\n",
    "tag_count = pd.DataFrame.from_dict(tag_count, orient='index')\n",
    "tag_count.rename(columns={0:'count'}, inplace=True)"
   ]
  },
  {
   "cell_type": "code",
   "execution_count": 16,
   "metadata": {},
   "outputs": [
    {
     "data": {
      "text/html": [
       "<div>\n",
       "<style scoped>\n",
       "    .dataframe tbody tr th:only-of-type {\n",
       "        vertical-align: middle;\n",
       "    }\n",
       "\n",
       "    .dataframe tbody tr th {\n",
       "        vertical-align: top;\n",
       "    }\n",
       "\n",
       "    .dataframe thead th {\n",
       "        text-align: right;\n",
       "    }\n",
       "</style>\n",
       "<table border=\"1\" class=\"dataframe\">\n",
       "  <thead>\n",
       "    <tr style=\"text-align: right;\">\n",
       "      <th></th>\n",
       "      <th>count</th>\n",
       "    </tr>\n",
       "  </thead>\n",
       "  <tbody>\n",
       "    <tr>\n",
       "      <th>dataset</th>\n",
       "      <td>394</td>\n",
       "    </tr>\n",
       "    <tr>\n",
       "      <th>regression</th>\n",
       "      <td>405</td>\n",
       "    </tr>\n",
       "    <tr>\n",
       "      <th>pandas</th>\n",
       "      <td>416</td>\n",
       "    </tr>\n",
       "    <tr>\n",
       "      <th>lstm</th>\n",
       "      <td>446</td>\n",
       "    </tr>\n",
       "    <tr>\n",
       "      <th>time-series</th>\n",
       "      <td>517</td>\n",
       "    </tr>\n",
       "    <tr>\n",
       "      <th>cnn</th>\n",
       "      <td>561</td>\n",
       "    </tr>\n",
       "    <tr>\n",
       "      <th>nlp</th>\n",
       "      <td>592</td>\n",
       "    </tr>\n",
       "    <tr>\n",
       "      <th>scikit-learn</th>\n",
       "      <td>628</td>\n",
       "    </tr>\n",
       "    <tr>\n",
       "      <th>tensorflow</th>\n",
       "      <td>677</td>\n",
       "    </tr>\n",
       "    <tr>\n",
       "      <th>classification</th>\n",
       "      <td>779</td>\n",
       "    </tr>\n",
       "    <tr>\n",
       "      <th>keras</th>\n",
       "      <td>1053</td>\n",
       "    </tr>\n",
       "    <tr>\n",
       "      <th>neural-network</th>\n",
       "      <td>1204</td>\n",
       "    </tr>\n",
       "    <tr>\n",
       "      <th>deep-learning</th>\n",
       "      <td>1403</td>\n",
       "    </tr>\n",
       "    <tr>\n",
       "      <th>python</th>\n",
       "      <td>2114</td>\n",
       "    </tr>\n",
       "    <tr>\n",
       "      <th>machine-learning</th>\n",
       "      <td>3129</td>\n",
       "    </tr>\n",
       "  </tbody>\n",
       "</table>\n",
       "</div>"
      ],
      "text/plain": [
       "                  count\n",
       "dataset             394\n",
       "regression          405\n",
       "pandas              416\n",
       "lstm                446\n",
       "time-series         517\n",
       "cnn                 561\n",
       "nlp                 592\n",
       "scikit-learn        628\n",
       "tensorflow          677\n",
       "classification      779\n",
       "keras              1053\n",
       "neural-network     1204\n",
       "deep-learning      1403\n",
       "python             2114\n",
       "machine-learning   3129"
      ]
     },
     "execution_count": 16,
     "metadata": {},
     "output_type": "execute_result"
    }
   ],
   "source": [
    "# creating a most used tags by getting the top 15\n",
    "# the sorting and grabbing the tail is important when we plot it below to show highest to lowest in the graph\n",
    "most_used_tags = tag_count.sort_values(by='count', ascending=True).tail(15)\n",
    "most_used_tags"
   ]
  },
  {
   "cell_type": "code",
   "execution_count": 17,
   "metadata": {},
   "outputs": [
    {
     "data": {
      "text/plain": [
       "<matplotlib.axes._subplots.AxesSubplot at 0x1da8243f198>"
      ]
     },
     "execution_count": 17,
     "metadata": {},
     "output_type": "execute_result"
    },
    {
     "data": {
      "image/png": "[encoded data removed]",
      "text/plain": [
       "<Figure size 864x432 with 1 Axes>"
      ]
     },
     "metadata": {
      "needs_background": "light"
     },
     "output_type": "display_data"
    }
   ],
   "source": [
    "# plotting our most_used_tags\n",
    "most_used_tags.plot(kind='barh', figsize=(12,6))"
   ]
  },
  {
   "cell_type": "code",
   "execution_count": 18,
   "metadata": {},
   "outputs": [
    {
     "name": "stdout",
     "output_type": "stream",
     "text": [
      "0 N\n",
      "1 a\n",
      "2 m\n",
      "3 e\n",
      "4  \n",
      "5 =\n",
      "6  \n",
      "7 C\n",
      "8 a\n",
      "9 r\n",
      "10 l\n",
      "11 o\n",
      "12 s\n"
     ]
    }
   ],
   "source": [
    "# for the views we will use the same methodology above but also use the enummerate function to itirate \n",
    "# iterate gives us the index of the item\n",
    "test = \"Name = Carlos\"\n",
    "\n",
    "for i,c in enumerate(test):\n",
    "    print(i,c)"
   ]
  },
  {
   "cell_type": "code",
   "execution_count": 19,
   "metadata": {},
   "outputs": [],
   "source": [
    "# This sums the number views per tag in all question posts from 1/1/2019 forward\n",
    "tag_view_count = dict()\n",
    "\n",
    "for i, tags in enumerate(df['Tags']):\n",
    "    for tag in tags:\n",
    "        if tag in tag_view_count:\n",
    "            tag_view_count[tag] += df['Viewcount'].loc[i]\n",
    "        else:\n",
    "            tag_view_count[tag] = 1"
   ]
  },
  {
   "cell_type": "code",
   "execution_count": 20,
   "metadata": {},
   "outputs": [
    {
     "data": {
      "text/html": [
       "<div>\n",
       "<style scoped>\n",
       "    .dataframe tbody tr th:only-of-type {\n",
       "        vertical-align: middle;\n",
       "    }\n",
       "\n",
       "    .dataframe tbody tr th {\n",
       "        vertical-align: top;\n",
       "    }\n",
       "\n",
       "    .dataframe thead th {\n",
       "        text-align: right;\n",
       "    }\n",
       "</style>\n",
       "<table border=\"1\" class=\"dataframe\">\n",
       "  <thead>\n",
       "    <tr style=\"text-align: right;\">\n",
       "      <th></th>\n",
       "      <th>ViewCount</th>\n",
       "    </tr>\n",
       "  </thead>\n",
       "  <tbody>\n",
       "    <tr>\n",
       "      <th>python</th>\n",
       "      <td>752682</td>\n",
       "    </tr>\n",
       "    <tr>\n",
       "      <th>deep-learning</th>\n",
       "      <td>309988</td>\n",
       "    </tr>\n",
       "    <tr>\n",
       "      <th>tensorflow</th>\n",
       "      <td>170574</td>\n",
       "    </tr>\n",
       "    <tr>\n",
       "      <th>preprocessing</th>\n",
       "      <td>25388</td>\n",
       "    </tr>\n",
       "    <tr>\n",
       "      <th>numpy</th>\n",
       "      <td>72089</td>\n",
       "    </tr>\n",
       "  </tbody>\n",
       "</table>\n",
       "</div>"
      ],
      "text/plain": [
       "               ViewCount\n",
       "python            752682\n",
       "deep-learning     309988\n",
       "tensorflow        170574\n",
       "preprocessing      25388\n",
       "numpy              72089"
      ]
     },
     "execution_count": 20,
     "metadata": {},
     "output_type": "execute_result"
    }
   ],
   "source": [
    "tag_views = pd.DataFrame.from_dict(tag_view_count, orient='index')\n",
    "tag_views.rename(columns={0:'ViewCount'}, inplace=True)\n",
    "tag_views.head()"
   ]
  },
  {
   "cell_type": "code",
   "execution_count": 21,
   "metadata": {},
   "outputs": [
    {
     "data": {
      "text/html": [
       "<div>\n",
       "<style scoped>\n",
       "    .dataframe tbody tr th:only-of-type {\n",
       "        vertical-align: middle;\n",
       "    }\n",
       "\n",
       "    .dataframe tbody tr th {\n",
       "        vertical-align: top;\n",
       "    }\n",
       "\n",
       "    .dataframe thead th {\n",
       "        text-align: right;\n",
       "    }\n",
       "</style>\n",
       "<table border=\"1\" class=\"dataframe\">\n",
       "  <thead>\n",
       "    <tr style=\"text-align: right;\">\n",
       "      <th></th>\n",
       "      <th>ViewCount</th>\n",
       "    </tr>\n",
       "  </thead>\n",
       "  <tbody>\n",
       "    <tr>\n",
       "      <th>numpy</th>\n",
       "      <td>72089</td>\n",
       "    </tr>\n",
       "    <tr>\n",
       "      <th>time-series</th>\n",
       "      <td>86535</td>\n",
       "    </tr>\n",
       "    <tr>\n",
       "      <th>cnn</th>\n",
       "      <td>96997</td>\n",
       "    </tr>\n",
       "    <tr>\n",
       "      <th>lstm</th>\n",
       "      <td>98126</td>\n",
       "    </tr>\n",
       "    <tr>\n",
       "      <th>nlp</th>\n",
       "      <td>104189</td>\n",
       "    </tr>\n",
       "    <tr>\n",
       "      <th>dataframe</th>\n",
       "      <td>125703</td>\n",
       "    </tr>\n",
       "    <tr>\n",
       "      <th>classification</th>\n",
       "      <td>139177</td>\n",
       "    </tr>\n",
       "    <tr>\n",
       "      <th>tensorflow</th>\n",
       "      <td>170574</td>\n",
       "    </tr>\n",
       "    <tr>\n",
       "      <th>scikit-learn</th>\n",
       "      <td>177500</td>\n",
       "    </tr>\n",
       "    <tr>\n",
       "      <th>neural-network</th>\n",
       "      <td>250411</td>\n",
       "    </tr>\n",
       "    <tr>\n",
       "      <th>pandas</th>\n",
       "      <td>303899</td>\n",
       "    </tr>\n",
       "    <tr>\n",
       "      <th>deep-learning</th>\n",
       "      <td>309988</td>\n",
       "    </tr>\n",
       "    <tr>\n",
       "      <th>keras</th>\n",
       "      <td>359562</td>\n",
       "    </tr>\n",
       "    <tr>\n",
       "      <th>machine-learning</th>\n",
       "      <td>526447</td>\n",
       "    </tr>\n",
       "    <tr>\n",
       "      <th>python</th>\n",
       "      <td>752682</td>\n",
       "    </tr>\n",
       "  </tbody>\n",
       "</table>\n",
       "</div>"
      ],
      "text/plain": [
       "                  ViewCount\n",
       "numpy                 72089\n",
       "time-series           86535\n",
       "cnn                   96997\n",
       "lstm                  98126\n",
       "nlp                  104189\n",
       "dataframe            125703\n",
       "classification       139177\n",
       "tensorflow           170574\n",
       "scikit-learn         177500\n",
       "neural-network       250411\n",
       "pandas               303899\n",
       "deep-learning        309988\n",
       "keras                359562\n",
       "machine-learning     526447\n",
       "python               752682"
      ]
     },
     "execution_count": 21,
     "metadata": {},
     "output_type": "execute_result"
    }
   ],
   "source": [
    "most_viewed_tags = tag_views.sort_values(by='ViewCount').tail(15)\n",
    "most_viewed_tags"
   ]
  },
  {
   "cell_type": "code",
   "execution_count": 22,
   "metadata": {},
   "outputs": [
    {
     "data": {
      "text/plain": [
       "<matplotlib.axes._subplots.AxesSubplot at 0x1da8245b588>"
      ]
     },
     "execution_count": 22,
     "metadata": {},
     "output_type": "execute_result"
    },
    {
     "data": {
      "image/png": "[encoded data removed]",
      "text/plain": [
       "<Figure size 864x432 with 1 Axes>"
      ]
     },
     "metadata": {
      "needs_background": "light"
     },
     "output_type": "display_data"
    }
   ],
   "source": [
    "most_viewed_tags.plot(kind='barh', figsize=(12,6))"
   ]
  },
  {
   "cell_type": "code",
   "execution_count": 25,
   "metadata": {},
   "outputs": [
    {
     "data": {
      "text/plain": [
       "array([<matplotlib.axes._subplots.AxesSubplot object at 0x000001DA82A316A0>],\n",
       "      dtype=object)"
      ]
     },
     "execution_count": 25,
     "metadata": {},
     "output_type": "execute_result"
    },
    {
     "data": {
      "image/png": "[encoded data removed]",
      "text/plain": [
       "<Figure size 1728x720 with 2 Axes>"
      ]
     },
     "metadata": {},
     "output_type": "display_data"
    }
   ],
   "source": [
    "# plotting them next to each other\n",
    "fig, axes = plt.subplots(nrows=1, ncols=2)\n",
    "fig.set_size_inches(24,10)\n",
    "most_used_tags.plot(kind='barh', ax=axes[0], subplots=True)\n",
    "most_viewed_tags.plot(kind='barh', ax=axes[1], subplots=True)"
   ]
  },
  {
   "cell_type": "markdown",
   "metadata": {},
   "source": [
    "Based on the graphs above we can determine that pythong and machine learning, deep learning are the most popular tags"
   ]
  },
  {
   "cell_type": "code",
   "execution_count": null,
   "metadata": {},
   "outputs": [],
   "source": []
  }
 ],
 "metadata": {
  "kernelspec": {
   "display_name": "Python 3",
   "language": "python",
   "name": "python3"
  },
  "language_info": {
   "codemirror_mode": {
    "name": "ipython",
    "version": 3
   },
   "file_extension": ".py",
   "mimetype": "text/x-python",
   "name": "python",
   "nbconvert_exporter": "python",
   "pygments_lexer": "ipython3",
   "version": "3.7.1"
  }
 },
 "nbformat": 4,
 "nbformat_minor": 2
}

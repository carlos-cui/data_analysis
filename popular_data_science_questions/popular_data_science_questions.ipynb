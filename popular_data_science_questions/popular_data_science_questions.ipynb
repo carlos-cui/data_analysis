{
 "cells": [
  {
   "cell_type": "markdown",
   "metadata": {},
   "source": [
    "# Popular Data Science Questions\n",
    "\n",
    "Scenario: \n",
    "\n",
    "we work in a company that creates data science content. The task is to figure what what is the beset content to write about.\n",
    "\n",
    "We will use the Data Science Stack Exchange (DSSE) data to complete this analysis.\n",
    "\n",
    "https://datascience.stackexchange.com/\n",
    "\n",
    "The Data Science Exchange has a Stack Exchange Data Explorer (SEDE) in which we can query their database post information. \n",
    "\n",
    "https://data.stackexchange.com/\n",
    "\n",
    "The most promising of the tables in this database are the Tags table, which contains a count of tags applied to posts. We can also use the Posts table which has a value for the total ViewCount, Score value, based on users upvoting/downvoting each post, favorite count, and comment count. All of which should enable us to figure out which types of topics are most common."
   ]
  },
  {
   "cell_type": "raw",
   "metadata": {},
   "source": [
    "If I ran this query:\n",
    "\n",
    "SELECT pt.Name, COUNT(p.PostTypeId) AS NumOfPosts\n",
    "FROM Posts p\n",
    "JOIN PostTypes pt ON p.PostTypeId = pt.Id\n",
    "GROUP BY pt.Name\n",
    "ORDER BY 2 DESC\n",
    "\n",
    "I get these results:\n",
    "\n",
    "Name\t        NumOfPosts\n",
    "Answer\t        24837\n",
    "Question\t    22560\n",
    "TagWiki\t        237\n",
    "TagWikiExcerpt\t237\n",
    "ModeratorNomination\t11\n",
    "WikiPlaceholder\t 1\n",
    "\n",
    "Based on these results we'll focus our analysis on Questions (posttypeid =1) since it's more in line with what people want to know about. The volumn of the other types is very low. We'll also extract data for anything posted from 2019 forward (through 3.8.20).\n",
    "\n",
    "Query run to get our dataset:\n",
    "\n",
    "SELECT\n",
    "  Id,\n",
    "  PostTypeId,\n",
    "  CreationDate,\n",
    "  Score,\n",
    "  Viewcount,\n",
    "  Tags,\n",
    "  AnswerCount,\n",
    "  FavoriteCount\n",
    "FROM posts\n",
    "WHERE creationdate >= '2019-01-01'\n",
    "AND posttypeid = 1"
   ]
  },
  {
   "cell_type": "code",
   "execution_count": 62,
   "metadata": {},
   "outputs": [],
   "source": [
    "import pandas as pd"
   ]
  },
  {
   "cell_type": "code",
   "execution_count": 63,
   "metadata": {},
   "outputs": [],
   "source": [
    "df = pd.read_csv('data_posts.csv')"
   ]
  },
  {
   "cell_type": "code",
   "execution_count": 64,
   "metadata": {},
   "outputs": [
    {
     "data": {
      "text/plain": [
       "(10282, 8)"
      ]
     },
     "execution_count": 64,
     "metadata": {},
     "output_type": "execute_result"
    }
   ],
   "source": [
    "df.shape"
   ]
  },
  {
   "cell_type": "code",
   "execution_count": 65,
   "metadata": {},
   "outputs": [
    {
     "data": {
      "text/html": [
       "<div>\n",
       "<style scoped>\n",
       "    .dataframe tbody tr th:only-of-type {\n",
       "        vertical-align: middle;\n",
       "    }\n",
       "\n",
       "    .dataframe tbody tr th {\n",
       "        vertical-align: top;\n",
       "    }\n",
       "\n",
       "    .dataframe thead th {\n",
       "        text-align: right;\n",
       "    }\n",
       "</style>\n",
       "<table border=\"1\" class=\"dataframe\">\n",
       "  <thead>\n",
       "    <tr style=\"text-align: right;\">\n",
       "      <th></th>\n",
       "      <th>Id</th>\n",
       "      <th>PostTypeId</th>\n",
       "      <th>CreationDate</th>\n",
       "      <th>Score</th>\n",
       "      <th>Viewcount</th>\n",
       "      <th>Tags</th>\n",
       "      <th>AnswerCount</th>\n",
       "      <th>FavoriteCount</th>\n",
       "    </tr>\n",
       "  </thead>\n",
       "  <tbody>\n",
       "    <tr>\n",
       "      <th>0</th>\n",
       "      <td>62542</td>\n",
       "      <td>1</td>\n",
       "      <td>2019-11-01 19:11:02</td>\n",
       "      <td>1</td>\n",
       "      <td>13</td>\n",
       "      <td>&lt;python&gt;&lt;deep-learning&gt;&lt;tensorflow&gt;&lt;preprocess...</td>\n",
       "      <td>0</td>\n",
       "      <td>NaN</td>\n",
       "    </tr>\n",
       "    <tr>\n",
       "      <th>1</th>\n",
       "      <td>62547</td>\n",
       "      <td>1</td>\n",
       "      <td>2019-11-01 19:44:09</td>\n",
       "      <td>1</td>\n",
       "      <td>16</td>\n",
       "      <td>&lt;machine-learning&gt;&lt;classification&gt;&lt;regression&gt;</td>\n",
       "      <td>1</td>\n",
       "      <td>NaN</td>\n",
       "    </tr>\n",
       "    <tr>\n",
       "      <th>2</th>\n",
       "      <td>62548</td>\n",
       "      <td>1</td>\n",
       "      <td>2019-11-01 20:00:47</td>\n",
       "      <td>0</td>\n",
       "      <td>44</td>\n",
       "      <td>&lt;r&gt;&lt;missing-data&gt;</td>\n",
       "      <td>1</td>\n",
       "      <td>NaN</td>\n",
       "    </tr>\n",
       "    <tr>\n",
       "      <th>3</th>\n",
       "      <td>62549</td>\n",
       "      <td>1</td>\n",
       "      <td>2019-11-01 20:20:21</td>\n",
       "      <td>1</td>\n",
       "      <td>98</td>\n",
       "      <td>&lt;python&gt;&lt;scikit-learn&gt;&lt;scipy&gt;</td>\n",
       "      <td>1</td>\n",
       "      <td>NaN</td>\n",
       "    </tr>\n",
       "    <tr>\n",
       "      <th>4</th>\n",
       "      <td>62550</td>\n",
       "      <td>1</td>\n",
       "      <td>2019-11-01 20:30:20</td>\n",
       "      <td>0</td>\n",
       "      <td>51</td>\n",
       "      <td>&lt;machine-learning&gt;&lt;classification&gt;&lt;scikit-lear...</td>\n",
       "      <td>1</td>\n",
       "      <td>NaN</td>\n",
       "    </tr>\n",
       "  </tbody>\n",
       "</table>\n",
       "</div>"
      ],
      "text/plain": [
       "      Id  PostTypeId         CreationDate  Score  Viewcount  \\\n",
       "0  62542           1  2019-11-01 19:11:02      1         13   \n",
       "1  62547           1  2019-11-01 19:44:09      1         16   \n",
       "2  62548           1  2019-11-01 20:00:47      0         44   \n",
       "3  62549           1  2019-11-01 20:20:21      1         98   \n",
       "4  62550           1  2019-11-01 20:30:20      0         51   \n",
       "\n",
       "                                                Tags  AnswerCount  \\\n",
       "0  <python><deep-learning><tensorflow><preprocess...            0   \n",
       "1     <machine-learning><classification><regression>            1   \n",
       "2                                  <r><missing-data>            1   \n",
       "3                      <python><scikit-learn><scipy>            1   \n",
       "4  <machine-learning><classification><scikit-lear...            1   \n",
       "\n",
       "   FavoriteCount  \n",
       "0            NaN  \n",
       "1            NaN  \n",
       "2            NaN  \n",
       "3            NaN  \n",
       "4            NaN  "
      ]
     },
     "execution_count": 65,
     "metadata": {},
     "output_type": "execute_result"
    }
   ],
   "source": [
    "df.head()"
   ]
  },
  {
   "cell_type": "code",
   "execution_count": 66,
   "metadata": {},
   "outputs": [
    {
     "data": {
      "text/plain": [
       "Id                  0\n",
       "PostTypeId          0\n",
       "CreationDate        0\n",
       "Score               0\n",
       "Viewcount           0\n",
       "Tags                0\n",
       "AnswerCount         0\n",
       "FavoriteCount    8661\n",
       "dtype: int64"
      ]
     },
     "execution_count": 66,
     "metadata": {},
     "output_type": "execute_result"
    }
   ],
   "source": [
    "# checking for null values in our dataset\n",
    "df.isnull().sum()"
   ]
  },
  {
   "cell_type": "code",
   "execution_count": 67,
   "metadata": {},
   "outputs": [
    {
     "data": {
      "text/plain": [
       "Id                 int64\n",
       "PostTypeId         int64\n",
       "CreationDate      object\n",
       "Score              int64\n",
       "Viewcount          int64\n",
       "Tags              object\n",
       "AnswerCount        int64\n",
       "FavoriteCount    float64\n",
       "dtype: object"
      ]
     },
     "execution_count": 67,
     "metadata": {},
     "output_type": "execute_result"
    }
   ],
   "source": [
    "# checking datatypes\n",
    "df.dtypes"
   ]
  },
  {
   "cell_type": "markdown",
   "metadata": {},
   "source": [
    "Notes on our dataset so far:\n",
    "\n",
    "The dataset has a lot of nulls in ViewCount, Tags, AnswerCount, and mostly in FavoriteCount. FavoriteCount has mostly null values so we may not be using that field. Tags has all the tags in one cell seperated by <tag>. Datatypes are mostly correct except for CreationDate."
   ]
  },
  {
   "cell_type": "code",
   "execution_count": 68,
   "metadata": {},
   "outputs": [],
   "source": [
    "# converting CreationDate to datetime type; we could have done this when we read in the data by using parse_dates\n",
    "df['CreationDate'] = pd.to_datetime(df['CreationDate'])"
   ]
  },
  {
   "cell_type": "code",
   "execution_count": 69,
   "metadata": {},
   "outputs": [
    {
     "data": {
      "text/plain": [
       "Id                        int64\n",
       "PostTypeId                int64\n",
       "CreationDate     datetime64[ns]\n",
       "Score                     int64\n",
       "Viewcount                 int64\n",
       "Tags                     object\n",
       "AnswerCount               int64\n",
       "FavoriteCount           float64\n",
       "dtype: object"
      ]
     },
     "execution_count": 69,
     "metadata": {},
     "output_type": "execute_result"
    }
   ],
   "source": [
    "df.dtypes"
   ]
  },
  {
   "cell_type": "code",
   "execution_count": 70,
   "metadata": {},
   "outputs": [],
   "source": [
    "# we'll fill in all the missing values above with zeros\n",
    "df.fillna(0, inplace=True)"
   ]
  },
  {
   "cell_type": "code",
   "execution_count": 71,
   "metadata": {},
   "outputs": [],
   "source": [
    "# we're gong to convert tags to comma seperated values\n",
    "df['Tags'] = df['Tags'].str.replace('><',',').str.replace('<','').str.replace('>',\"\")"
   ]
  },
  {
   "cell_type": "code",
   "execution_count": 72,
   "metadata": {},
   "outputs": [
    {
     "data": {
      "text/html": [
       "<div>\n",
       "<style scoped>\n",
       "    .dataframe tbody tr th:only-of-type {\n",
       "        vertical-align: middle;\n",
       "    }\n",
       "\n",
       "    .dataframe tbody tr th {\n",
       "        vertical-align: top;\n",
       "    }\n",
       "\n",
       "    .dataframe thead th {\n",
       "        text-align: right;\n",
       "    }\n",
       "</style>\n",
       "<table border=\"1\" class=\"dataframe\">\n",
       "  <thead>\n",
       "    <tr style=\"text-align: right;\">\n",
       "      <th></th>\n",
       "      <th>Id</th>\n",
       "      <th>PostTypeId</th>\n",
       "      <th>CreationDate</th>\n",
       "      <th>Score</th>\n",
       "      <th>Viewcount</th>\n",
       "      <th>Tags</th>\n",
       "      <th>AnswerCount</th>\n",
       "      <th>FavoriteCount</th>\n",
       "    </tr>\n",
       "  </thead>\n",
       "  <tbody>\n",
       "    <tr>\n",
       "      <th>8586</th>\n",
       "      <td>62037</td>\n",
       "      <td>1</td>\n",
       "      <td>2019-10-21 15:38:14</td>\n",
       "      <td>1</td>\n",
       "      <td>16</td>\n",
       "      <td>deep-learning,nlp,machine-translation,bert,neu...</td>\n",
       "      <td>0</td>\n",
       "      <td>0.0</td>\n",
       "    </tr>\n",
       "    <tr>\n",
       "      <th>6030</th>\n",
       "      <td>64646</td>\n",
       "      <td>1</td>\n",
       "      <td>2019-12-11 12:52:16</td>\n",
       "      <td>1</td>\n",
       "      <td>23</td>\n",
       "      <td>dataset,imbalanced-learn</td>\n",
       "      <td>1</td>\n",
       "      <td>1.0</td>\n",
       "    </tr>\n",
       "    <tr>\n",
       "      <th>9804</th>\n",
       "      <td>54080</td>\n",
       "      <td>1</td>\n",
       "      <td>2019-06-19 11:36:20</td>\n",
       "      <td>0</td>\n",
       "      <td>24</td>\n",
       "      <td>graphs,pgm</td>\n",
       "      <td>0</td>\n",
       "      <td>0.0</td>\n",
       "    </tr>\n",
       "  </tbody>\n",
       "</table>\n",
       "</div>"
      ],
      "text/plain": [
       "         Id  PostTypeId        CreationDate  Score  Viewcount  \\\n",
       "8586  62037           1 2019-10-21 15:38:14      1         16   \n",
       "6030  64646           1 2019-12-11 12:52:16      1         23   \n",
       "9804  54080           1 2019-06-19 11:36:20      0         24   \n",
       "\n",
       "                                                   Tags  AnswerCount  \\\n",
       "8586  deep-learning,nlp,machine-translation,bert,neu...            0   \n",
       "6030                           dataset,imbalanced-learn            1   \n",
       "9804                                         graphs,pgm            0   \n",
       "\n",
       "      FavoriteCount  \n",
       "8586            0.0  \n",
       "6030            1.0  \n",
       "9804            0.0  "
      ]
     },
     "execution_count": 72,
     "metadata": {},
     "output_type": "execute_result"
    }
   ],
   "source": [
    "df.sample(3)"
   ]
  },
  {
   "cell_type": "code",
   "execution_count": 73,
   "metadata": {},
   "outputs": [],
   "source": [
    "df['Tags'] = df['Tags'].str.split(',')"
   ]
  },
  {
   "cell_type": "code",
   "execution_count": 74,
   "metadata": {},
   "outputs": [
    {
     "data": {
      "text/html": [
       "<div>\n",
       "<style scoped>\n",
       "    .dataframe tbody tr th:only-of-type {\n",
       "        vertical-align: middle;\n",
       "    }\n",
       "\n",
       "    .dataframe tbody tr th {\n",
       "        vertical-align: top;\n",
       "    }\n",
       "\n",
       "    .dataframe thead th {\n",
       "        text-align: right;\n",
       "    }\n",
       "</style>\n",
       "<table border=\"1\" class=\"dataframe\">\n",
       "  <thead>\n",
       "    <tr style=\"text-align: right;\">\n",
       "      <th></th>\n",
       "      <th>Id</th>\n",
       "      <th>PostTypeId</th>\n",
       "      <th>CreationDate</th>\n",
       "      <th>Score</th>\n",
       "      <th>Viewcount</th>\n",
       "      <th>Tags</th>\n",
       "      <th>AnswerCount</th>\n",
       "      <th>FavoriteCount</th>\n",
       "    </tr>\n",
       "  </thead>\n",
       "  <tbody>\n",
       "    <tr>\n",
       "      <th>7968</th>\n",
       "      <td>61778</td>\n",
       "      <td>1</td>\n",
       "      <td>2019-10-15 15:15:44</td>\n",
       "      <td>0</td>\n",
       "      <td>148</td>\n",
       "      <td>[machine-learning, python, nlp, regression]</td>\n",
       "      <td>2</td>\n",
       "      <td>2.0</td>\n",
       "    </tr>\n",
       "    <tr>\n",
       "      <th>6470</th>\n",
       "      <td>60917</td>\n",
       "      <td>1</td>\n",
       "      <td>2019-09-27 20:01:34</td>\n",
       "      <td>1</td>\n",
       "      <td>39</td>\n",
       "      <td>[machine-learning, neural-network, deep-learni...</td>\n",
       "      <td>1</td>\n",
       "      <td>1.0</td>\n",
       "    </tr>\n",
       "    <tr>\n",
       "      <th>9904</th>\n",
       "      <td>49458</td>\n",
       "      <td>1</td>\n",
       "      <td>2019-04-17 07:27:14</td>\n",
       "      <td>0</td>\n",
       "      <td>18</td>\n",
       "      <td>[neural-network, keras, model-selection]</td>\n",
       "      <td>0</td>\n",
       "      <td>0.0</td>\n",
       "    </tr>\n",
       "  </tbody>\n",
       "</table>\n",
       "</div>"
      ],
      "text/plain": [
       "         Id  PostTypeId        CreationDate  Score  Viewcount  \\\n",
       "7968  61778           1 2019-10-15 15:15:44      0        148   \n",
       "6470  60917           1 2019-09-27 20:01:34      1         39   \n",
       "9904  49458           1 2019-04-17 07:27:14      0         18   \n",
       "\n",
       "                                                   Tags  AnswerCount  \\\n",
       "7968        [machine-learning, python, nlp, regression]            2   \n",
       "6470  [machine-learning, neural-network, deep-learni...            1   \n",
       "9904           [neural-network, keras, model-selection]            0   \n",
       "\n",
       "      FavoriteCount  \n",
       "7968            2.0  \n",
       "6470            1.0  \n",
       "9904            0.0  "
      ]
     },
     "execution_count": 74,
     "metadata": {},
     "output_type": "execute_result"
    }
   ],
   "source": [
    "df.sample(3)"
   ]
  },
  {
   "cell_type": "code",
   "execution_count": 75,
   "metadata": {},
   "outputs": [],
   "source": [
    "# We'll now foucs on determining the most popular tags\n",
    "# This counts the number tags used in all question posts from 1/1/2019 forward\n",
    "tag_count = dict()\n",
    "\n",
    "for tags in df['Tags']:\n",
    "    for tag in tags:\n",
    "        if tag in tag_count:\n",
    "            tag_count[tag] += 1\n",
    "        else:\n",
    "            tag_count[tag] = 1"
   ]
  },
  {
   "cell_type": "code",
   "execution_count": 76,
   "metadata": {},
   "outputs": [],
   "source": [
    "# Converting the dictionary into a dataframe\n",
    "tag_count = pd.DataFrame.from_dict(tag_count, orient='index')\n",
    "tag_count.rename(columns={0:'count'}, inplace=True)"
   ]
  },
  {
   "cell_type": "code",
   "execution_count": 77,
   "metadata": {},
   "outputs": [
    {
     "data": {
      "text/html": [
       "<div>\n",
       "<style scoped>\n",
       "    .dataframe tbody tr th:only-of-type {\n",
       "        vertical-align: middle;\n",
       "    }\n",
       "\n",
       "    .dataframe tbody tr th {\n",
       "        vertical-align: top;\n",
       "    }\n",
       "\n",
       "    .dataframe thead th {\n",
       "        text-align: right;\n",
       "    }\n",
       "</style>\n",
       "<table border=\"1\" class=\"dataframe\">\n",
       "  <thead>\n",
       "    <tr style=\"text-align: right;\">\n",
       "      <th></th>\n",
       "      <th>count</th>\n",
       "    </tr>\n",
       "  </thead>\n",
       "  <tbody>\n",
       "    <tr>\n",
       "      <th>dataset</th>\n",
       "      <td>394</td>\n",
       "    </tr>\n",
       "    <tr>\n",
       "      <th>regression</th>\n",
       "      <td>405</td>\n",
       "    </tr>\n",
       "    <tr>\n",
       "      <th>pandas</th>\n",
       "      <td>416</td>\n",
       "    </tr>\n",
       "    <tr>\n",
       "      <th>lstm</th>\n",
       "      <td>446</td>\n",
       "    </tr>\n",
       "    <tr>\n",
       "      <th>time-series</th>\n",
       "      <td>517</td>\n",
       "    </tr>\n",
       "    <tr>\n",
       "      <th>cnn</th>\n",
       "      <td>561</td>\n",
       "    </tr>\n",
       "    <tr>\n",
       "      <th>nlp</th>\n",
       "      <td>592</td>\n",
       "    </tr>\n",
       "    <tr>\n",
       "      <th>scikit-learn</th>\n",
       "      <td>628</td>\n",
       "    </tr>\n",
       "    <tr>\n",
       "      <th>tensorflow</th>\n",
       "      <td>677</td>\n",
       "    </tr>\n",
       "    <tr>\n",
       "      <th>classification</th>\n",
       "      <td>779</td>\n",
       "    </tr>\n",
       "    <tr>\n",
       "      <th>keras</th>\n",
       "      <td>1053</td>\n",
       "    </tr>\n",
       "    <tr>\n",
       "      <th>neural-network</th>\n",
       "      <td>1204</td>\n",
       "    </tr>\n",
       "    <tr>\n",
       "      <th>deep-learning</th>\n",
       "      <td>1403</td>\n",
       "    </tr>\n",
       "    <tr>\n",
       "      <th>python</th>\n",
       "      <td>2114</td>\n",
       "    </tr>\n",
       "    <tr>\n",
       "      <th>machine-learning</th>\n",
       "      <td>3129</td>\n",
       "    </tr>\n",
       "  </tbody>\n",
       "</table>\n",
       "</div>"
      ],
      "text/plain": [
       "                  count\n",
       "dataset             394\n",
       "regression          405\n",
       "pandas              416\n",
       "lstm                446\n",
       "time-series         517\n",
       "cnn                 561\n",
       "nlp                 592\n",
       "scikit-learn        628\n",
       "tensorflow          677\n",
       "classification      779\n",
       "keras              1053\n",
       "neural-network     1204\n",
       "deep-learning      1403\n",
       "python             2114\n",
       "machine-learning   3129"
      ]
     },
     "execution_count": 77,
     "metadata": {},
     "output_type": "execute_result"
    }
   ],
   "source": [
    "# creating a most used tags by getting the top 15\n",
    "# the sorting and grabbing the tail is important when we plot it below to show highest to lowest in the graph\n",
    "most_used_tags = tag_count.sort_values(by='count', ascending=True).tail(15)\n",
    "most_used_tags"
   ]
  },
  {
   "cell_type": "code",
   "execution_count": 78,
   "metadata": {},
   "outputs": [
    {
     "data": {
      "text/plain": [
       "<matplotlib.axes._subplots.AxesSubplot at 0x1e0ad2005f8>"
      ]
     },
     "execution_count": 78,
     "metadata": {},
     "output_type": "execute_result"
    },
    {
     "data": {
      "image/png": "[encoded data removed]",
      "text/plain": [
       "<Figure size 864x432 with 1 Axes>"
      ]
     },
     "metadata": {
      "needs_background": "light"
     },
     "output_type": "display_data"
    }
   ],
   "source": [
    "# plotting our most_used_tags\n",
    "most_used_tags.plot(kind='barh', figsize=(12,6))"
   ]
  },
  {
   "cell_type": "code",
   "execution_count": 79,
   "metadata": {},
   "outputs": [
    {
     "name": "stdout",
     "output_type": "stream",
     "text": [
      "0 N\n",
      "1 a\n",
      "2 m\n",
      "3 e\n",
      "4  \n",
      "5 =\n",
      "6  \n",
      "7 C\n",
      "8 a\n",
      "9 r\n",
      "10 l\n",
      "11 o\n",
      "12 s\n"
     ]
    }
   ],
   "source": [
    "# for the views we will use the same methodology above but also use the enummerate function to itirate \n",
    "# iterate gives us the index of the item\n",
    "test = \"Name = Carlos\"\n",
    "\n",
    "for i,c in enumerate(test):\n",
    "    print(i,c)"
   ]
  },
  {
   "cell_type": "code",
   "execution_count": 80,
   "metadata": {},
   "outputs": [],
   "source": [
    "# This sums the number views per tag in all question posts from 1/1/2019 forward\n",
    "tag_view_count = dict()\n",
    "\n",
    "for i, tags in enumerate(df['Tags']):\n",
    "    for tag in tags:\n",
    "        if tag in tag_view_count:\n",
    "            tag_view_count[tag] += df['Viewcount'].loc[i]\n",
    "        else:\n",
    "            tag_view_count[tag] = 1"
   ]
  },
  {
   "cell_type": "code",
   "execution_count": 81,
   "metadata": {},
   "outputs": [
    {
     "data": {
      "text/html": [
       "<div>\n",
       "<style scoped>\n",
       "    .dataframe tbody tr th:only-of-type {\n",
       "        vertical-align: middle;\n",
       "    }\n",
       "\n",
       "    .dataframe tbody tr th {\n",
       "        vertical-align: top;\n",
       "    }\n",
       "\n",
       "    .dataframe thead th {\n",
       "        text-align: right;\n",
       "    }\n",
       "</style>\n",
       "<table border=\"1\" class=\"dataframe\">\n",
       "  <thead>\n",
       "    <tr style=\"text-align: right;\">\n",
       "      <th></th>\n",
       "      <th>ViewCount</th>\n",
       "    </tr>\n",
       "  </thead>\n",
       "  <tbody>\n",
       "    <tr>\n",
       "      <th>python</th>\n",
       "      <td>752682</td>\n",
       "    </tr>\n",
       "    <tr>\n",
       "      <th>deep-learning</th>\n",
       "      <td>309988</td>\n",
       "    </tr>\n",
       "    <tr>\n",
       "      <th>tensorflow</th>\n",
       "      <td>170574</td>\n",
       "    </tr>\n",
       "    <tr>\n",
       "      <th>preprocessing</th>\n",
       "      <td>25388</td>\n",
       "    </tr>\n",
       "    <tr>\n",
       "      <th>numpy</th>\n",
       "      <td>72089</td>\n",
       "    </tr>\n",
       "  </tbody>\n",
       "</table>\n",
       "</div>"
      ],
      "text/plain": [
       "               ViewCount\n",
       "python            752682\n",
       "deep-learning     309988\n",
       "tensorflow        170574\n",
       "preprocessing      25388\n",
       "numpy              72089"
      ]
     },
     "execution_count": 81,
     "metadata": {},
     "output_type": "execute_result"
    }
   ],
   "source": [
    "tag_views = pd.DataFrame.from_dict(tag_view_count, orient='index')\n",
    "tag_views.rename(columns={0:'ViewCount'}, inplace=True)\n",
    "tag_views.head()"
   ]
  },
  {
   "cell_type": "code",
   "execution_count": 82,
   "metadata": {},
   "outputs": [
    {
     "data": {
      "text/html": [
       "<div>\n",
       "<style scoped>\n",
       "    .dataframe tbody tr th:only-of-type {\n",
       "        vertical-align: middle;\n",
       "    }\n",
       "\n",
       "    .dataframe tbody tr th {\n",
       "        vertical-align: top;\n",
       "    }\n",
       "\n",
       "    .dataframe thead th {\n",
       "        text-align: right;\n",
       "    }\n",
       "</style>\n",
       "<table border=\"1\" class=\"dataframe\">\n",
       "  <thead>\n",
       "    <tr style=\"text-align: right;\">\n",
       "      <th></th>\n",
       "      <th>ViewCount</th>\n",
       "    </tr>\n",
       "  </thead>\n",
       "  <tbody>\n",
       "    <tr>\n",
       "      <th>numpy</th>\n",
       "      <td>72089</td>\n",
       "    </tr>\n",
       "    <tr>\n",
       "      <th>time-series</th>\n",
       "      <td>86535</td>\n",
       "    </tr>\n",
       "    <tr>\n",
       "      <th>cnn</th>\n",
       "      <td>96997</td>\n",
       "    </tr>\n",
       "    <tr>\n",
       "      <th>lstm</th>\n",
       "      <td>98126</td>\n",
       "    </tr>\n",
       "    <tr>\n",
       "      <th>nlp</th>\n",
       "      <td>104189</td>\n",
       "    </tr>\n",
       "    <tr>\n",
       "      <th>dataframe</th>\n",
       "      <td>125703</td>\n",
       "    </tr>\n",
       "    <tr>\n",
       "      <th>classification</th>\n",
       "      <td>139177</td>\n",
       "    </tr>\n",
       "    <tr>\n",
       "      <th>tensorflow</th>\n",
       "      <td>170574</td>\n",
       "    </tr>\n",
       "    <tr>\n",
       "      <th>scikit-learn</th>\n",
       "      <td>177500</td>\n",
       "    </tr>\n",
       "    <tr>\n",
       "      <th>neural-network</th>\n",
       "      <td>250411</td>\n",
       "    </tr>\n",
       "    <tr>\n",
       "      <th>pandas</th>\n",
       "      <td>303899</td>\n",
       "    </tr>\n",
       "    <tr>\n",
       "      <th>deep-learning</th>\n",
       "      <td>309988</td>\n",
       "    </tr>\n",
       "    <tr>\n",
       "      <th>keras</th>\n",
       "      <td>359562</td>\n",
       "    </tr>\n",
       "    <tr>\n",
       "      <th>machine-learning</th>\n",
       "      <td>526447</td>\n",
       "    </tr>\n",
       "    <tr>\n",
       "      <th>python</th>\n",
       "      <td>752682</td>\n",
       "    </tr>\n",
       "  </tbody>\n",
       "</table>\n",
       "</div>"
      ],
      "text/plain": [
       "                  ViewCount\n",
       "numpy                 72089\n",
       "time-series           86535\n",
       "cnn                   96997\n",
       "lstm                  98126\n",
       "nlp                  104189\n",
       "dataframe            125703\n",
       "classification       139177\n",
       "tensorflow           170574\n",
       "scikit-learn         177500\n",
       "neural-network       250411\n",
       "pandas               303899\n",
       "deep-learning        309988\n",
       "keras                359562\n",
       "machine-learning     526447\n",
       "python               752682"
      ]
     },
     "execution_count": 82,
     "metadata": {},
     "output_type": "execute_result"
    }
   ],
   "source": [
    "most_viewed_tags = tag_views.sort_values(by='ViewCount').tail(15)\n",
    "most_viewed_tags"
   ]
  },
  {
   "cell_type": "code",
   "execution_count": null,
   "metadata": {},
   "outputs": [],
   "source": [
    "most_viewed_tags.plot(kind='barh')"
   ]
  },
  {
   "cell_type": "code",
   "execution_count": null,
   "metadata": {},
   "outputs": [],
   "source": []
  }
 ],
 "metadata": {
  "kernelspec": {
   "display_name": "Python 3",
   "language": "python",
   "name": "python3"
  },
  "language_info": {
   "codemirror_mode": {
    "name": "ipython",
    "version": 3
   },
   "file_extension": ".py",
   "mimetype": "text/x-python",
   "name": "python",
   "nbconvert_exporter": "python",
   "pygments_lexer": "ipython3",
   "version": "3.7.1"
  }
 },
 "nbformat": 4,
 "nbformat_minor": 2
}

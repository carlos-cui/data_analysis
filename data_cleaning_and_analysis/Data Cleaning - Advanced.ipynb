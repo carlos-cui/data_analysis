{
 "cells": [
  {
   "cell_type": "markdown",
   "metadata": {},
   "source": [
    "# Data Cleaning - Advanced\n",
    "\n",
    "# 1 Regular Expressions Basics"
   ]
  },
  {
   "cell_type": "code",
   "execution_count": 493,
   "metadata": {},
   "outputs": [],
   "source": [
    "import pandas as pd\n",
    "import numpy as np\n",
    "import re\n",
    "import matplotlib.pyplot as plt\n",
    "import seaborn as sns"
   ]
  },
  {
   "cell_type": "code",
   "execution_count": 2,
   "metadata": {},
   "outputs": [],
   "source": [
    "# we'll be working with a consolidated list of hacker news articles\n",
    "hn = pd.read_csv('hacker_news.csv')"
   ]
  },
  {
   "cell_type": "code",
   "execution_count": 3,
   "metadata": {},
   "outputs": [
    {
     "data": {
      "text/plain": [
       "(20099, 7)"
      ]
     },
     "execution_count": 3,
     "metadata": {},
     "output_type": "execute_result"
    }
   ],
   "source": [
    "hn.shape"
   ]
  },
  {
   "cell_type": "code",
   "execution_count": 4,
   "metadata": {},
   "outputs": [
    {
     "name": "stdout",
     "output_type": "stream",
     "text": [
      "<class 'pandas.core.frame.DataFrame'>\n",
      "RangeIndex: 20099 entries, 0 to 20098\n",
      "Data columns (total 7 columns):\n",
      "id              20099 non-null int64\n",
      "title           20099 non-null object\n",
      "url             17659 non-null object\n",
      "num_points      20099 non-null int64\n",
      "num_comments    20099 non-null int64\n",
      "author          20099 non-null object\n",
      "created_at      20099 non-null object\n",
      "dtypes: int64(3), object(4)\n",
      "memory usage: 1.1+ MB\n"
     ]
    }
   ],
   "source": [
    "hn.info()"
   ]
  },
  {
   "cell_type": "code",
   "execution_count": 5,
   "metadata": {},
   "outputs": [
    {
     "data": {
      "text/plain": [
       "id                 0\n",
       "title              0\n",
       "url             2440\n",
       "num_points         0\n",
       "num_comments       0\n",
       "author             0\n",
       "created_at         0\n",
       "dtype: int64"
      ]
     },
     "execution_count": 5,
     "metadata": {},
     "output_type": "execute_result"
    }
   ],
   "source": [
    "hn.isnull().sum()"
   ]
  },
  {
   "cell_type": "code",
   "execution_count": 6,
   "metadata": {},
   "outputs": [
    {
     "data": {
      "text/html": [
       "<div>\n",
       "<style scoped>\n",
       "    .dataframe tbody tr th:only-of-type {\n",
       "        vertical-align: middle;\n",
       "    }\n",
       "\n",
       "    .dataframe tbody tr th {\n",
       "        vertical-align: top;\n",
       "    }\n",
       "\n",
       "    .dataframe thead th {\n",
       "        text-align: right;\n",
       "    }\n",
       "</style>\n",
       "<table border=\"1\" class=\"dataframe\">\n",
       "  <thead>\n",
       "    <tr style=\"text-align: right;\">\n",
       "      <th></th>\n",
       "      <th>id</th>\n",
       "      <th>title</th>\n",
       "      <th>url</th>\n",
       "      <th>num_points</th>\n",
       "      <th>num_comments</th>\n",
       "      <th>author</th>\n",
       "      <th>created_at</th>\n",
       "    </tr>\n",
       "  </thead>\n",
       "  <tbody>\n",
       "    <tr>\n",
       "      <th>0</th>\n",
       "      <td>12224879</td>\n",
       "      <td>Interactive Dynamic Video</td>\n",
       "      <td>http://www.interactivedynamicvideo.com/</td>\n",
       "      <td>386</td>\n",
       "      <td>52</td>\n",
       "      <td>ne0phyte</td>\n",
       "      <td>8/4/2016 11:52</td>\n",
       "    </tr>\n",
       "    <tr>\n",
       "      <th>1</th>\n",
       "      <td>11964716</td>\n",
       "      <td>Florida DJs May Face Felony for April Fools' W...</td>\n",
       "      <td>http://www.thewire.com/entertainment/2013/04/f...</td>\n",
       "      <td>2</td>\n",
       "      <td>1</td>\n",
       "      <td>vezycash</td>\n",
       "      <td>6/23/2016 22:20</td>\n",
       "    </tr>\n",
       "    <tr>\n",
       "      <th>2</th>\n",
       "      <td>11919867</td>\n",
       "      <td>Technology ventures: From Idea to Enterprise</td>\n",
       "      <td>https://www.amazon.com/Technology-Ventures-Ent...</td>\n",
       "      <td>3</td>\n",
       "      <td>1</td>\n",
       "      <td>hswarna</td>\n",
       "      <td>6/17/2016 0:01</td>\n",
       "    </tr>\n",
       "    <tr>\n",
       "      <th>3</th>\n",
       "      <td>10301696</td>\n",
       "      <td>Note by Note: The Making of Steinway L1037 (2007)</td>\n",
       "      <td>http://www.nytimes.com/2007/11/07/movies/07ste...</td>\n",
       "      <td>8</td>\n",
       "      <td>2</td>\n",
       "      <td>walterbell</td>\n",
       "      <td>9/30/2015 4:12</td>\n",
       "    </tr>\n",
       "    <tr>\n",
       "      <th>4</th>\n",
       "      <td>10482257</td>\n",
       "      <td>Title II kills investment? Comcast and other I...</td>\n",
       "      <td>http://arstechnica.com/business/2015/10/comcas...</td>\n",
       "      <td>53</td>\n",
       "      <td>22</td>\n",
       "      <td>Deinos</td>\n",
       "      <td>10/31/2015 9:48</td>\n",
       "    </tr>\n",
       "  </tbody>\n",
       "</table>\n",
       "</div>"
      ],
      "text/plain": [
       "         id                                              title  \\\n",
       "0  12224879                          Interactive Dynamic Video   \n",
       "1  11964716  Florida DJs May Face Felony for April Fools' W...   \n",
       "2  11919867       Technology ventures: From Idea to Enterprise   \n",
       "3  10301696  Note by Note: The Making of Steinway L1037 (2007)   \n",
       "4  10482257  Title II kills investment? Comcast and other I...   \n",
       "\n",
       "                                                 url  num_points  \\\n",
       "0            http://www.interactivedynamicvideo.com/         386   \n",
       "1  http://www.thewire.com/entertainment/2013/04/f...           2   \n",
       "2  https://www.amazon.com/Technology-Ventures-Ent...           3   \n",
       "3  http://www.nytimes.com/2007/11/07/movies/07ste...           8   \n",
       "4  http://arstechnica.com/business/2015/10/comcas...          53   \n",
       "\n",
       "   num_comments      author       created_at  \n",
       "0            52    ne0phyte   8/4/2016 11:52  \n",
       "1             1    vezycash  6/23/2016 22:20  \n",
       "2             1     hswarna   6/17/2016 0:01  \n",
       "3             2  walterbell   9/30/2015 4:12  \n",
       "4            22      Deinos  10/31/2015 9:48  "
      ]
     },
     "execution_count": 6,
     "metadata": {},
     "output_type": "execute_result"
    }
   ],
   "source": [
    "hn.head()"
   ]
  },
  {
   "cell_type": "markdown",
   "metadata": {},
   "source": [
    "One of the most useful functions from the re module is the re.search() function, which takes two required arguments:\n",
    "\n",
    "- The regex pattern\n",
    "- The string we want to search that pattern for"
   ]
  },
  {
   "cell_type": "code",
   "execution_count": 7,
   "metadata": {},
   "outputs": [],
   "source": [
    "string_list = [\"Julie's favorite color is Blue.\",\n",
    "               \"Keli's favorite color is Green.\",\n",
    "               \"Craig's favorite colors are blue and red.\"]\n",
    "\n",
    "pattern = 'Blue'"
   ]
  },
  {
   "cell_type": "code",
   "execution_count": 8,
   "metadata": {},
   "outputs": [
    {
     "name": "stdout",
     "output_type": "stream",
     "text": [
      "Match found\n",
      "No match found\n",
      "No match found\n"
     ]
    }
   ],
   "source": [
    "for s in string_list:\n",
    "    if re.search(pattern, s):\n",
    "        print('Match found')\n",
    "    else: \n",
    "        print('No match found')"
   ]
  },
  {
   "cell_type": "markdown",
   "metadata": {},
   "source": [
    "# using sets to search\n",
    "\n",
    "A set allows us to specify two or more characters that can match in a single character's position.\n",
    "\n",
    "We define a set by placing the characters we want to match for in square brackets."
   ]
  },
  {
   "cell_type": "code",
   "execution_count": 9,
   "metadata": {},
   "outputs": [
    {
     "name": "stdout",
     "output_type": "stream",
     "text": [
      "2\n"
     ]
    }
   ],
   "source": [
    "blue_mentions = 0\n",
    "\n",
    "pattern = '[Bb]lue'\n",
    "\n",
    "for s in string_list:\n",
    "    if re.search(pattern, s):\n",
    "        blue_mentions += 1\n",
    "        \n",
    "print(blue_mentions)"
   ]
  },
  {
   "cell_type": "code",
   "execution_count": 10,
   "metadata": {},
   "outputs": [
    {
     "name": "stdout",
     "output_type": "stream",
     "text": [
      "160\n"
     ]
    }
   ],
   "source": [
    "# we'll now use this technique to find all the mentions of python in hacker news titles\n",
    "# first we need to convert the title column to a list\n",
    "titles = hn['title'].tolist()\n",
    "\n",
    "python_mentions = 0 \n",
    "\n",
    "pattern = '[Pp]ython'\n",
    "\n",
    "# we can now loop through the loop to search for our pattern\n",
    "for s in titles:\n",
    "    if re.search(pattern, s):\n",
    "        python_mentions += 1\n",
    "\n",
    "print(python_mentions)\n"
   ]
  },
  {
   "cell_type": "code",
   "execution_count": 11,
   "metadata": {},
   "outputs": [
    {
     "name": "stdout",
     "output_type": "stream",
     "text": [
      "160\n"
     ]
    }
   ],
   "source": [
    "# we'll now do the analysis above but use vectorized methods to improve performance\n",
    "\n",
    "pattern = '[Pp]ython'\n",
    "python_mentions_v2 = hn['title'].str.contains(pattern).sum()\n",
    "\n",
    "print(python_mentions_v2)"
   ]
  },
  {
   "cell_type": "code",
   "execution_count": 12,
   "metadata": {},
   "outputs": [
    {
     "data": {
      "text/html": [
       "<div>\n",
       "<style scoped>\n",
       "    .dataframe tbody tr th:only-of-type {\n",
       "        vertical-align: middle;\n",
       "    }\n",
       "\n",
       "    .dataframe tbody tr th {\n",
       "        vertical-align: top;\n",
       "    }\n",
       "\n",
       "    .dataframe thead th {\n",
       "        text-align: right;\n",
       "    }\n",
       "</style>\n",
       "<table border=\"1\" class=\"dataframe\">\n",
       "  <thead>\n",
       "    <tr style=\"text-align: right;\">\n",
       "      <th></th>\n",
       "      <th>id</th>\n",
       "      <th>title</th>\n",
       "      <th>url</th>\n",
       "      <th>num_points</th>\n",
       "      <th>num_comments</th>\n",
       "      <th>author</th>\n",
       "      <th>created_at</th>\n",
       "    </tr>\n",
       "  </thead>\n",
       "  <tbody>\n",
       "    <tr>\n",
       "      <th>102</th>\n",
       "      <td>10974870</td>\n",
       "      <td>From Python to Lua: Why We Switched</td>\n",
       "      <td>https://www.distelli.com/blog/using-lua-for-ou...</td>\n",
       "      <td>243</td>\n",
       "      <td>188</td>\n",
       "      <td>chase202</td>\n",
       "      <td>1/26/2016 18:17</td>\n",
       "    </tr>\n",
       "    <tr>\n",
       "      <th>103</th>\n",
       "      <td>11244541</td>\n",
       "      <td>Ubuntu 16.04 LTS to Ship Without Python 2</td>\n",
       "      <td>http://news.softpedia.com/news/ubuntu-16-04-lt...</td>\n",
       "      <td>2</td>\n",
       "      <td>1</td>\n",
       "      <td>_snydly</td>\n",
       "      <td>3/8/2016 10:39</td>\n",
       "    </tr>\n",
       "    <tr>\n",
       "      <th>144</th>\n",
       "      <td>10963528</td>\n",
       "      <td>Create a GUI Application Using Qt and Python i...</td>\n",
       "      <td>http://digitalpeer.com/s/c63e</td>\n",
       "      <td>21</td>\n",
       "      <td>1</td>\n",
       "      <td>zoodle</td>\n",
       "      <td>1/24/2016 19:01</td>\n",
       "    </tr>\n",
       "    <tr>\n",
       "      <th>196</th>\n",
       "      <td>10716331</td>\n",
       "      <td>How I Solved GCHQ's Xmas Card with Python and ...</td>\n",
       "      <td>http://matthewearl.github.io/2015/12/10/gchq-x...</td>\n",
       "      <td>6</td>\n",
       "      <td>1</td>\n",
       "      <td>kipi</td>\n",
       "      <td>12/11/2015 10:38</td>\n",
       "    </tr>\n",
       "    <tr>\n",
       "      <th>436</th>\n",
       "      <td>11895088</td>\n",
       "      <td>Unikernel Power Comes to Java, Node.js, Go, an...</td>\n",
       "      <td>http://www.infoworld.com/article/3082051/open-...</td>\n",
       "      <td>3</td>\n",
       "      <td>1</td>\n",
       "      <td>syslandscape</td>\n",
       "      <td>6/13/2016 16:23</td>\n",
       "    </tr>\n",
       "  </tbody>\n",
       "</table>\n",
       "</div>"
      ],
      "text/plain": [
       "           id                                              title  \\\n",
       "102  10974870                From Python to Lua: Why We Switched   \n",
       "103  11244541          Ubuntu 16.04 LTS to Ship Without Python 2   \n",
       "144  10963528  Create a GUI Application Using Qt and Python i...   \n",
       "196  10716331  How I Solved GCHQ's Xmas Card with Python and ...   \n",
       "436  11895088  Unikernel Power Comes to Java, Node.js, Go, an...   \n",
       "\n",
       "                                                   url  num_points  \\\n",
       "102  https://www.distelli.com/blog/using-lua-for-ou...         243   \n",
       "103  http://news.softpedia.com/news/ubuntu-16-04-lt...           2   \n",
       "144                      http://digitalpeer.com/s/c63e          21   \n",
       "196  http://matthewearl.github.io/2015/12/10/gchq-x...           6   \n",
       "436  http://www.infoworld.com/article/3082051/open-...           3   \n",
       "\n",
       "     num_comments        author        created_at  \n",
       "102           188      chase202   1/26/2016 18:17  \n",
       "103             1       _snydly    3/8/2016 10:39  \n",
       "144             1        zoodle   1/24/2016 19:01  \n",
       "196             1          kipi  12/11/2015 10:38  \n",
       "436             1  syslandscape   6/13/2016 16:23  "
      ]
     },
     "execution_count": 12,
     "metadata": {},
     "output_type": "execute_result"
    }
   ],
   "source": [
    "# we can create a mask using a boolean array to view the rows that match\n",
    "\n",
    "py_mentions = hn['title'].str.contains(pattern)\n",
    "\n",
    "hn[py_mentions].head()"
   ]
  },
  {
   "cell_type": "code",
   "execution_count": 13,
   "metadata": {},
   "outputs": [
    {
     "data": {
      "text/html": [
       "<div>\n",
       "<style scoped>\n",
       "    .dataframe tbody tr th:only-of-type {\n",
       "        vertical-align: middle;\n",
       "    }\n",
       "\n",
       "    .dataframe tbody tr th {\n",
       "        vertical-align: top;\n",
       "    }\n",
       "\n",
       "    .dataframe thead th {\n",
       "        text-align: right;\n",
       "    }\n",
       "</style>\n",
       "<table border=\"1\" class=\"dataframe\">\n",
       "  <thead>\n",
       "    <tr style=\"text-align: right;\">\n",
       "      <th></th>\n",
       "      <th>id</th>\n",
       "      <th>title</th>\n",
       "      <th>url</th>\n",
       "      <th>num_points</th>\n",
       "      <th>num_comments</th>\n",
       "      <th>author</th>\n",
       "      <th>created_at</th>\n",
       "    </tr>\n",
       "  </thead>\n",
       "  <tbody>\n",
       "    <tr>\n",
       "      <th>190</th>\n",
       "      <td>11639807</td>\n",
       "      <td>Ruby on Google AppEngine Goes Beta</td>\n",
       "      <td>https://cloudplatform.googleblog.com/2016/05/R...</td>\n",
       "      <td>4</td>\n",
       "      <td>1</td>\n",
       "      <td>mark_l_watson</td>\n",
       "      <td>5/5/2016 21:31</td>\n",
       "    </tr>\n",
       "    <tr>\n",
       "      <th>484</th>\n",
       "      <td>11755791</td>\n",
       "      <td>Related: Pure Ruby Relational Algebra Engine</td>\n",
       "      <td>https://github.com/seansellek/related</td>\n",
       "      <td>102</td>\n",
       "      <td>29</td>\n",
       "      <td>flipandtwist</td>\n",
       "      <td>5/23/2016 18:27</td>\n",
       "    </tr>\n",
       "    <tr>\n",
       "      <th>1388</th>\n",
       "      <td>11406835</td>\n",
       "      <td>Show HN: HTTPalooza  Ruby's greatest HTTP clie...</td>\n",
       "      <td>http://httpalooza.com</td>\n",
       "      <td>9</td>\n",
       "      <td>2</td>\n",
       "      <td>100k</td>\n",
       "      <td>4/1/2016 17:43</td>\n",
       "    </tr>\n",
       "    <tr>\n",
       "      <th>1949</th>\n",
       "      <td>10323292</td>\n",
       "      <td>Rewriting a Ruby C Extension in Rust: How a Na...</td>\n",
       "      <td>https://www.youtube.com/watch?v=2BdJeSC4FFI</td>\n",
       "      <td>5</td>\n",
       "      <td>2</td>\n",
       "      <td>brobinson</td>\n",
       "      <td>10/3/2015 9:57</td>\n",
       "    </tr>\n",
       "    <tr>\n",
       "      <th>2022</th>\n",
       "      <td>10287964</td>\n",
       "      <td>Show HN: CrashBreak  Reproduce exceptions as f...</td>\n",
       "      <td>http://www.crashbreak.com/</td>\n",
       "      <td>37</td>\n",
       "      <td>9</td>\n",
       "      <td>mjaneczek</td>\n",
       "      <td>9/27/2015 21:17</td>\n",
       "    </tr>\n",
       "  </tbody>\n",
       "</table>\n",
       "</div>"
      ],
      "text/plain": [
       "            id                                              title  \\\n",
       "190   11639807                 Ruby on Google AppEngine Goes Beta   \n",
       "484   11755791       Related: Pure Ruby Relational Algebra Engine   \n",
       "1388  11406835  Show HN: HTTPalooza  Ruby's greatest HTTP clie...   \n",
       "1949  10323292  Rewriting a Ruby C Extension in Rust: How a Na...   \n",
       "2022  10287964  Show HN: CrashBreak  Reproduce exceptions as f...   \n",
       "\n",
       "                                                    url  num_points  \\\n",
       "190   https://cloudplatform.googleblog.com/2016/05/R...           4   \n",
       "484               https://github.com/seansellek/related         102   \n",
       "1388                              http://httpalooza.com           9   \n",
       "1949        https://www.youtube.com/watch?v=2BdJeSC4FFI           5   \n",
       "2022                         http://www.crashbreak.com/          37   \n",
       "\n",
       "      num_comments         author       created_at  \n",
       "190              1  mark_l_watson   5/5/2016 21:31  \n",
       "484             29   flipandtwist  5/23/2016 18:27  \n",
       "1388             2           100k   4/1/2016 17:43  \n",
       "1949             2      brobinson   10/3/2015 9:57  \n",
       "2022             9      mjaneczek  9/27/2015 21:17  "
      ]
     },
     "execution_count": 13,
     "metadata": {},
     "output_type": "execute_result"
    }
   ],
   "source": [
    "# here is a search in one line for any title that mentions Ruby\n",
    "\n",
    "hn[hn['title'].str.contains('[Rr]uby')].head()"
   ]
  },
  {
   "cell_type": "markdown",
   "metadata": {},
   "source": [
    "## using {} a quantifier to repeat a search\n",
    "\n",
    "- a{3}    the character a three times\n",
    "- a{3,5}  the character a three, four or five times\n",
    "- a{,3}   the character a 0-3 times\n",
    "- a{8,}   the character a 8 or more times\n",
    "- a*      the character a 0 or more times; same as a{0,}\n",
    "- a+      the character a one or more times; same as a{1,}\n",
    "- a?      the character a zero or one times; same as a{0,1}\n",
    "\n",
    "\n",
    "To match the substring \"[pdf]\", we can use backslashes to escape both the open and closing brackets: \\[pdf\\]"
   ]
  },
  {
   "cell_type": "code",
   "execution_count": 14,
   "metadata": {},
   "outputs": [],
   "source": [
    "# creating a search for emails\n",
    "\n",
    "email_bool = hn['title'].str.contains('e-?mail')"
   ]
  },
  {
   "cell_type": "code",
   "execution_count": 15,
   "metadata": {},
   "outputs": [],
   "source": [
    "email_count = hn['title'][email_bool].count()"
   ]
  },
  {
   "cell_type": "code",
   "execution_count": 16,
   "metadata": {},
   "outputs": [
    {
     "data": {
      "text/plain": [
       "86"
      ]
     },
     "execution_count": 16,
     "metadata": {},
     "output_type": "execute_result"
    }
   ],
   "source": [
    "email_count"
   ]
  },
  {
   "cell_type": "code",
   "execution_count": 17,
   "metadata": {},
   "outputs": [],
   "source": [
    "# To match the substring \"[pdf]\", we can use backslashes to escape both the open and closing brackets: \\[pdf\\]."
   ]
  },
  {
   "cell_type": "markdown",
   "metadata": {},
   "source": [
    "Charater Class\n",
    "- Set [fud] = Either f, u or d\n",
    "- Range [a-e] = Any of the characters a,b,c,d or e\n",
    "- Range [0-3] = Any of the characters 0,1,2, or 3\n",
    "- Range [A-Z] = Any uppercase letter\n",
    "- Set + Range [A-Za-z] = Any uppercase or lowercase letter\n",
    "- Digit  \\d  = Any digit character (equivalent to [0-9]\n",
    "- Word  \\w   = Any digit, uppercase, lowercase, or underscore character (eq to [A-Za-z0-9_]\n",
    "- Whitespace \\s = Any space, tab or linebreak character\n",
    "- Dot  .  = Any character except newline\n"
   ]
  },
  {
   "cell_type": "code",
   "execution_count": 18,
   "metadata": {},
   "outputs": [
    {
     "data": {
      "text/plain": [
       "444"
      ]
     },
     "execution_count": 18,
     "metadata": {},
     "output_type": "execute_result"
    }
   ],
   "source": [
    "# finding titles with tags; tags are embedded in brackets within some titles\n",
    "\n",
    "pattern = '\\[\\w+\\]'\n",
    "\n",
    "tag_count = hn[hn['title'].str.contains(pattern)]['title'].count()\n",
    "tag_count"
   ]
  },
  {
   "cell_type": "code",
   "execution_count": 19,
   "metadata": {},
   "outputs": [],
   "source": [
    "titles = hn['title']"
   ]
  },
  {
   "cell_type": "code",
   "execution_count": 20,
   "metadata": {},
   "outputs": [
    {
     "data": {
      "text/plain": [
       "pdf      276\n",
       "video    111\n",
       "audio      3\n",
       "2015       3\n",
       "beta       2\n",
       "Name: 0, dtype: int64"
      ]
     },
     "execution_count": 20,
     "metadata": {},
     "output_type": "execute_result"
    }
   ],
   "source": [
    "# getting the values of the tags in a frequency table\n",
    "#  we use raw strings, which we denote by prefixing our string with the r character.\n",
    "\n",
    "pattern = r\"\\[(\\w+)\\]\"\n",
    "\n",
    "titles.str.extract(pattern)[0].value_counts().head()"
   ]
  },
  {
   "cell_type": "code",
   "execution_count": 21,
   "metadata": {},
   "outputs": [],
   "source": [
    "# we can make a function to use as a test on our regular expression\n",
    "\n",
    "def first_10(pattern):\n",
    "    # return first 10 records that match the pattern\n",
    "    all_matches = titles[titles.str.extract(pattern)]\n",
    "    first_10 = all_matches(10)\n",
    "    return first_10"
   ]
  },
  {
   "cell_type": "code",
   "execution_count": 22,
   "metadata": {},
   "outputs": [
    {
     "data": {
      "text/plain": [
       "(50,)"
      ]
     },
     "execution_count": 22,
     "metadata": {},
     "output_type": "execute_result"
    }
   ],
   "source": [
    "java_titles = titles[titles.str.contains(r'[Jj]ava[^Ss]')]\n",
    "java_titles.shape"
   ]
  },
  {
   "cell_type": "code",
   "execution_count": 23,
   "metadata": {},
   "outputs": [
    {
     "data": {
      "text/plain": [
       "436     Unikernel Power Comes to Java, Node.js, Go, an...\n",
       "811     Ask HN: Are there any projects or compilers wh...\n",
       "1023                         Pippo  Web framework in Java\n",
       "1972          Node.js vs. Java: Which Is Faster for APIs?\n",
       "2093                    Java EE and Microservices in 2016\n",
       "Name: title, dtype: object"
      ]
     },
     "execution_count": 23,
     "metadata": {},
     "output_type": "execute_result"
    }
   ],
   "source": [
    "# we can use \\b to create word boundaries\n",
    "\n",
    "pattern = r'\\b[Jj]ava\\b'\n",
    "\n",
    "java_titles = titles[titles.str.contains(pattern)]\n",
    "\n",
    "java_titles.head()"
   ]
  },
  {
   "cell_type": "markdown",
   "metadata": {},
   "source": [
    "## anchors\n",
    "\n",
    "^abc  =  matches abc only at the start of the string\n",
    "\n",
    "\n",
    "abc$  =  matches abc only at the end of the string"
   ]
  },
  {
   "cell_type": "code",
   "execution_count": 24,
   "metadata": {},
   "outputs": [],
   "source": [
    "pattern_beginning = r'^\\[\\w+\\]'\n",
    "pattern_ending = r'\\[\\w+\\]$'\n",
    "\n",
    "#r\"\\[(\\w+)\\]\"\n",
    "\n",
    "beginning_count = titles.str.contains(pattern_beginning).sum()\n",
    "\n",
    "ending_count = titles.str.contains(pattern_ending).sum()"
   ]
  },
  {
   "cell_type": "code",
   "execution_count": 25,
   "metadata": {},
   "outputs": [
    {
     "data": {
      "text/plain": [
       "15"
      ]
     },
     "execution_count": 25,
     "metadata": {},
     "output_type": "execute_result"
    }
   ],
   "source": [
    "beginning_count"
   ]
  },
  {
   "cell_type": "markdown",
   "metadata": {},
   "source": [
    "## flags\n",
    "\n",
    "using flags to condense instructions like when we want to ignore case\n",
    "\n",
    "\n",
    "the most useful is the re.IGNORECASE flag, which is also available using the alias re.I for convenience."
   ]
  },
  {
   "cell_type": "code",
   "execution_count": 55,
   "metadata": {},
   "outputs": [
    {
     "data": {
      "text/plain": [
       "0     True\n",
       "1     True\n",
       "2     True\n",
       "3     True\n",
       "4     True\n",
       "5     True\n",
       "6     True\n",
       "7     True\n",
       "8     True\n",
       "9     True\n",
       "10    True\n",
       "11    True\n",
       "dtype: bool"
      ]
     },
     "execution_count": 55,
     "metadata": {},
     "output_type": "execute_result"
    }
   ],
   "source": [
    "email_tests = pd.Series(['email', 'Email', 'e Mail', 'e mail', 'E-mail',\n",
    "              'e-mail', 'eMail', 'E-Mail', 'EMAIL', 'emails', 'Emails',\n",
    "              'E-Mails'])\n",
    "\n",
    "\n",
    "# the \\s skips a blank space \n",
    "# the ? specifies the preceding character should be matched 0 or 1 time\n",
    "# the flags=re.I specifies to ignore case\n",
    "# the \\b creates a word boundary to specify the e is the beg of the word\n",
    "email_tests.str.contains(r'\\be\\s?-?mail', flags=re.I)"
   ]
  },
  {
   "cell_type": "code",
   "execution_count": 54,
   "metadata": {},
   "outputs": [
    {
     "data": {
      "text/plain": [
       "143"
      ]
     },
     "execution_count": 54,
     "metadata": {},
     "output_type": "execute_result"
    }
   ],
   "source": [
    "# we also need to include \\b to create a word boundary\n",
    "email_mentions = titles.str.contains(r'\\be\\s?-?mails?', flags=re.I).sum()\n",
    "email_mentions"
   ]
  },
  {
   "cell_type": "code",
   "execution_count": 52,
   "metadata": {},
   "outputs": [],
   "source": [
    "email_desc = titles.str.extract(r'(\\be\\s?-?mails?)', flags=re.I)"
   ]
  },
  {
   "cell_type": "code",
   "execution_count": 53,
   "metadata": {},
   "outputs": [
    {
     "data": {
      "text/plain": [
       "email      61\n",
       "Email      41\n",
       "emails     18\n",
       "Emails     15\n",
       "e-mail      5\n",
       "E-mails     2\n",
       "E-Mail      1\n",
       "Name: 0, dtype: int64"
      ]
     },
     "execution_count": 53,
     "metadata": {},
     "output_type": "execute_result"
    }
   ],
   "source": [
    "email_desc[0].value_counts()"
   ]
  },
  {
   "cell_type": "code",
   "execution_count": 48,
   "metadata": {},
   "outputs": [
    {
     "data": {
      "text/plain": [
       "143"
      ]
     },
     "execution_count": 48,
     "metadata": {},
     "output_type": "execute_result"
    }
   ],
   "source": [
    "titles.str.contains(r'\\be[\\-\\s]?mails?', flags=re.I).sum()"
   ]
  },
  {
   "cell_type": "code",
   "execution_count": 49,
   "metadata": {},
   "outputs": [
    {
     "data": {
      "text/plain": [
       "email      61\n",
       "Email      41\n",
       "emails     18\n",
       "Emails     15\n",
       "e-mail      5\n",
       "E-mails     2\n",
       "E-Mail      1\n",
       "Name: 0, dtype: int64"
      ]
     },
     "execution_count": 49,
     "metadata": {},
     "output_type": "execute_result"
    }
   ],
   "source": [
    "titles.str.extract(r'(\\be[\\-\\s]?mails?)', flags=re.I)[0].value_counts()"
   ]
  },
  {
   "cell_type": "markdown",
   "metadata": {},
   "source": [
    "# 2 Advanced Regular Expressions"
   ]
  },
  {
   "cell_type": "code",
   "execution_count": 59,
   "metadata": {},
   "outputs": [
    {
     "data": {
      "text/plain": [
       "108"
      ]
     },
     "execution_count": 59,
     "metadata": {},
     "output_type": "execute_result"
    }
   ],
   "source": [
    "# using ignore case \n",
    "\n",
    "pattern = r'sql'\n",
    "\n",
    "sql_count = titles.str.contains(pattern, flags=re.I).sum()\n",
    "sql_count"
   ]
  },
  {
   "cell_type": "markdown",
   "metadata": {},
   "source": [
    "To extract those mentions, we need to do two things:\n",
    "\n",
    "- Use the Series.str.extract() method.\n",
    "- Use a regex capture group."
   ]
  },
  {
   "cell_type": "code",
   "execution_count": 62,
   "metadata": {},
   "outputs": [
    {
     "data": {
      "text/plain": [
       "SQL    101\n",
       "Sql      4\n",
       "sql      3\n",
       "Name: 0, dtype: int64"
      ]
     },
     "execution_count": 62,
     "metadata": {},
     "output_type": "execute_result"
    }
   ],
   "source": [
    "# all mentions of sql\n",
    "pattern = r'(sql)'\n",
    "titles.str.extract(pattern, flags=re.I)[0].value_counts()"
   ]
  },
  {
   "cell_type": "code",
   "execution_count": 69,
   "metadata": {},
   "outputs": [
    {
     "data": {
      "text/plain": [
       "PostgreSQL    27\n",
       "NoSQL         16\n",
       "MySQL         12\n",
       "MemSQL         1\n",
       "CloudSQL       1\n",
       "nosql          1\n",
       "mySql          1\n",
       "SparkSQL       1\n",
       "Name: 0, dtype: int64"
      ]
     },
     "execution_count": 69,
     "metadata": {},
     "output_type": "execute_result"
    }
   ],
   "source": [
    "# all mentions with sql in word\n",
    "pattern = r'(\\w+sql)'\n",
    "titles.str.extract(pattern, flags=re.I)[0].value_counts()"
   ]
  },
  {
   "cell_type": "code",
   "execution_count": 72,
   "metadata": {},
   "outputs": [],
   "source": [
    "# we'll create a new dataset for sql mention analysis\n",
    "hn_sql = hn[hn['title'].str.contains(r'\\w+sql', flags=re.I)].copy()"
   ]
  },
  {
   "cell_type": "code",
   "execution_count": 74,
   "metadata": {},
   "outputs": [
    {
     "data": {
      "text/plain": [
       "(60, 7)"
      ]
     },
     "execution_count": 74,
     "metadata": {},
     "output_type": "execute_result"
    }
   ],
   "source": [
    "hn_sql.shape"
   ]
  },
  {
   "cell_type": "code",
   "execution_count": 75,
   "metadata": {},
   "outputs": [
    {
     "data": {
      "text/html": [
       "<div>\n",
       "<style scoped>\n",
       "    .dataframe tbody tr th:only-of-type {\n",
       "        vertical-align: middle;\n",
       "    }\n",
       "\n",
       "    .dataframe tbody tr th {\n",
       "        vertical-align: top;\n",
       "    }\n",
       "\n",
       "    .dataframe thead th {\n",
       "        text-align: right;\n",
       "    }\n",
       "</style>\n",
       "<table border=\"1\" class=\"dataframe\">\n",
       "  <thead>\n",
       "    <tr style=\"text-align: right;\">\n",
       "      <th></th>\n",
       "      <th>id</th>\n",
       "      <th>title</th>\n",
       "      <th>url</th>\n",
       "      <th>num_points</th>\n",
       "      <th>num_comments</th>\n",
       "      <th>author</th>\n",
       "      <th>created_at</th>\n",
       "    </tr>\n",
       "  </thead>\n",
       "  <tbody>\n",
       "    <tr>\n",
       "      <th>142</th>\n",
       "      <td>10957172</td>\n",
       "      <td>PostgreSQL: Linux VS Windows  part 2</td>\n",
       "      <td>http://www.sqig.net/2016/01/postgresql-linux-v...</td>\n",
       "      <td>16</td>\n",
       "      <td>3</td>\n",
       "      <td>based2</td>\n",
       "      <td>1/23/2016 4:21</td>\n",
       "    </tr>\n",
       "    <tr>\n",
       "      <th>221</th>\n",
       "      <td>11544342</td>\n",
       "      <td>MemSQL (YC W11) Raises $36M Series C</td>\n",
       "      <td>http://blog.memsql.com/memsql-raises-series-c/</td>\n",
       "      <td>74</td>\n",
       "      <td>14</td>\n",
       "      <td>ericfrenkiel</td>\n",
       "      <td>4/21/2016 18:32</td>\n",
       "    </tr>\n",
       "    <tr>\n",
       "      <th>882</th>\n",
       "      <td>10413272</td>\n",
       "      <td>Pgmemcahe :A PostgreSQL memcache functions</td>\n",
       "      <td>https://github.com/ohmu/pgmemcache/</td>\n",
       "      <td>2</td>\n",
       "      <td>1</td>\n",
       "      <td>websec</td>\n",
       "      <td>10/19/2015 14:55</td>\n",
       "    </tr>\n",
       "  </tbody>\n",
       "</table>\n",
       "</div>"
      ],
      "text/plain": [
       "           id                                       title  \\\n",
       "142  10957172        PostgreSQL: Linux VS Windows  part 2   \n",
       "221  11544342        MemSQL (YC W11) Raises $36M Series C   \n",
       "882  10413272  Pgmemcahe :A PostgreSQL memcache functions   \n",
       "\n",
       "                                                   url  num_points  \\\n",
       "142  http://www.sqig.net/2016/01/postgresql-linux-v...          16   \n",
       "221     http://blog.memsql.com/memsql-raises-series-c/          74   \n",
       "882                https://github.com/ohmu/pgmemcache/           2   \n",
       "\n",
       "     num_comments        author        created_at  \n",
       "142             3        based2    1/23/2016 4:21  \n",
       "221            14  ericfrenkiel   4/21/2016 18:32  \n",
       "882             1        websec  10/19/2015 14:55  "
      ]
     },
     "execution_count": 75,
     "metadata": {},
     "output_type": "execute_result"
    }
   ],
   "source": [
    "hn_sql.head(3)"
   ]
  },
  {
   "cell_type": "code",
   "execution_count": 81,
   "metadata": {},
   "outputs": [],
   "source": [
    "hn_sql['flavor'] = hn_sql['title'].str.extract(r'(\\w+sql)', flags=re.I)\n",
    "\n",
    "hn_sql['flavor'] = hn_sql['flavor'].str.lower()\n",
    "\n",
    "sql_pivot = hn_sql.pivot_table(values='num_comments', index='flavor')"
   ]
  },
  {
   "cell_type": "code",
   "execution_count": 82,
   "metadata": {},
   "outputs": [
    {
     "data": {
      "text/html": [
       "<div>\n",
       "<style scoped>\n",
       "    .dataframe tbody tr th:only-of-type {\n",
       "        vertical-align: middle;\n",
       "    }\n",
       "\n",
       "    .dataframe tbody tr th {\n",
       "        vertical-align: top;\n",
       "    }\n",
       "\n",
       "    .dataframe thead th {\n",
       "        text-align: right;\n",
       "    }\n",
       "</style>\n",
       "<table border=\"1\" class=\"dataframe\">\n",
       "  <thead>\n",
       "    <tr style=\"text-align: right;\">\n",
       "      <th></th>\n",
       "      <th>num_comments</th>\n",
       "    </tr>\n",
       "    <tr>\n",
       "      <th>flavor</th>\n",
       "      <th></th>\n",
       "    </tr>\n",
       "  </thead>\n",
       "  <tbody>\n",
       "    <tr>\n",
       "      <th>cloudsql</th>\n",
       "      <td>5.000000</td>\n",
       "    </tr>\n",
       "    <tr>\n",
       "      <th>memsql</th>\n",
       "      <td>14.000000</td>\n",
       "    </tr>\n",
       "    <tr>\n",
       "      <th>mysql</th>\n",
       "      <td>12.230769</td>\n",
       "    </tr>\n",
       "    <tr>\n",
       "      <th>nosql</th>\n",
       "      <td>14.529412</td>\n",
       "    </tr>\n",
       "    <tr>\n",
       "      <th>postgresql</th>\n",
       "      <td>25.962963</td>\n",
       "    </tr>\n",
       "    <tr>\n",
       "      <th>sparksql</th>\n",
       "      <td>1.000000</td>\n",
       "    </tr>\n",
       "  </tbody>\n",
       "</table>\n",
       "</div>"
      ],
      "text/plain": [
       "            num_comments\n",
       "flavor                  \n",
       "cloudsql        5.000000\n",
       "memsql         14.000000\n",
       "mysql          12.230769\n",
       "nosql          14.529412\n",
       "postgresql     25.962963\n",
       "sparksql        1.000000"
      ]
     },
     "execution_count": 82,
     "metadata": {},
     "output_type": "execute_result"
    }
   ],
   "source": [
    "sql_pivot"
   ]
  },
  {
   "cell_type": "code",
   "execution_count": 85,
   "metadata": {},
   "outputs": [
    {
     "data": {
      "text/plain": [
       "3        10\n",
       "3.5       3\n",
       "2         3\n",
       "3.6       2\n",
       "3.5.0     1\n",
       "8         1\n",
       "4         1\n",
       "1.5       1\n",
       "2.7       1\n",
       "Name: 0, dtype: int64"
      ]
     },
     "execution_count": 85,
     "metadata": {},
     "output_type": "execute_result"
    }
   ],
   "source": [
    "pattern = r'[Pp]ython ([\\d\\.]+)'\n",
    "\n",
    "py_versions_freq = titles.str.extract(pattern)[0].value_counts()\n",
    "py_versions_freq"
   ]
  },
  {
   "cell_type": "code",
   "execution_count": 89,
   "metadata": {},
   "outputs": [],
   "source": [
    "pattern = r'[Pp]ython ([\\d\\.]+)'\n",
    "\n",
    "py_versions = titles.str.extract(pattern)\n",
    "py_versions_freq = dict(py_versions[0].value_counts())"
   ]
  },
  {
   "cell_type": "code",
   "execution_count": 92,
   "metadata": {},
   "outputs": [
    {
     "data": {
      "text/plain": [
       "dict"
      ]
     },
     "execution_count": 92,
     "metadata": {},
     "output_type": "execute_result"
    }
   ],
   "source": [
    "type(py_versions_freq)"
   ]
  },
  {
   "cell_type": "code",
   "execution_count": 93,
   "metadata": {},
   "outputs": [
    {
     "data": {
      "text/plain": [
       "{'3': 10,\n",
       " '3.5': 3,\n",
       " '2': 3,\n",
       " '3.6': 2,\n",
       " '3.5.0': 1,\n",
       " '8': 1,\n",
       " '4': 1,\n",
       " '1.5': 1,\n",
       " '2.7': 1}"
      ]
     },
     "execution_count": 93,
     "metadata": {},
     "output_type": "execute_result"
    }
   ],
   "source": [
    "py_versions_freq"
   ]
  },
  {
   "cell_type": "code",
   "execution_count": 98,
   "metadata": {},
   "outputs": [],
   "source": [
    "# using negative sets to ignore + and . [^+.]\n",
    "def first_10_matches(pattern):\n",
    "    \"\"\"\n",
    "    Return the first 10 story titles that match\n",
    "    the provided regular expression\n",
    "    \"\"\"\n",
    "    all_matches = titles[titles.str.contains(pattern)]\n",
    "    first_10 = all_matches.head(10)\n",
    "    return first_10\n",
    "\n",
    "pattern = r\"\\b[Cc]\\b[^+.]\"\n",
    "\n",
    "first_10 = first_10_matches(pattern)"
   ]
  },
  {
   "cell_type": "code",
   "execution_count": 99,
   "metadata": {},
   "outputs": [
    {
     "data": {
      "text/plain": [
       "365                      The new C standards are worth it\n",
       "444           Moz raises $10m Series C from Foundry Group\n",
       "521          Fuchsia: Micro kernel written in C by Google\n",
       "1307            Show HN: Yupp, yet another C preprocessor\n",
       "1326                     The C standard formalized in Coq\n",
       "1365                          GNU C Library 2.23 released\n",
       "1429    Cysignals: signal handling (SIGINT, SIGSEGV, )...\n",
       "1620                        SDCC  Small Device C Compiler\n",
       "1949    Rewriting a Ruby C Extension in Rust: How a Na...\n",
       "2195    MyHTML  HTML Parser on Pure C with POSIX Threa...\n",
       "Name: title, dtype: object"
      ]
     },
     "execution_count": 99,
     "metadata": {},
     "output_type": "execute_result"
    }
   ],
   "source": [
    "first_10"
   ]
  },
  {
   "cell_type": "markdown",
   "metadata": {},
   "source": [
    "# lookarounds\n",
    "\n",
    "- positive lookahead: zzz(?=abc)  matches zzz only when it is followed by abc\n",
    "- negative lookahead: zzz(?!abc)  matchez zzz only when it is NOT followed by ab\n",
    "- positive lookbehind: (?<=abc)zzz  matches zzz only when it is preceded by abc\n",
    "- negative lookbehind: (?<!abc)zzz  matches zzz only when it is not preceded by abc\n",
    "\n",
    "\n",
    "These tips can help you remember the syntax for lookarounds:\n",
    "\n",
    "- Inside the parentheses, the first character of a lookaround is always ?.\n",
    "- If the lookaround is a lookbehind, the next character will be <, which you can think of as an arrow head pointing behind the match.\n",
    "- The next character indicates whether the lookaround is positive (=) or negative (!)."
   ]
  },
  {
   "cell_type": "code",
   "execution_count": 118,
   "metadata": {},
   "outputs": [
    {
     "data": {
      "text/plain": [
       "102"
      ]
     },
     "execution_count": 118,
     "metadata": {},
     "output_type": "execute_result"
    }
   ],
   "source": [
    "# creating a lookbehind to exclude titles with Series before C; to exclude Series C\n",
    "# and using \\s to account for space after Series\n",
    "# and creating a lookahead ot exclude a + or . at after C\n",
    "pattern = r'(?<!Series\\s)\\b[Cc]\\b(?![\\+\\.])'\n",
    "\n",
    "c_mentions = titles.str.contains(pattern).sum()\n",
    "c_mentions"
   ]
  },
  {
   "cell_type": "code",
   "execution_count": 108,
   "metadata": {},
   "outputs": [],
   "source": [
    "#titles[titles.str.contains(pattern)]"
   ]
  },
  {
   "cell_type": "markdown",
   "metadata": {},
   "source": [
    "# backreferences\n",
    "\n",
    "- (Hello)(Goodbye)\\2\\1 will match HelloGoodbyeGoodbyeHello\n",
    "    - the 2 and 1 is the position of the group\n",
    "- (\\w)\\1 will match any word that is repeated\n",
    "    "
   ]
  },
  {
   "cell_type": "code",
   "execution_count": 138,
   "metadata": {},
   "outputs": [
    {
     "data": {
      "text/plain": [
       "Bye           3\n",
       "Bang          1\n",
       "the           1\n",
       "cows          1\n",
       "Cheatsheet    1\n",
       "Problem       1\n",
       "Mindset       1\n",
       "Wire          1\n",
       "Rust          1\n",
       "Name: 0, dtype: int64"
      ]
     },
     "execution_count": 138,
     "metadata": {},
     "output_type": "execute_result"
    }
   ],
   "source": [
    "# finding repeated words in titles\n",
    "pattern = r'\\b(\\w+)\\s\\1\\b'\n",
    "\n",
    "titles.str.extract(pattern)[0].value_counts()"
   ]
  },
  {
   "cell_type": "code",
   "execution_count": 139,
   "metadata": {},
   "outputs": [
    {
     "name": "stderr",
     "output_type": "stream",
     "text": [
      "C:\\Users\\carlo\\Anaconda3\\envs\\machine_learning\\lib\\site-packages\\ipykernel_launcher.py:1: UserWarning: This pattern has match groups. To actually get the groups, use str.extract.\n",
      "  \"\"\"Entry point for launching an IPython kernel.\n"
     ]
    },
    {
     "data": {
      "text/plain": [
       "3102                  Silicon Valley Has a Problem Problem\n",
       "3176                Wire Wire: A West African Cyber Threat\n",
       "3178                         Flexbox Cheatsheet Cheatsheet\n",
       "4797                            The Mindset Mindset (2015)\n",
       "7276     Valentine's Day Special: Bye Bye Tinder, Flirt...\n",
       "10371    Mcdonalds copying cyriak  cows cows cows in th...\n",
       "11575                                    Bang Bang Control\n",
       "11901          Cordless Telephones: Bye Bye Privacy (1991)\n",
       "12697          Solving the the Monty-Hall-Problem in Swift\n",
       "15049    Bye Bye Webrtc2SIP: WebRTC with Asterisk and A...\n",
       "15839          Intellij-Rust Rust Plugin for IntelliJ IDEA\n",
       "Name: title, dtype: object"
      ]
     },
     "execution_count": 139,
     "metadata": {},
     "output_type": "execute_result"
    }
   ],
   "source": [
    "titles[titles.str.contains(pattern)]"
   ]
  },
  {
   "cell_type": "markdown",
   "metadata": {},
   "source": [
    "# re.sub()\n",
    "\n",
    "## re.sub(pattern, repl, string, flags=0)\n",
    "\n",
    "When working in pandas, we can use the Series.str.replace() method, which uses nearly identical syntax:\n",
    "\n",
    "Series.str.replace(pat, repl, flags=0)\n"
   ]
  },
  {
   "cell_type": "code",
   "execution_count": 143,
   "metadata": {},
   "outputs": [],
   "source": [
    "# replacing all the email variations to 'email' in the title column\n",
    "\n",
    "pattern = r'e[\\-\\s]?mail'\n",
    "\n",
    "titles_clean = titles.str.replace(pattern, 'email', flags= re.I)"
   ]
  },
  {
   "cell_type": "code",
   "execution_count": 197,
   "metadata": {},
   "outputs": [
    {
     "data": {
      "text/html": [
       "<div>\n",
       "<style scoped>\n",
       "    .dataframe tbody tr th:only-of-type {\n",
       "        vertical-align: middle;\n",
       "    }\n",
       "\n",
       "    .dataframe tbody tr th {\n",
       "        vertical-align: top;\n",
       "    }\n",
       "\n",
       "    .dataframe thead th {\n",
       "        text-align: right;\n",
       "    }\n",
       "</style>\n",
       "<table border=\"1\" class=\"dataframe\">\n",
       "  <thead>\n",
       "    <tr style=\"text-align: right;\">\n",
       "      <th></th>\n",
       "      <th>0</th>\n",
       "    </tr>\n",
       "  </thead>\n",
       "  <tbody>\n",
       "    <tr>\n",
       "      <th>0</th>\n",
       "      <td>www.amazon.com</td>\n",
       "    </tr>\n",
       "    <tr>\n",
       "      <th>1</th>\n",
       "      <td>www.interactivedynamicvideo.com</td>\n",
       "    </tr>\n",
       "    <tr>\n",
       "      <th>2</th>\n",
       "      <td>www.nytimes.com</td>\n",
       "    </tr>\n",
       "    <tr>\n",
       "      <th>3</th>\n",
       "      <td>evonomics.com</td>\n",
       "    </tr>\n",
       "    <tr>\n",
       "      <th>4</th>\n",
       "      <td>github.com</td>\n",
       "    </tr>\n",
       "    <tr>\n",
       "      <th>5</th>\n",
       "      <td>phys.org</td>\n",
       "    </tr>\n",
       "    <tr>\n",
       "      <th>6</th>\n",
       "      <td>iot.seeed.cc</td>\n",
       "    </tr>\n",
       "    <tr>\n",
       "      <th>7</th>\n",
       "      <td>www.bfilipek.com</td>\n",
       "    </tr>\n",
       "    <tr>\n",
       "      <th>8</th>\n",
       "      <td>beta.crowdfireapp.com</td>\n",
       "    </tr>\n",
       "    <tr>\n",
       "      <th>9</th>\n",
       "      <td>www.valid.ly</td>\n",
       "    </tr>\n",
       "    <tr>\n",
       "      <th>10</th>\n",
       "      <td>css-cursor.techstream.org</td>\n",
       "    </tr>\n",
       "  </tbody>\n",
       "</table>\n",
       "</div>"
      ],
      "text/plain": [
       "                                  0\n",
       "0                    www.amazon.com\n",
       "1   www.interactivedynamicvideo.com\n",
       "2                   www.nytimes.com\n",
       "3                     evonomics.com\n",
       "4                        github.com\n",
       "5                          phys.org\n",
       "6                      iot.seeed.cc\n",
       "7                  www.bfilipek.com\n",
       "8             beta.crowdfireapp.com\n",
       "9                      www.valid.ly\n",
       "10        css-cursor.techstream.org"
      ]
     },
     "execution_count": 197,
     "metadata": {},
     "output_type": "execute_result"
    }
   ],
   "source": [
    "# extracting the domain from a url\n",
    "\n",
    "test_urls = pd.Series([\n",
    " 'https://www.amazon.com/Technology-Ventures-Enterprise-Thomas-Byers/dp/0073523429',\n",
    " 'http://www.interactivedynamicvideo.com/',\n",
    " 'http://www.nytimes.com/2007/11/07/movies/07stein.html?_r=0',\n",
    " 'http://evonomics.com/advertising-cannot-maintain-internet-heres-solution/',\n",
    " 'HTTPS://github.com/keppel/pinn',\n",
    " 'Http://phys.org/news/2015-09-scale-solar-youve.html',\n",
    " 'https://iot.seeed.cc',\n",
    " 'http://www.bfilipek.com/2016/04/custom-deleters-for-c-smart-pointers.html',\n",
    " 'http://beta.crowdfireapp.com/?beta=agnipath',\n",
    " 'https://www.valid.ly?param',\n",
    " 'http://css-cursor.techstream.org'\n",
    "])\n",
    "\n",
    "pattern = r'https?://(\\w+.?\\w+(?!/).?\\w+(?!/).?\\w+)\\s?'\n",
    "\n",
    "pattern2 = r'https?://([\\w\\.-]+)'\n",
    "\n",
    "test_urls.str.extract(pattern2, flags=re.I)"
   ]
  },
  {
   "cell_type": "code",
   "execution_count": 198,
   "metadata": {},
   "outputs": [],
   "source": [
    "# doing the analysis for the url column in hn\n",
    "\n",
    "domains = hn['url'].str.extract(pattern2, flags=re.I)\n",
    "\n",
    "top_domains = domains[0].value_counts()[:5]"
   ]
  },
  {
   "cell_type": "code",
   "execution_count": 199,
   "metadata": {},
   "outputs": [
    {
     "data": {
      "text/plain": [
       "github.com             1008\n",
       "medium.com              825\n",
       "www.nytimes.com         525\n",
       "www.theguardian.com     248\n",
       "techcrunch.com          245\n",
       "Name: 0, dtype: int64"
      ]
     },
     "execution_count": 199,
     "metadata": {},
     "output_type": "execute_result"
    }
   ],
   "source": [
    "top_domains"
   ]
  },
  {
   "cell_type": "code",
   "execution_count": 211,
   "metadata": {},
   "outputs": [
    {
     "data": {
      "text/plain": [
       "0     https://www.amazon.com/Technology-Ventures-Ent...\n",
       "1               http://www.interactivedynamicvideo.com/\n",
       "2     http://www.nytimes.com/2007/11/07/movies/07ste...\n",
       "3     http://evonomics.com/advertising-cannot-mainta...\n",
       "4                        HTTPS://github.com/keppel/pinn\n",
       "5     Http://phys.org/news/2015-09-scale-solar-youve...\n",
       "6                                  https://iot.seeed.cc\n",
       "7     http://www.bfilipek.com/2016/04/custom-deleter...\n",
       "8           http://beta.crowdfireapp.com/?beta=agnipath\n",
       "9                            https://www.valid.ly?param\n",
       "10                     http://css-cursor.techstream.org\n",
       "dtype: object"
      ]
     },
     "execution_count": 211,
     "metadata": {},
     "output_type": "execute_result"
    }
   ],
   "source": [
    "# regular expression with multiple capture groups\n",
    "# we'll now extract the protocol, domain and page path\n",
    "\n",
    "test_urls"
   ]
  },
  {
   "cell_type": "code",
   "execution_count": 240,
   "metadata": {},
   "outputs": [
    {
     "data": {
      "text/html": [
       "<div>\n",
       "<style scoped>\n",
       "    .dataframe tbody tr th:only-of-type {\n",
       "        vertical-align: middle;\n",
       "    }\n",
       "\n",
       "    .dataframe tbody tr th {\n",
       "        vertical-align: top;\n",
       "    }\n",
       "\n",
       "    .dataframe thead th {\n",
       "        text-align: right;\n",
       "    }\n",
       "</style>\n",
       "<table border=\"1\" class=\"dataframe\">\n",
       "  <thead>\n",
       "    <tr style=\"text-align: right;\">\n",
       "      <th></th>\n",
       "      <th>0</th>\n",
       "      <th>1</th>\n",
       "      <th>2</th>\n",
       "    </tr>\n",
       "  </thead>\n",
       "  <tbody>\n",
       "    <tr>\n",
       "      <th>0</th>\n",
       "      <td>https</td>\n",
       "      <td>www.amazon.com</td>\n",
       "      <td>Technology-Ventures-Enterprise-Thomas-Byers/dp...</td>\n",
       "    </tr>\n",
       "    <tr>\n",
       "      <th>1</th>\n",
       "      <td>http</td>\n",
       "      <td>www.interactivedynamicvideo.com</td>\n",
       "      <td></td>\n",
       "    </tr>\n",
       "    <tr>\n",
       "      <th>2</th>\n",
       "      <td>http</td>\n",
       "      <td>www.nytimes.com</td>\n",
       "      <td>2007/11/07/movies/07stein.html?_r=0</td>\n",
       "    </tr>\n",
       "    <tr>\n",
       "      <th>3</th>\n",
       "      <td>http</td>\n",
       "      <td>evonomics.com</td>\n",
       "      <td>advertising-cannot-maintain-internet-heres-sol...</td>\n",
       "    </tr>\n",
       "    <tr>\n",
       "      <th>4</th>\n",
       "      <td>HTTPS</td>\n",
       "      <td>github.com</td>\n",
       "      <td>keppel/pinn</td>\n",
       "    </tr>\n",
       "    <tr>\n",
       "      <th>5</th>\n",
       "      <td>Http</td>\n",
       "      <td>phys.org</td>\n",
       "      <td>news/2015-09-scale-solar-youve.html</td>\n",
       "    </tr>\n",
       "    <tr>\n",
       "      <th>6</th>\n",
       "      <td>https</td>\n",
       "      <td>iot.seeed.cc</td>\n",
       "      <td></td>\n",
       "    </tr>\n",
       "    <tr>\n",
       "      <th>7</th>\n",
       "      <td>http</td>\n",
       "      <td>www.bfilipek.com</td>\n",
       "      <td>2016/04/custom-deleters-for-c-smart-pointers.html</td>\n",
       "    </tr>\n",
       "    <tr>\n",
       "      <th>8</th>\n",
       "      <td>http</td>\n",
       "      <td>beta.crowdfireapp.com</td>\n",
       "      <td>?beta=agnipath</td>\n",
       "    </tr>\n",
       "    <tr>\n",
       "      <th>9</th>\n",
       "      <td>https</td>\n",
       "      <td>www.valid.ly</td>\n",
       "      <td>?param</td>\n",
       "    </tr>\n",
       "    <tr>\n",
       "      <th>10</th>\n",
       "      <td>http</td>\n",
       "      <td>css-cursor.techstream.org</td>\n",
       "      <td></td>\n",
       "    </tr>\n",
       "  </tbody>\n",
       "</table>\n",
       "</div>"
      ],
      "text/plain": [
       "        0                                1  \\\n",
       "0   https                   www.amazon.com   \n",
       "1    http  www.interactivedynamicvideo.com   \n",
       "2    http                  www.nytimes.com   \n",
       "3    http                    evonomics.com   \n",
       "4   HTTPS                       github.com   \n",
       "5    Http                         phys.org   \n",
       "6   https                     iot.seeed.cc   \n",
       "7    http                 www.bfilipek.com   \n",
       "8    http            beta.crowdfireapp.com   \n",
       "9   https                     www.valid.ly   \n",
       "10   http        css-cursor.techstream.org   \n",
       "\n",
       "                                                    2  \n",
       "0   Technology-Ventures-Enterprise-Thomas-Byers/dp...  \n",
       "1                                                      \n",
       "2                 2007/11/07/movies/07stein.html?_r=0  \n",
       "3   advertising-cannot-maintain-internet-heres-sol...  \n",
       "4                                         keppel/pinn  \n",
       "5                 news/2015-09-scale-solar-youve.html  \n",
       "6                                                      \n",
       "7   2016/04/custom-deleters-for-c-smart-pointers.html  \n",
       "8                                      ?beta=agnipath  \n",
       "9                                              ?param  \n",
       "10                                                     "
      ]
     },
     "execution_count": 240,
     "metadata": {},
     "output_type": "execute_result"
    }
   ],
   "source": [
    "pattern = r'(https?)://([\\w\\.-]+)/?(.+)?'\n",
    "\n",
    "# this creates 3 groups, 1 for the protocol with an optional s\n",
    "# 2 for the doman a word with one or more characters including . or -\n",
    "# 3 a match for anything following the domain 0 or more times (.*)\n",
    "pattern2 = r'(https?)://([\\w\\.\\-]+)/?(.*)'\n",
    "\n",
    "test_urls.str.extract(pattern2, flags=re.I)"
   ]
  },
  {
   "cell_type": "code",
   "execution_count": 241,
   "metadata": {},
   "outputs": [],
   "source": [
    "# naming groups that we extract using ?P\n",
    "pattern = r\"(?P<protocol>https?)://(?P<domain>[\\w\\.\\-]+)/?(?P<path>.*)\"\n",
    "\n",
    "url_parts = hn['url'].str.extract(pattern, flags=re.I)"
   ]
  },
  {
   "cell_type": "code",
   "execution_count": 243,
   "metadata": {},
   "outputs": [
    {
     "data": {
      "text/html": [
       "<div>\n",
       "<style scoped>\n",
       "    .dataframe tbody tr th:only-of-type {\n",
       "        vertical-align: middle;\n",
       "    }\n",
       "\n",
       "    .dataframe tbody tr th {\n",
       "        vertical-align: top;\n",
       "    }\n",
       "\n",
       "    .dataframe thead th {\n",
       "        text-align: right;\n",
       "    }\n",
       "</style>\n",
       "<table border=\"1\" class=\"dataframe\">\n",
       "  <thead>\n",
       "    <tr style=\"text-align: right;\">\n",
       "      <th></th>\n",
       "      <th>protocol</th>\n",
       "      <th>domain</th>\n",
       "      <th>path</th>\n",
       "    </tr>\n",
       "  </thead>\n",
       "  <tbody>\n",
       "    <tr>\n",
       "      <th>0</th>\n",
       "      <td>http</td>\n",
       "      <td>www.interactivedynamicvideo.com</td>\n",
       "      <td></td>\n",
       "    </tr>\n",
       "    <tr>\n",
       "      <th>1</th>\n",
       "      <td>http</td>\n",
       "      <td>www.thewire.com</td>\n",
       "      <td>entertainment/2013/04/florida-djs-april-fools-...</td>\n",
       "    </tr>\n",
       "    <tr>\n",
       "      <th>2</th>\n",
       "      <td>https</td>\n",
       "      <td>www.amazon.com</td>\n",
       "      <td>Technology-Ventures-Enterprise-Thomas-Byers/dp...</td>\n",
       "    </tr>\n",
       "    <tr>\n",
       "      <th>3</th>\n",
       "      <td>http</td>\n",
       "      <td>www.nytimes.com</td>\n",
       "      <td>2007/11/07/movies/07stein.html?_r=0</td>\n",
       "    </tr>\n",
       "    <tr>\n",
       "      <th>4</th>\n",
       "      <td>http</td>\n",
       "      <td>arstechnica.com</td>\n",
       "      <td>business/2015/10/comcast-and-other-isps-boost-...</td>\n",
       "    </tr>\n",
       "    <tr>\n",
       "      <th>5</th>\n",
       "      <td>NaN</td>\n",
       "      <td>NaN</td>\n",
       "      <td>NaN</td>\n",
       "    </tr>\n",
       "    <tr>\n",
       "      <th>6</th>\n",
       "      <td>NaN</td>\n",
       "      <td>NaN</td>\n",
       "      <td>NaN</td>\n",
       "    </tr>\n",
       "    <tr>\n",
       "      <th>7</th>\n",
       "      <td>http</td>\n",
       "      <td>firstround.com</td>\n",
       "      <td>review/shims-jigs-and-other-woodworking-concep...</td>\n",
       "    </tr>\n",
       "    <tr>\n",
       "      <th>8</th>\n",
       "      <td>http</td>\n",
       "      <td>www.southpolestation.com</td>\n",
       "      <td>trivia/igy1/appendix.html</td>\n",
       "    </tr>\n",
       "    <tr>\n",
       "      <th>9</th>\n",
       "      <td>http</td>\n",
       "      <td>techcrunch.com</td>\n",
       "      <td>2016/03/15/crate-raises-4m-seed-round-for-its-...</td>\n",
       "    </tr>\n",
       "  </tbody>\n",
       "</table>\n",
       "</div>"
      ],
      "text/plain": [
       "  protocol                           domain  \\\n",
       "0     http  www.interactivedynamicvideo.com   \n",
       "1     http                  www.thewire.com   \n",
       "2    https                   www.amazon.com   \n",
       "3     http                  www.nytimes.com   \n",
       "4     http                  arstechnica.com   \n",
       "5      NaN                              NaN   \n",
       "6      NaN                              NaN   \n",
       "7     http                   firstround.com   \n",
       "8     http         www.southpolestation.com   \n",
       "9     http                   techcrunch.com   \n",
       "\n",
       "                                                path  \n",
       "0                                                     \n",
       "1  entertainment/2013/04/florida-djs-april-fools-...  \n",
       "2  Technology-Ventures-Enterprise-Thomas-Byers/dp...  \n",
       "3                2007/11/07/movies/07stein.html?_r=0  \n",
       "4  business/2015/10/comcast-and-other-isps-boost-...  \n",
       "5                                                NaN  \n",
       "6                                                NaN  \n",
       "7  review/shims-jigs-and-other-woodworking-concep...  \n",
       "8                          trivia/igy1/appendix.html  \n",
       "9  2016/03/15/crate-raises-4m-seed-round-for-its-...  "
      ]
     },
     "execution_count": 243,
     "metadata": {},
     "output_type": "execute_result"
    }
   ],
   "source": [
    "url_parts[:10]"
   ]
  },
  {
   "cell_type": "code",
   "execution_count": 244,
   "metadata": {},
   "outputs": [
    {
     "data": {
      "text/plain": [
       "0              http://www.interactivedynamicvideo.com/\n",
       "1    http://www.thewire.com/entertainment/2013/04/f...\n",
       "2    https://www.amazon.com/Technology-Ventures-Ent...\n",
       "3    http://www.nytimes.com/2007/11/07/movies/07ste...\n",
       "4    http://arstechnica.com/business/2015/10/comcas...\n",
       "5                                                  NaN\n",
       "6                                                  NaN\n",
       "7    http://firstround.com/review/shims-jigs-and-ot...\n",
       "8    http://www.southpolestation.com/trivia/igy1/ap...\n",
       "9    http://techcrunch.com/2016/03/15/crate-raises-...\n",
       "Name: url, dtype: object"
      ]
     },
     "execution_count": 244,
     "metadata": {},
     "output_type": "execute_result"
    }
   ],
   "source": [
    "hn['url'][:10]"
   ]
  },
  {
   "cell_type": "markdown",
   "metadata": {},
   "source": [
    "# 3 List Comprehensions and Lambda Functions\n",
    "\n",
    "### Creating list comprehensions to replace loops with a single line of code.\n",
    "### Creating single use functions called lambda functions."
   ]
  },
  {
   "cell_type": "code",
   "execution_count": 245,
   "metadata": {},
   "outputs": [],
   "source": [
    "# working with JSON objects\n",
    "import json\n",
    "\n",
    "world_cup_str = \"\"\"\n",
    "[\n",
    "    {\n",
    "        \"team_1\": \"France\",\n",
    "        \"team_2\": \"Croatia\",\n",
    "        \"game_type\": \"Final\",\n",
    "        \"score\" : [4, 2]\n",
    "    },\n",
    "    {\n",
    "        \"team_1\": \"Belgium\",\n",
    "        \"team_2\": \"England\",\n",
    "        \"game_type\": \"3rd/4th Playoff\",\n",
    "        \"score\" : [2, 0]\n",
    "    }\n",
    "]\n",
    "\"\"\""
   ]
  },
  {
   "cell_type": "code",
   "execution_count": 246,
   "metadata": {},
   "outputs": [
    {
     "data": {
      "text/plain": [
       "[{'team_1': 'France',\n",
       "  'team_2': 'Croatia',\n",
       "  'game_type': 'Final',\n",
       "  'score': [4, 2]},\n",
       " {'team_1': 'Belgium',\n",
       "  'team_2': 'England',\n",
       "  'game_type': '3rd/4th Playoff',\n",
       "  'score': [2, 0]}]"
      ]
     },
     "execution_count": 246,
     "metadata": {},
     "output_type": "execute_result"
    }
   ],
   "source": [
    "# json.loads will create a list object from our json object\n",
    "# json.loads is short for 'load string'; which is different than json.load)\n",
    "world_cup_obj = json.loads(world_cup_str)\n",
    "world_cup_obj"
   ]
  },
  {
   "cell_type": "code",
   "execution_count": 249,
   "metadata": {},
   "outputs": [
    {
     "data": {
      "text/plain": [
       "list"
      ]
     },
     "execution_count": 249,
     "metadata": {},
     "output_type": "execute_result"
    }
   ],
   "source": [
    "type(world_cup_obj)"
   ]
  },
  {
   "cell_type": "code",
   "execution_count": 251,
   "metadata": {},
   "outputs": [],
   "source": [
    "# working with hn json file\n",
    "\n",
    "file = open('hn_2014.json')\n",
    "\n",
    "hn = json.load(file)"
   ]
  },
  {
   "cell_type": "code",
   "execution_count": 252,
   "metadata": {},
   "outputs": [
    {
     "data": {
      "text/plain": [
       "list"
      ]
     },
     "execution_count": 252,
     "metadata": {},
     "output_type": "execute_result"
    }
   ],
   "source": [
    "type(hn)"
   ]
  },
  {
   "cell_type": "code",
   "execution_count": 253,
   "metadata": {},
   "outputs": [
    {
     "data": {
      "text/plain": [
       "35806"
      ]
     },
     "execution_count": 253,
     "metadata": {},
     "output_type": "execute_result"
    }
   ],
   "source": [
    "len(hn)"
   ]
  },
  {
   "cell_type": "code",
   "execution_count": 254,
   "metadata": {},
   "outputs": [
    {
     "data": {
      "text/plain": [
       "dict"
      ]
     },
     "execution_count": 254,
     "metadata": {},
     "output_type": "execute_result"
    }
   ],
   "source": [
    "type(hn[0])"
   ]
  },
  {
   "cell_type": "code",
   "execution_count": 260,
   "metadata": {},
   "outputs": [],
   "source": [
    "# function to read json object using json.dumps function\n",
    "\n",
    "def jprint(obj):\n",
    "    text = json.dumps(obj, sort_keys=True, indent=4)\n",
    "    print(text)"
   ]
  },
  {
   "cell_type": "code",
   "execution_count": 261,
   "metadata": {},
   "outputs": [
    {
     "name": "stdout",
     "output_type": "stream",
     "text": [
      "{\n",
      "    \"author\": \"dragongraphics\",\n",
      "    \"createdAt\": \"2014-05-29T08:07:50Z\",\n",
      "    \"createdAtI\": 1401350870,\n",
      "    \"numComments\": 0,\n",
      "    \"objectId\": \"7815238\",\n",
      "    \"points\": 2,\n",
      "    \"storyText\": \"\",\n",
      "    \"tags\": [\n",
      "        \"story\",\n",
      "        \"author_dragongraphics\",\n",
      "        \"story_7815238\"\n",
      "    ],\n",
      "    \"title\": \"Are we getting too Sassy? Weighing up micro-optimisation vs. maintainability\",\n",
      "    \"url\": \"http://ashleynolan.co.uk/blog/are-we-getting-too-sassy\"\n",
      "}\n"
     ]
    }
   ],
   "source": [
    "jprint(hn[0])"
   ]
  },
  {
   "cell_type": "code",
   "execution_count": 262,
   "metadata": {},
   "outputs": [],
   "source": [
    "# creating a funciton to delete the 'createdAtI' from all dictionaries\n",
    "\n",
    "def del_key(dict_, key):\n",
    "    # create a copy so we don't\n",
    "    # modify the original dict\n",
    "    modified_dict = dict_.copy()\n",
    "    del modified_dict[key]\n",
    "    return modified_dict"
   ]
  },
  {
   "cell_type": "code",
   "execution_count": 268,
   "metadata": {},
   "outputs": [],
   "source": [
    "hn_clean = []\n",
    "\n",
    "for val in hn:\n",
    "    clean = del_key(val, 'createdAtI')\n",
    "    hn_clean.append(clean)"
   ]
  },
  {
   "cell_type": "code",
   "execution_count": 269,
   "metadata": {},
   "outputs": [
    {
     "data": {
      "text/plain": [
       "35806"
      ]
     },
     "execution_count": 269,
     "metadata": {},
     "output_type": "execute_result"
    }
   ],
   "source": [
    "len(hn_clean)"
   ]
  },
  {
   "cell_type": "code",
   "execution_count": 270,
   "metadata": {},
   "outputs": [
    {
     "data": {
      "text/plain": [
       "{'author': 'dragongraphics',\n",
       " 'numComments': 0,\n",
       " 'points': 2,\n",
       " 'url': 'http://ashleynolan.co.uk/blog/are-we-getting-too-sassy',\n",
       " 'storyText': '',\n",
       " 'createdAt': '2014-05-29T08:07:50Z',\n",
       " 'tags': ['story', 'author_dragongraphics', 'story_7815238'],\n",
       " 'title': 'Are we getting too Sassy? Weighing up micro-optimisation vs. maintainability',\n",
       " 'objectId': '7815238'}"
      ]
     },
     "execution_count": 270,
     "metadata": {},
     "output_type": "execute_result"
    }
   ],
   "source": [
    "hn_clean[0]"
   ]
  },
  {
   "cell_type": "markdown",
   "metadata": {},
   "source": [
    "## List Comprehensions\n",
    "\n",
    "A list comprehension provides a concise way of creating lists in a single line of code.\n",
    "\n",
    "They allow us to do what we did above with for loops in one line\n",
    "\n",
    "The difference from the for loop is the transfromation goes first then the for statement without semicolons"
   ]
  },
  {
   "cell_type": "code",
   "execution_count": 271,
   "metadata": {},
   "outputs": [],
   "source": [
    "# deleting the key using list comprehension\n",
    "hn_clean2 = [del_key(val, 'createdAtI') for val in hn]"
   ]
  },
  {
   "cell_type": "code",
   "execution_count": 272,
   "metadata": {},
   "outputs": [
    {
     "data": {
      "text/plain": [
       "35806"
      ]
     },
     "execution_count": 272,
     "metadata": {},
     "output_type": "execute_result"
    }
   ],
   "source": [
    "len(hn_clean2)"
   ]
  },
  {
   "cell_type": "code",
   "execution_count": 276,
   "metadata": {},
   "outputs": [
    {
     "name": "stdout",
     "output_type": "stream",
     "text": [
      "   col_1  col_2  col_3  col_4\n",
      "0    0.0    0.0    0.0    0.0\n",
      "1    0.0    0.0    0.0    0.0\n",
      "2    0.0    0.0    0.0    0.0\n",
      "3    0.0    0.0    0.0    0.0\n"
     ]
    }
   ],
   "source": [
    "# we can use list comprehension to create an empty dataframe\n",
    "cols = [\"col_{}\".format(i) for i in range(1,5)]\n",
    "data = np.zeros((4,4))\n",
    "\n",
    "df = pd.DataFrame(data, columns=cols)\n",
    "print(df)"
   ]
  },
  {
   "cell_type": "code",
   "execution_count": 309,
   "metadata": {},
   "outputs": [
    {
     "data": {
      "text/plain": [
       "['http://ashleynolan.co.uk/blog/are-we-getting-too-sassy',\n",
       " 'http://spectrum.ieee.org/automaton/robotics/home-robots/telemba-telepresence-robot',\n",
       " 'http://online.wsj.com/articles/apple-to-buy-beats-1401308971']"
      ]
     },
     "execution_count": 309,
     "metadata": {},
     "output_type": "execute_result"
    }
   ],
   "source": [
    "# using a for loop to extract urls\n",
    "urls_2 = []\n",
    "for val in hn_clean:\n",
    "    url = val['url']\n",
    "    urls_2.append(url)\n",
    "    \n",
    "urls_2[:3]"
   ]
  },
  {
   "cell_type": "code",
   "execution_count": 310,
   "metadata": {},
   "outputs": [
    {
     "data": {
      "text/plain": [
       "['http://ashleynolan.co.uk/blog/are-we-getting-too-sassy',\n",
       " 'http://spectrum.ieee.org/automaton/robotics/home-robots/telemba-telepresence-robot',\n",
       " 'http://online.wsj.com/articles/apple-to-buy-beats-1401308971']"
      ]
     },
     "execution_count": 310,
     "metadata": {},
     "output_type": "execute_result"
    }
   ],
   "source": [
    "# using list comprehension to extract url\n",
    "urls = [val['url'] for val in hn_clean]\n",
    "urls[:3]"
   ]
  },
  {
   "cell_type": "code",
   "execution_count": 311,
   "metadata": {},
   "outputs": [
    {
     "data": {
      "text/plain": [
       "9279"
      ]
     },
     "execution_count": 311,
     "metadata": {},
     "output_type": "execute_result"
    }
   ],
   "source": [
    "# using for loop to filter data\n",
    "has_comments = []\n",
    "\n",
    "for val in hn_clean:\n",
    "    if val['numComments'] > 0:\n",
    "        has_comments.append(val)\n",
    "        \n",
    "len(has_comments)"
   ]
  },
  {
   "cell_type": "code",
   "execution_count": 312,
   "metadata": {},
   "outputs": [
    {
     "data": {
      "text/plain": [
       "9279"
      ]
     },
     "execution_count": 312,
     "metadata": {},
     "output_type": "execute_result"
    }
   ],
   "source": [
    "# using list comprehension to do the same operation above\n",
    "has_comments_2 = [val for val in hn_clean if val['numComments'] > 0]\n",
    "len(has_comments_2)"
   ]
  },
  {
   "cell_type": "code",
   "execution_count": 321,
   "metadata": {},
   "outputs": [
    {
     "data": {
      "text/plain": [
       "8"
      ]
     },
     "execution_count": 321,
     "metadata": {},
     "output_type": "execute_result"
    }
   ],
   "source": [
    "# list comprehension to create a list with points > 1000\n",
    "thousand_points = [val for val in hn_clean if val['points'] > 1000]\n",
    "len(thousand_points)"
   ]
  },
  {
   "cell_type": "code",
   "execution_count": 324,
   "metadata": {},
   "outputs": [],
   "source": [
    "# using functions with JSON objects\n",
    "def get_age(json_dict):\n",
    "    return json_dict['age']\n",
    "\n",
    "#youngest = min(json_obj, ket=get_age)"
   ]
  },
  {
   "cell_type": "code",
   "execution_count": 326,
   "metadata": {},
   "outputs": [
    {
     "data": {
      "text/plain": [
       "{'author': 'platz',\n",
       " 'numComments': 1208,\n",
       " 'points': 889,\n",
       " 'url': 'https://blog.mozilla.org/blog/2014/04/03/brendan-eich-steps-down-as-mozilla-ceo/',\n",
       " 'storyText': None,\n",
       " 'createdAt': '2014-04-03T19:02:53Z',\n",
       " 'tags': ['story', 'author_platz', 'story_7525198'],\n",
       " 'title': 'Brendan Eich Steps Down as Mozilla CEO',\n",
       " 'objectId': '7525198'}"
      ]
     },
     "execution_count": 326,
     "metadata": {},
     "output_type": "execute_result"
    }
   ],
   "source": [
    "# you have to pass a function as the key in order to use a sorting function\n",
    "# the function extracts all the values from the 'numComments' column\n",
    "def key_func(dict_):\n",
    "    return dict_['numComments']\n",
    "\n",
    "most_comments = max(hn_clean, key=key_func)\n",
    "most_comments"
   ]
  },
  {
   "cell_type": "markdown",
   "metadata": {},
   "source": [
    "# lambda functions\n",
    "\n",
    "### allows you to define a function you want to pass as an arugement at the time you need it"
   ]
  },
  {
   "cell_type": "code",
   "execution_count": 329,
   "metadata": {},
   "outputs": [
    {
     "data": {
      "text/plain": [
       "{'author': 'alamgir_mand',\n",
       " 'numComments': 0,\n",
       " 'points': 3,\n",
       " 'url': 'https://www.tapresearch.com/app-development-research',\n",
       " 'storyText': '',\n",
       " 'createdAt': '2014-05-29T00:19:19Z',\n",
       " 'tags': ['story', 'author_alamgir_mand', 'story_7813869', 'show_hn'],\n",
       " 'title': 'Show HN: Test your App Store Assets Before You Launch',\n",
       " 'objectId': '7813869'}"
      ]
     },
     "execution_count": 329,
     "metadata": {},
     "output_type": "execute_result"
    }
   ],
   "source": [
    "# max number of tabs; tags is a list\n",
    "# here we pass a lambda function to the key\n",
    "max(hn_clean, key=lambda val: len(val['tags']))"
   ]
  },
  {
   "cell_type": "code",
   "execution_count": 328,
   "metadata": {},
   "outputs": [
    {
     "data": {
      "text/plain": [
       "[{'author': 'dragongraphics',\n",
       "  'numComments': 0,\n",
       "  'points': 2,\n",
       "  'url': 'http://ashleynolan.co.uk/blog/are-we-getting-too-sassy',\n",
       "  'storyText': '',\n",
       "  'createdAt': '2014-05-29T08:07:50Z',\n",
       "  'tags': ['story', 'author_dragongraphics', 'story_7815238'],\n",
       "  'title': 'Are we getting too Sassy? Weighing up micro-optimisation vs. maintainability',\n",
       "  'objectId': '7815238'}]"
      ]
     },
     "execution_count": 328,
     "metadata": {},
     "output_type": "execute_result"
    }
   ],
   "source": [
    "hn_clean[:1]"
   ]
  },
  {
   "cell_type": "code",
   "execution_count": 340,
   "metadata": {},
   "outputs": [
    {
     "data": {
      "text/plain": [
       "[{'author': 'frederfred',\n",
       "  'numComments': 398,\n",
       "  'points': 2732,\n",
       "  'url': 'http://gabrielecirulli.github.io/2048/',\n",
       "  'storyText': '',\n",
       "  'createdAt': '2014-03-10T15:44:42Z',\n",
       "  'tags': ['story', 'author_frederfred', 'story_7373566'],\n",
       "  'title': '2048',\n",
       "  'objectId': '7373566'}]"
      ]
     },
     "execution_count": 340,
     "metadata": {},
     "output_type": "execute_result"
    }
   ],
   "source": [
    "# using the sort function to sort by desc points\n",
    "hn_sorted_points = sorted(hn_clean, key=lambda val: val['points'], reverse=True) \n",
    "hn_sorted_points[:1]"
   ]
  },
  {
   "cell_type": "code",
   "execution_count": 341,
   "metadata": {},
   "outputs": [
    {
     "data": {
      "text/plain": [
       "['2048',\n",
       " 'Today is The Day We Fight Back',\n",
       " 'Wozniak: “Actually, the movie was largely a lie about me”',\n",
       " 'Microsoft Open Sources C# Compiler',\n",
       " 'Elon Musk: To the People of New Jersey']"
      ]
     },
     "execution_count": 341,
     "metadata": {},
     "output_type": "execute_result"
    }
   ],
   "source": [
    "# slicing the hn_sorted_points list to extract the top 5 titles\n",
    "top_5_titles = [val['title'] for val in hn_sorted_points][:5]\n",
    "top_5_titles"
   ]
  },
  {
   "cell_type": "markdown",
   "metadata": {},
   "source": [
    "# pandas.read_json()\n",
    "\n",
    "Pandas has the pandas.read_json() function, which is designed to read JSON from either a file or a JSON string. In our case, our JSON exists as Python objects already, so we don't need to use this function.\n",
    "\n",
    "Each of the dictionaries will become a row in the dataframe, with each key corresponding to a column name."
   ]
  },
  {
   "cell_type": "code",
   "execution_count": 342,
   "metadata": {},
   "outputs": [
    {
     "data": {
      "text/plain": [
       "[{'author': 'dragongraphics',\n",
       "  'numComments': 0,\n",
       "  'points': 2,\n",
       "  'url': 'http://ashleynolan.co.uk/blog/are-we-getting-too-sassy',\n",
       "  'storyText': '',\n",
       "  'createdAt': '2014-05-29T08:07:50Z',\n",
       "  'tags': ['story', 'author_dragongraphics', 'story_7815238'],\n",
       "  'title': 'Are we getting too Sassy? Weighing up micro-optimisation vs. maintainability',\n",
       "  'objectId': '7815238'}]"
      ]
     },
     "execution_count": 342,
     "metadata": {},
     "output_type": "execute_result"
    }
   ],
   "source": [
    "hn_clean[:1]"
   ]
  },
  {
   "cell_type": "code",
   "execution_count": 385,
   "metadata": {},
   "outputs": [],
   "source": [
    "hn_df = pd.DataFrame(hn_clean)"
   ]
  },
  {
   "cell_type": "code",
   "execution_count": 386,
   "metadata": {},
   "outputs": [
    {
     "data": {
      "text/html": [
       "<div>\n",
       "<style scoped>\n",
       "    .dataframe tbody tr th:only-of-type {\n",
       "        vertical-align: middle;\n",
       "    }\n",
       "\n",
       "    .dataframe tbody tr th {\n",
       "        vertical-align: top;\n",
       "    }\n",
       "\n",
       "    .dataframe thead th {\n",
       "        text-align: right;\n",
       "    }\n",
       "</style>\n",
       "<table border=\"1\" class=\"dataframe\">\n",
       "  <thead>\n",
       "    <tr style=\"text-align: right;\">\n",
       "      <th></th>\n",
       "      <th>author</th>\n",
       "      <th>createdAt</th>\n",
       "      <th>numComments</th>\n",
       "      <th>objectId</th>\n",
       "      <th>points</th>\n",
       "      <th>storyText</th>\n",
       "      <th>tags</th>\n",
       "      <th>title</th>\n",
       "      <th>url</th>\n",
       "    </tr>\n",
       "  </thead>\n",
       "  <tbody>\n",
       "    <tr>\n",
       "      <th>0</th>\n",
       "      <td>dragongraphics</td>\n",
       "      <td>2014-05-29T08:07:50Z</td>\n",
       "      <td>0</td>\n",
       "      <td>7815238</td>\n",
       "      <td>2</td>\n",
       "      <td></td>\n",
       "      <td>[story, author_dragongraphics, story_7815238]</td>\n",
       "      <td>Are we getting too Sassy? Weighing up micro-op...</td>\n",
       "      <td>http://ashleynolan.co.uk/blog/are-we-getting-t...</td>\n",
       "    </tr>\n",
       "  </tbody>\n",
       "</table>\n",
       "</div>"
      ],
      "text/plain": [
       "           author             createdAt  numComments objectId  points  \\\n",
       "0  dragongraphics  2014-05-29T08:07:50Z            0  7815238       2   \n",
       "\n",
       "  storyText                                           tags  \\\n",
       "0            [story, author_dragongraphics, story_7815238]   \n",
       "\n",
       "                                               title  \\\n",
       "0  Are we getting too Sassy? Weighing up micro-op...   \n",
       "\n",
       "                                                 url  \n",
       "0  http://ashleynolan.co.uk/blog/are-we-getting-t...  "
      ]
     },
     "execution_count": 386,
     "metadata": {},
     "output_type": "execute_result"
    }
   ],
   "source": [
    "hn_df.head(1)"
   ]
  },
  {
   "cell_type": "code",
   "execution_count": 387,
   "metadata": {},
   "outputs": [
    {
     "data": {
      "text/plain": [
       "(35806, 9)"
      ]
     },
     "execution_count": 387,
     "metadata": {},
     "output_type": "execute_result"
    }
   ],
   "source": [
    "hn_df.shape"
   ]
  },
  {
   "cell_type": "code",
   "execution_count": 388,
   "metadata": {},
   "outputs": [
    {
     "data": {
      "text/plain": [
       "35806"
      ]
     },
     "execution_count": 388,
     "metadata": {},
     "output_type": "execute_result"
    }
   ],
   "source": [
    "len(hn_clean)"
   ]
  },
  {
   "cell_type": "code",
   "execution_count": 389,
   "metadata": {},
   "outputs": [
    {
     "name": "stdout",
     "output_type": "stream",
     "text": [
      "<class 'pandas.core.series.Series'>\n",
      "object\n"
     ]
    }
   ],
   "source": [
    "# we're going to explore the data in the tags column\n",
    "print(type(hn_df['tags']))\n",
    "print(hn_df['tags'].dtype)"
   ]
  },
  {
   "cell_type": "code",
   "execution_count": 390,
   "metadata": {},
   "outputs": [
    {
     "data": {
      "text/plain": [
       "<class 'list'>    35806\n",
       "Name: tags, dtype: int64"
      ]
     },
     "execution_count": 390,
     "metadata": {},
     "output_type": "execute_result"
    }
   ],
   "source": [
    "# we could use the Series.apply() method to apply a function to every item in a series\n",
    "tags = hn_df['tags']\n",
    "tags_types = tags.apply(type)\n",
    "type_counts = tags_types.value_counts(dropna=False)\n",
    "type_counts"
   ]
  },
  {
   "cell_type": "code",
   "execution_count": 391,
   "metadata": {},
   "outputs": [
    {
     "data": {
      "text/plain": [
       "3    33459\n",
       "4     2347\n",
       "Name: tags, dtype: int64"
      ]
     },
     "execution_count": 391,
     "metadata": {},
     "output_type": "execute_result"
    }
   ],
   "source": [
    "# we see that there are over 2300 records with 4 tags\n",
    "tags_type = tags.apply(len)\n",
    "tags_type.value_counts(dropna=False)"
   ]
  },
  {
   "cell_type": "code",
   "execution_count": 392,
   "metadata": {},
   "outputs": [],
   "source": [
    "# creating a boolean filter to select tags with 4 items\n",
    "four_tags = tags[tags_type == 4]"
   ]
  },
  {
   "cell_type": "code",
   "execution_count": 393,
   "metadata": {},
   "outputs": [
    {
     "data": {
      "text/plain": [
       "43    [story, author_alamgir_mand, story_7813869, sh...\n",
       "86      [story, author_cweagans, story_7812404, ask_hn]\n",
       "Name: tags, dtype: object"
      ]
     },
     "execution_count": 393,
     "metadata": {},
     "output_type": "execute_result"
    }
   ],
   "source": [
    "four_tags[:2]"
   ]
  },
  {
   "cell_type": "code",
   "execution_count": 394,
   "metadata": {},
   "outputs": [],
   "source": [
    "# the 4th tag always comes at the end so we can extract it using a for or lambda function\n",
    "def extract_tag(l):\n",
    "    if len(l) == 4:\n",
    "        return l(-1)\n",
    "    else:\n",
    "        return None\n",
    "# as a lambda function using list comprehension\n",
    "# l[-1] if len(l) == 4 else None"
   ]
  },
  {
   "cell_type": "code",
   "execution_count": 395,
   "metadata": {},
   "outputs": [],
   "source": [
    "# extracting the 4th elemenet since we will eliminate the redundant first 3 in our new clean column\n",
    "cleaned_tags = tags.apply(lambda l: l[-1] if len(l) == 4 else None)"
   ]
  },
  {
   "cell_type": "code",
   "execution_count": 396,
   "metadata": {},
   "outputs": [],
   "source": [
    "hn_df['tags'] = cleaned_tags"
   ]
  },
  {
   "cell_type": "code",
   "execution_count": 376,
   "metadata": {},
   "outputs": [],
   "source": [
    "#hn_df['tags']"
   ]
  },
  {
   "cell_type": "markdown",
   "metadata": {},
   "source": [
    "# Working with Missing Data\n",
    "\n",
    "\n",
    "data on motor vehicle collisions released by New York City \n",
    "\n",
    "- unique_key: A unique identifier for each collision.\n",
    "- date, time: Date and time of the collision.\n",
    "- borough: The borough, or area of New York City, where the collision occurred.\n",
    "- location: Latitude and longitude coordinates for the collision.\n",
    "- on_street, cross_street, off_street: Details of the street or intersection where the collision occurred.\n",
    "- pedestrians_injured: Number of pedestrians who were injured.\n",
    "- cyclist_injured: Number of people traveling on a bicycle who were injured.\n",
    "- motorist_injured: Number of people traveling in a vehicle who were injured.\n",
    "- total_injured: Total number of people injured.\n",
    "- pedestrians_killed: Number of pedestrians who were killed.\n",
    "- cyclist_killed: Number of people traveling on a bicycle who were killed.\n",
    "- motorist_killed: Number of people traveling in a vehicle who were killed.\n",
    "- total_killed: Total number of people killed.\n",
    "- vehicle_1 through vehicle_5: Type of each vehicle involved in the accident.\n",
    "- cause_vehicle_1 through cause_vehicle_5: Contributing factor for each vehicle in the accident.\n"
   ]
  },
  {
   "cell_type": "code",
   "execution_count": 397,
   "metadata": {},
   "outputs": [],
   "source": [
    "# reading in the dataset\n",
    "mvc = pd.read_csv('nypd_mvc_2018.csv')"
   ]
  },
  {
   "cell_type": "code",
   "execution_count": 398,
   "metadata": {},
   "outputs": [
    {
     "data": {
      "text/plain": [
       "(57864, 26)"
      ]
     },
     "execution_count": 398,
     "metadata": {},
     "output_type": "execute_result"
    }
   ],
   "source": [
    "mvc.shape"
   ]
  },
  {
   "cell_type": "code",
   "execution_count": 399,
   "metadata": {},
   "outputs": [
    {
     "data": {
      "text/html": [
       "<div>\n",
       "<style scoped>\n",
       "    .dataframe tbody tr th:only-of-type {\n",
       "        vertical-align: middle;\n",
       "    }\n",
       "\n",
       "    .dataframe tbody tr th {\n",
       "        vertical-align: top;\n",
       "    }\n",
       "\n",
       "    .dataframe thead th {\n",
       "        text-align: right;\n",
       "    }\n",
       "</style>\n",
       "<table border=\"1\" class=\"dataframe\">\n",
       "  <thead>\n",
       "    <tr style=\"text-align: right;\">\n",
       "      <th></th>\n",
       "      <th>unique_key</th>\n",
       "      <th>date</th>\n",
       "      <th>time</th>\n",
       "      <th>borough</th>\n",
       "      <th>location</th>\n",
       "      <th>on_street</th>\n",
       "      <th>cross_street</th>\n",
       "      <th>off_street</th>\n",
       "      <th>pedestrians_injured</th>\n",
       "      <th>cyclist_injured</th>\n",
       "      <th>...</th>\n",
       "      <th>vehicle_1</th>\n",
       "      <th>vehicle_2</th>\n",
       "      <th>vehicle_3</th>\n",
       "      <th>vehicle_4</th>\n",
       "      <th>vehicle_5</th>\n",
       "      <th>cause_vehicle_1</th>\n",
       "      <th>cause_vehicle_2</th>\n",
       "      <th>cause_vehicle_3</th>\n",
       "      <th>cause_vehicle_4</th>\n",
       "      <th>cause_vehicle_5</th>\n",
       "    </tr>\n",
       "  </thead>\n",
       "  <tbody>\n",
       "    <tr>\n",
       "      <th>0</th>\n",
       "      <td>3869058</td>\n",
       "      <td>2018-03-23</td>\n",
       "      <td>21:40</td>\n",
       "      <td>MANHATTAN</td>\n",
       "      <td>(40.742832, -74.00771)</td>\n",
       "      <td>WEST 15 STREET</td>\n",
       "      <td>10 AVENUE</td>\n",
       "      <td>NaN</td>\n",
       "      <td>0</td>\n",
       "      <td>0</td>\n",
       "      <td>...</td>\n",
       "      <td>PASSENGER VEHICLE</td>\n",
       "      <td>NaN</td>\n",
       "      <td>NaN</td>\n",
       "      <td>NaN</td>\n",
       "      <td>NaN</td>\n",
       "      <td>Following Too Closely</td>\n",
       "      <td>Unspecified</td>\n",
       "      <td>NaN</td>\n",
       "      <td>NaN</td>\n",
       "      <td>NaN</td>\n",
       "    </tr>\n",
       "    <tr>\n",
       "      <th>1</th>\n",
       "      <td>3847947</td>\n",
       "      <td>2018-02-13</td>\n",
       "      <td>14:45</td>\n",
       "      <td>BROOKLYN</td>\n",
       "      <td>(40.623714, -73.99314)</td>\n",
       "      <td>16 AVENUE</td>\n",
       "      <td>62 STREET</td>\n",
       "      <td>NaN</td>\n",
       "      <td>0</td>\n",
       "      <td>0</td>\n",
       "      <td>...</td>\n",
       "      <td>SPORT UTILITY / STATION WAGON</td>\n",
       "      <td>DS</td>\n",
       "      <td>NaN</td>\n",
       "      <td>NaN</td>\n",
       "      <td>NaN</td>\n",
       "      <td>Backing Unsafely</td>\n",
       "      <td>Unspecified</td>\n",
       "      <td>NaN</td>\n",
       "      <td>NaN</td>\n",
       "      <td>NaN</td>\n",
       "    </tr>\n",
       "  </tbody>\n",
       "</table>\n",
       "<p>2 rows × 26 columns</p>\n",
       "</div>"
      ],
      "text/plain": [
       "   unique_key        date   time    borough                location  \\\n",
       "0     3869058  2018-03-23  21:40  MANHATTAN  (40.742832, -74.00771)   \n",
       "1     3847947  2018-02-13  14:45   BROOKLYN  (40.623714, -73.99314)   \n",
       "\n",
       "                          on_street cross_street off_street  \\\n",
       "0  WEST 15 STREET                      10 AVENUE        NaN   \n",
       "1  16 AVENUE                           62 STREET        NaN   \n",
       "\n",
       "   pedestrians_injured  cyclist_injured  ...                      vehicle_1  \\\n",
       "0                    0                0  ...              PASSENGER VEHICLE   \n",
       "1                    0                0  ...  SPORT UTILITY / STATION WAGON   \n",
       "\n",
       "   vehicle_2  vehicle_3  vehicle_4  vehicle_5        cause_vehicle_1  \\\n",
       "0        NaN        NaN        NaN        NaN  Following Too Closely   \n",
       "1         DS        NaN        NaN        NaN       Backing Unsafely   \n",
       "\n",
       "  cause_vehicle_2 cause_vehicle_3 cause_vehicle_4 cause_vehicle_5  \n",
       "0     Unspecified             NaN             NaN             NaN  \n",
       "1     Unspecified             NaN             NaN             NaN  \n",
       "\n",
       "[2 rows x 26 columns]"
      ]
     },
     "execution_count": 399,
     "metadata": {},
     "output_type": "execute_result"
    }
   ],
   "source": [
    "mvc.head(2)"
   ]
  },
  {
   "cell_type": "code",
   "execution_count": 403,
   "metadata": {},
   "outputs": [
    {
     "data": {
      "text/plain": [
       "unique_key                 0\n",
       "date                       0\n",
       "time                       0\n",
       "borough                20646\n",
       "location                3885\n",
       "on_street              13961\n",
       "cross_street           29249\n",
       "off_street             44093\n",
       "pedestrians_injured        0\n",
       "cyclist_injured            0\n",
       "motorist_injured           0\n",
       "total_injured              1\n",
       "pedestrians_killed         0\n",
       "cyclist_killed             0\n",
       "motorist_killed            0\n",
       "total_killed               5\n",
       "vehicle_1                355\n",
       "vehicle_2              12262\n",
       "vehicle_3              54352\n",
       "vehicle_4              57158\n",
       "vehicle_5              57681\n",
       "cause_vehicle_1          175\n",
       "cause_vehicle_2         8692\n",
       "cause_vehicle_3        54134\n",
       "cause_vehicle_4        57111\n",
       "cause_vehicle_5        57671\n",
       "dtype: int64"
      ]
     },
     "execution_count": 403,
     "metadata": {},
     "output_type": "execute_result"
    }
   ],
   "source": [
    "# counting the null values in our dataset\n",
    "null_values = mvc.isnull().sum()\n",
    "null_values"
   ]
  },
  {
   "cell_type": "code",
   "execution_count": 409,
   "metadata": {},
   "outputs": [
    {
     "data": {
      "text/plain": [
       "unique_key              0.000000\n",
       "date                    0.000000\n",
       "time                    0.000000\n",
       "borough                35.680216\n",
       "location                6.714019\n",
       "on_street              24.127264\n",
       "cross_street           50.547836\n",
       "off_street             76.201092\n",
       "pedestrians_injured     0.000000\n",
       "cyclist_injured         0.000000\n",
       "motorist_injured        0.000000\n",
       "total_injured           0.001728\n",
       "pedestrians_killed      0.000000\n",
       "cyclist_killed          0.000000\n",
       "motorist_killed         0.000000\n",
       "total_killed            0.008641\n",
       "vehicle_1               0.613508\n",
       "vehicle_2              21.191069\n",
       "vehicle_3              93.930596\n",
       "vehicle_4              98.779898\n",
       "vehicle_5              99.683741\n",
       "cause_vehicle_1         0.302433\n",
       "cause_vehicle_2        15.021430\n",
       "cause_vehicle_3        93.553850\n",
       "cause_vehicle_4        98.698673\n",
       "cause_vehicle_5        99.666459\n",
       "dtype: float64"
      ]
     },
     "execution_count": 409,
     "metadata": {},
     "output_type": "execute_result"
    }
   ],
   "source": [
    "# calculating the percentage of null values (compared to all values)\n",
    "per_null = null_values / mvc.shape[0] * 100\n",
    "per_null"
   ]
  },
  {
   "cell_type": "code",
   "execution_count": 411,
   "metadata": {},
   "outputs": [],
   "source": [
    "# creating a dataframe of null counts\n",
    "null_df = pd.DataFrame({'null_values': null_values, 'per_null': per_null})"
   ]
  },
  {
   "cell_type": "code",
   "execution_count": 412,
   "metadata": {},
   "outputs": [
    {
     "data": {
      "text/plain": [
       "(26, 2)"
      ]
     },
     "execution_count": 412,
     "metadata": {},
     "output_type": "execute_result"
    }
   ],
   "source": [
    "null_df.shape"
   ]
  },
  {
   "cell_type": "code",
   "execution_count": 413,
   "metadata": {},
   "outputs": [
    {
     "data": {
      "text/html": [
       "<div>\n",
       "<style scoped>\n",
       "    .dataframe tbody tr th:only-of-type {\n",
       "        vertical-align: middle;\n",
       "    }\n",
       "\n",
       "    .dataframe tbody tr th {\n",
       "        vertical-align: top;\n",
       "    }\n",
       "\n",
       "    .dataframe thead th {\n",
       "        text-align: right;\n",
       "    }\n",
       "</style>\n",
       "<table border=\"1\" class=\"dataframe\">\n",
       "  <thead>\n",
       "    <tr style=\"text-align: right;\">\n",
       "      <th></th>\n",
       "      <th>null_values</th>\n",
       "      <th>per_null</th>\n",
       "    </tr>\n",
       "  </thead>\n",
       "  <tbody>\n",
       "    <tr>\n",
       "      <th>unique_key</th>\n",
       "      <td>0</td>\n",
       "      <td>0.000000</td>\n",
       "    </tr>\n",
       "    <tr>\n",
       "      <th>date</th>\n",
       "      <td>0</td>\n",
       "      <td>0.000000</td>\n",
       "    </tr>\n",
       "    <tr>\n",
       "      <th>time</th>\n",
       "      <td>0</td>\n",
       "      <td>0.000000</td>\n",
       "    </tr>\n",
       "    <tr>\n",
       "      <th>borough</th>\n",
       "      <td>20646</td>\n",
       "      <td>35.680216</td>\n",
       "    </tr>\n",
       "    <tr>\n",
       "      <th>location</th>\n",
       "      <td>3885</td>\n",
       "      <td>6.714019</td>\n",
       "    </tr>\n",
       "    <tr>\n",
       "      <th>on_street</th>\n",
       "      <td>13961</td>\n",
       "      <td>24.127264</td>\n",
       "    </tr>\n",
       "    <tr>\n",
       "      <th>cross_street</th>\n",
       "      <td>29249</td>\n",
       "      <td>50.547836</td>\n",
       "    </tr>\n",
       "    <tr>\n",
       "      <th>off_street</th>\n",
       "      <td>44093</td>\n",
       "      <td>76.201092</td>\n",
       "    </tr>\n",
       "    <tr>\n",
       "      <th>pedestrians_injured</th>\n",
       "      <td>0</td>\n",
       "      <td>0.000000</td>\n",
       "    </tr>\n",
       "    <tr>\n",
       "      <th>cyclist_injured</th>\n",
       "      <td>0</td>\n",
       "      <td>0.000000</td>\n",
       "    </tr>\n",
       "    <tr>\n",
       "      <th>motorist_injured</th>\n",
       "      <td>0</td>\n",
       "      <td>0.000000</td>\n",
       "    </tr>\n",
       "    <tr>\n",
       "      <th>total_injured</th>\n",
       "      <td>1</td>\n",
       "      <td>0.001728</td>\n",
       "    </tr>\n",
       "    <tr>\n",
       "      <th>pedestrians_killed</th>\n",
       "      <td>0</td>\n",
       "      <td>0.000000</td>\n",
       "    </tr>\n",
       "    <tr>\n",
       "      <th>cyclist_killed</th>\n",
       "      <td>0</td>\n",
       "      <td>0.000000</td>\n",
       "    </tr>\n",
       "    <tr>\n",
       "      <th>motorist_killed</th>\n",
       "      <td>0</td>\n",
       "      <td>0.000000</td>\n",
       "    </tr>\n",
       "    <tr>\n",
       "      <th>total_killed</th>\n",
       "      <td>5</td>\n",
       "      <td>0.008641</td>\n",
       "    </tr>\n",
       "    <tr>\n",
       "      <th>vehicle_1</th>\n",
       "      <td>355</td>\n",
       "      <td>0.613508</td>\n",
       "    </tr>\n",
       "    <tr>\n",
       "      <th>vehicle_2</th>\n",
       "      <td>12262</td>\n",
       "      <td>21.191069</td>\n",
       "    </tr>\n",
       "    <tr>\n",
       "      <th>vehicle_3</th>\n",
       "      <td>54352</td>\n",
       "      <td>93.930596</td>\n",
       "    </tr>\n",
       "    <tr>\n",
       "      <th>vehicle_4</th>\n",
       "      <td>57158</td>\n",
       "      <td>98.779898</td>\n",
       "    </tr>\n",
       "    <tr>\n",
       "      <th>vehicle_5</th>\n",
       "      <td>57681</td>\n",
       "      <td>99.683741</td>\n",
       "    </tr>\n",
       "    <tr>\n",
       "      <th>cause_vehicle_1</th>\n",
       "      <td>175</td>\n",
       "      <td>0.302433</td>\n",
       "    </tr>\n",
       "    <tr>\n",
       "      <th>cause_vehicle_2</th>\n",
       "      <td>8692</td>\n",
       "      <td>15.021430</td>\n",
       "    </tr>\n",
       "    <tr>\n",
       "      <th>cause_vehicle_3</th>\n",
       "      <td>54134</td>\n",
       "      <td>93.553850</td>\n",
       "    </tr>\n",
       "    <tr>\n",
       "      <th>cause_vehicle_4</th>\n",
       "      <td>57111</td>\n",
       "      <td>98.698673</td>\n",
       "    </tr>\n",
       "    <tr>\n",
       "      <th>cause_vehicle_5</th>\n",
       "      <td>57671</td>\n",
       "      <td>99.666459</td>\n",
       "    </tr>\n",
       "  </tbody>\n",
       "</table>\n",
       "</div>"
      ],
      "text/plain": [
       "                     null_values   per_null\n",
       "unique_key                     0   0.000000\n",
       "date                           0   0.000000\n",
       "time                           0   0.000000\n",
       "borough                    20646  35.680216\n",
       "location                    3885   6.714019\n",
       "on_street                  13961  24.127264\n",
       "cross_street               29249  50.547836\n",
       "off_street                 44093  76.201092\n",
       "pedestrians_injured            0   0.000000\n",
       "cyclist_injured                0   0.000000\n",
       "motorist_injured               0   0.000000\n",
       "total_injured                  1   0.001728\n",
       "pedestrians_killed             0   0.000000\n",
       "cyclist_killed                 0   0.000000\n",
       "motorist_killed                0   0.000000\n",
       "total_killed                   5   0.008641\n",
       "vehicle_1                    355   0.613508\n",
       "vehicle_2                  12262  21.191069\n",
       "vehicle_3                  54352  93.930596\n",
       "vehicle_4                  57158  98.779898\n",
       "vehicle_5                  57681  99.683741\n",
       "cause_vehicle_1              175   0.302433\n",
       "cause_vehicle_2             8692  15.021430\n",
       "cause_vehicle_3            54134  93.553850\n",
       "cause_vehicle_4            57111  98.698673\n",
       "cause_vehicle_5            57671  99.666459"
      ]
     },
     "execution_count": 413,
     "metadata": {},
     "output_type": "execute_result"
    }
   ],
   "source": [
    "null_df"
   ]
  },
  {
   "cell_type": "code",
   "execution_count": 418,
   "metadata": {},
   "outputs": [
    {
     "data": {
      "text/html": [
       "<div>\n",
       "<style scoped>\n",
       "    .dataframe tbody tr th:only-of-type {\n",
       "        vertical-align: middle;\n",
       "    }\n",
       "\n",
       "    .dataframe tbody tr th {\n",
       "        vertical-align: top;\n",
       "    }\n",
       "\n",
       "    .dataframe thead th {\n",
       "        text-align: right;\n",
       "    }\n",
       "</style>\n",
       "<table border=\"1\" class=\"dataframe\">\n",
       "  <thead>\n",
       "    <tr style=\"text-align: right;\">\n",
       "      <th></th>\n",
       "      <th>unique_key</th>\n",
       "      <th>date</th>\n",
       "      <th>time</th>\n",
       "      <th>borough</th>\n",
       "      <th>location</th>\n",
       "      <th>on_street</th>\n",
       "      <th>cross_street</th>\n",
       "      <th>off_street</th>\n",
       "      <th>pedestrians_injured</th>\n",
       "      <th>cyclist_injured</th>\n",
       "      <th>...</th>\n",
       "      <th>vehicle_1</th>\n",
       "      <th>vehicle_2</th>\n",
       "      <th>vehicle_3</th>\n",
       "      <th>vehicle_4</th>\n",
       "      <th>vehicle_5</th>\n",
       "      <th>cause_vehicle_1</th>\n",
       "      <th>cause_vehicle_2</th>\n",
       "      <th>cause_vehicle_3</th>\n",
       "      <th>cause_vehicle_4</th>\n",
       "      <th>cause_vehicle_5</th>\n",
       "    </tr>\n",
       "  </thead>\n",
       "  <tbody>\n",
       "    <tr>\n",
       "      <th>null_values</th>\n",
       "      <td>0</td>\n",
       "      <td>0</td>\n",
       "      <td>0</td>\n",
       "      <td>20646</td>\n",
       "      <td>3885</td>\n",
       "      <td>13961</td>\n",
       "      <td>29249</td>\n",
       "      <td>44093</td>\n",
       "      <td>0</td>\n",
       "      <td>0</td>\n",
       "      <td>...</td>\n",
       "      <td>355</td>\n",
       "      <td>12262</td>\n",
       "      <td>54352</td>\n",
       "      <td>57158</td>\n",
       "      <td>57681</td>\n",
       "      <td>175</td>\n",
       "      <td>8692</td>\n",
       "      <td>54134</td>\n",
       "      <td>57111</td>\n",
       "      <td>57671</td>\n",
       "    </tr>\n",
       "    <tr>\n",
       "      <th>per_null</th>\n",
       "      <td>0</td>\n",
       "      <td>0</td>\n",
       "      <td>0</td>\n",
       "      <td>35</td>\n",
       "      <td>6</td>\n",
       "      <td>24</td>\n",
       "      <td>50</td>\n",
       "      <td>76</td>\n",
       "      <td>0</td>\n",
       "      <td>0</td>\n",
       "      <td>...</td>\n",
       "      <td>0</td>\n",
       "      <td>21</td>\n",
       "      <td>93</td>\n",
       "      <td>98</td>\n",
       "      <td>99</td>\n",
       "      <td>0</td>\n",
       "      <td>15</td>\n",
       "      <td>93</td>\n",
       "      <td>98</td>\n",
       "      <td>99</td>\n",
       "    </tr>\n",
       "  </tbody>\n",
       "</table>\n",
       "<p>2 rows × 26 columns</p>\n",
       "</div>"
      ],
      "text/plain": [
       "             unique_key  date  time  borough  location  on_street  \\\n",
       "null_values           0     0     0    20646      3885      13961   \n",
       "per_null              0     0     0       35         6         24   \n",
       "\n",
       "             cross_street  off_street  pedestrians_injured  cyclist_injured  \\\n",
       "null_values         29249       44093                    0                0   \n",
       "per_null               50          76                    0                0   \n",
       "\n",
       "             ...  vehicle_1  vehicle_2  vehicle_3  vehicle_4  vehicle_5  \\\n",
       "null_values  ...        355      12262      54352      57158      57681   \n",
       "per_null     ...          0         21         93         98         99   \n",
       "\n",
       "             cause_vehicle_1  cause_vehicle_2  cause_vehicle_3  \\\n",
       "null_values              175             8692            54134   \n",
       "per_null                   0               15               93   \n",
       "\n",
       "             cause_vehicle_4  cause_vehicle_5  \n",
       "null_values            57111            57671  \n",
       "per_null                  98               99  \n",
       "\n",
       "[2 rows x 26 columns]"
      ]
     },
     "execution_count": 418,
     "metadata": {},
     "output_type": "execute_result"
    }
   ],
   "source": [
    "# transposing the null_df to view flat columns\n",
    "null_df = null_df.T.astype(int)\n",
    "null_df"
   ]
  },
  {
   "cell_type": "code",
   "execution_count": 420,
   "metadata": {},
   "outputs": [
    {
     "data": {
      "text/html": [
       "<div>\n",
       "<style scoped>\n",
       "    .dataframe tbody tr th:only-of-type {\n",
       "        vertical-align: middle;\n",
       "    }\n",
       "\n",
       "    .dataframe tbody tr th {\n",
       "        vertical-align: top;\n",
       "    }\n",
       "\n",
       "    .dataframe thead th {\n",
       "        text-align: right;\n",
       "    }\n",
       "</style>\n",
       "<table border=\"1\" class=\"dataframe\">\n",
       "  <thead>\n",
       "    <tr style=\"text-align: right;\">\n",
       "      <th></th>\n",
       "      <th>pedestrians_killed</th>\n",
       "      <th>cyclist_killed</th>\n",
       "      <th>motorist_killed</th>\n",
       "      <th>total_killed</th>\n",
       "    </tr>\n",
       "  </thead>\n",
       "  <tbody>\n",
       "    <tr>\n",
       "      <th>null_values</th>\n",
       "      <td>0</td>\n",
       "      <td>0</td>\n",
       "      <td>0</td>\n",
       "      <td>5</td>\n",
       "    </tr>\n",
       "    <tr>\n",
       "      <th>per_null</th>\n",
       "      <td>0</td>\n",
       "      <td>0</td>\n",
       "      <td>0</td>\n",
       "      <td>0</td>\n",
       "    </tr>\n",
       "  </tbody>\n",
       "</table>\n",
       "</div>"
      ],
      "text/plain": [
       "             pedestrians_killed  cyclist_killed  motorist_killed  total_killed\n",
       "null_values                   0               0                0             5\n",
       "per_null                      0               0                0             0"
      ]
     },
     "execution_count": 420,
     "metadata": {},
     "output_type": "execute_result"
    }
   ],
   "source": [
    "# looking at null data for columns with anyone killed\n",
    "# we can deduce that the 5 nulls in total killed should be the sum of the other columns\n",
    "killed_cols = [col for col in mvc.columns if 'killed' in col]\n",
    "null_df[killed_cols]"
   ]
  },
  {
   "cell_type": "code",
   "execution_count": 421,
   "metadata": {},
   "outputs": [],
   "source": [
    "# creating a manual total column to see if we can fll in our data \n",
    "# we use list comprehension to loop through mvc.columns and extract any column with 'killed'\n",
    "killed_cols = [col for col in mvc.columns if 'killed' in col]\n",
    "killed = mvc[killed_cols].copy()"
   ]
  },
  {
   "cell_type": "code",
   "execution_count": 448,
   "metadata": {},
   "outputs": [
    {
     "data": {
      "text/plain": [
       "['pedestrians_killed', 'cyclist_killed', 'motorist_killed']"
      ]
     },
     "execution_count": 448,
     "metadata": {},
     "output_type": "execute_result"
    }
   ],
   "source": [
    "# slicing killed_cols to exlcude the total_killed\n",
    "killed_cols[:3]"
   ]
  },
  {
   "cell_type": "code",
   "execution_count": 453,
   "metadata": {},
   "outputs": [],
   "source": [
    "#killed[:2]"
   ]
  },
  {
   "cell_type": "code",
   "execution_count": 454,
   "metadata": {},
   "outputs": [],
   "source": [
    "# selecting three columns to create a manual sum of the three\n",
    "killed_manual_sum = killed[killed_cols[:3]].sum(axis=1)"
   ]
  },
  {
   "cell_type": "code",
   "execution_count": 455,
   "metadata": {},
   "outputs": [
    {
     "data": {
      "text/plain": [
       "2190    1\n",
       "dtype: int64"
      ]
     },
     "execution_count": 455,
     "metadata": {},
     "output_type": "execute_result"
    }
   ],
   "source": [
    "# testing a row\n",
    "killed_manual_sum[2190:2191]"
   ]
  },
  {
   "cell_type": "code",
   "execution_count": 451,
   "metadata": {},
   "outputs": [],
   "source": [
    "# creating a boolean mask to compare to total_killed col vs our manual killed_manual_sum\n",
    "killed_mask = killed['total_killed'] != killed_manual_sum"
   ]
  },
  {
   "cell_type": "code",
   "execution_count": 452,
   "metadata": {},
   "outputs": [
    {
     "data": {
      "text/html": [
       "<div>\n",
       "<style scoped>\n",
       "    .dataframe tbody tr th:only-of-type {\n",
       "        vertical-align: middle;\n",
       "    }\n",
       "\n",
       "    .dataframe tbody tr th {\n",
       "        vertical-align: top;\n",
       "    }\n",
       "\n",
       "    .dataframe thead th {\n",
       "        text-align: right;\n",
       "    }\n",
       "</style>\n",
       "<table border=\"1\" class=\"dataframe\">\n",
       "  <thead>\n",
       "    <tr style=\"text-align: right;\">\n",
       "      <th></th>\n",
       "      <th>pedestrians_killed</th>\n",
       "      <th>cyclist_killed</th>\n",
       "      <th>motorist_killed</th>\n",
       "      <th>total_killed</th>\n",
       "    </tr>\n",
       "  </thead>\n",
       "  <tbody>\n",
       "    <tr>\n",
       "      <th>3508</th>\n",
       "      <td>0</td>\n",
       "      <td>0</td>\n",
       "      <td>0</td>\n",
       "      <td>NaN</td>\n",
       "    </tr>\n",
       "    <tr>\n",
       "      <th>20163</th>\n",
       "      <td>0</td>\n",
       "      <td>0</td>\n",
       "      <td>0</td>\n",
       "      <td>NaN</td>\n",
       "    </tr>\n",
       "    <tr>\n",
       "      <th>22046</th>\n",
       "      <td>0</td>\n",
       "      <td>0</td>\n",
       "      <td>1</td>\n",
       "      <td>0.0</td>\n",
       "    </tr>\n",
       "    <tr>\n",
       "      <th>48719</th>\n",
       "      <td>0</td>\n",
       "      <td>0</td>\n",
       "      <td>0</td>\n",
       "      <td>NaN</td>\n",
       "    </tr>\n",
       "    <tr>\n",
       "      <th>55148</th>\n",
       "      <td>0</td>\n",
       "      <td>0</td>\n",
       "      <td>0</td>\n",
       "      <td>NaN</td>\n",
       "    </tr>\n",
       "    <tr>\n",
       "      <th>55699</th>\n",
       "      <td>0</td>\n",
       "      <td>0</td>\n",
       "      <td>0</td>\n",
       "      <td>NaN</td>\n",
       "    </tr>\n",
       "  </tbody>\n",
       "</table>\n",
       "</div>"
      ],
      "text/plain": [
       "       pedestrians_killed  cyclist_killed  motorist_killed  total_killed\n",
       "3508                    0               0                0           NaN\n",
       "20163                   0               0                0           NaN\n",
       "22046                   0               0                1           0.0\n",
       "48719                   0               0                0           NaN\n",
       "55148                   0               0                0           NaN\n",
       "55699                   0               0                0           NaN"
      ]
     },
     "execution_count": 452,
     "metadata": {},
     "output_type": "execute_result"
    }
   ],
   "source": [
    "# applying the mask to see which records don't match\n",
    "killed_non_eq = killed[killed_mask]\n",
    "killed_non_eq"
   ]
  },
  {
   "cell_type": "markdown",
   "metadata": {},
   "source": [
    "# serires.mask()\n",
    "\n",
    "useful when you want to replace certain values in a series based off a boolean mask\n",
    "\n",
    "syntax:\n",
    "\n",
    "series.mask(bool_mask, val_to_replace)\n",
    "\n",
    "we can also update with the matching value from a series that has identical index label"
   ]
  },
  {
   "cell_type": "code",
   "execution_count": 456,
   "metadata": {},
   "outputs": [],
   "source": [
    "# cleaning the rows that don't match using series.mask()\n",
    "killed_null = killed['total_killed'].isnull()\n",
    "killed['total_killed'] = killed['total_killed'].mask(killed_null, killed_manual_sum)"
   ]
  },
  {
   "cell_type": "code",
   "execution_count": 457,
   "metadata": {},
   "outputs": [],
   "source": [
    "# cleaning the row where the sum doesn't match and replacing it with a null\n",
    "killed['total_killed'] = killed['total_killed'].mask(killed['total_killed'] != killed_manual_sum, np.nan)"
   ]
  },
  {
   "cell_type": "code",
   "execution_count": 458,
   "metadata": {},
   "outputs": [
    {
     "data": {
      "text/html": [
       "<div>\n",
       "<style scoped>\n",
       "    .dataframe tbody tr th:only-of-type {\n",
       "        vertical-align: middle;\n",
       "    }\n",
       "\n",
       "    .dataframe tbody tr th {\n",
       "        vertical-align: top;\n",
       "    }\n",
       "\n",
       "    .dataframe thead th {\n",
       "        text-align: right;\n",
       "    }\n",
       "</style>\n",
       "<table border=\"1\" class=\"dataframe\">\n",
       "  <thead>\n",
       "    <tr style=\"text-align: right;\">\n",
       "      <th></th>\n",
       "      <th>pedestrians_killed</th>\n",
       "      <th>cyclist_killed</th>\n",
       "      <th>motorist_killed</th>\n",
       "      <th>total_killed</th>\n",
       "    </tr>\n",
       "  </thead>\n",
       "  <tbody>\n",
       "    <tr>\n",
       "      <th>3508</th>\n",
       "      <td>0</td>\n",
       "      <td>0</td>\n",
       "      <td>0</td>\n",
       "      <td>0.0</td>\n",
       "    </tr>\n",
       "    <tr>\n",
       "      <th>20163</th>\n",
       "      <td>0</td>\n",
       "      <td>0</td>\n",
       "      <td>0</td>\n",
       "      <td>0.0</td>\n",
       "    </tr>\n",
       "    <tr>\n",
       "      <th>22046</th>\n",
       "      <td>0</td>\n",
       "      <td>0</td>\n",
       "      <td>1</td>\n",
       "      <td>NaN</td>\n",
       "    </tr>\n",
       "    <tr>\n",
       "      <th>48719</th>\n",
       "      <td>0</td>\n",
       "      <td>0</td>\n",
       "      <td>0</td>\n",
       "      <td>0.0</td>\n",
       "    </tr>\n",
       "    <tr>\n",
       "      <th>55148</th>\n",
       "      <td>0</td>\n",
       "      <td>0</td>\n",
       "      <td>0</td>\n",
       "      <td>0.0</td>\n",
       "    </tr>\n",
       "    <tr>\n",
       "      <th>55699</th>\n",
       "      <td>0</td>\n",
       "      <td>0</td>\n",
       "      <td>0</td>\n",
       "      <td>0.0</td>\n",
       "    </tr>\n",
       "  </tbody>\n",
       "</table>\n",
       "</div>"
      ],
      "text/plain": [
       "       pedestrians_killed  cyclist_killed  motorist_killed  total_killed\n",
       "3508                    0               0                0           0.0\n",
       "20163                   0               0                0           0.0\n",
       "22046                   0               0                1           NaN\n",
       "48719                   0               0                0           0.0\n",
       "55148                   0               0                0           0.0\n",
       "55699                   0               0                0           0.0"
      ]
     },
     "execution_count": 458,
     "metadata": {},
     "output_type": "execute_result"
    }
   ],
   "source": [
    "# the two transformations above show the updated data\n",
    "killed[killed_mask]"
   ]
  },
  {
   "cell_type": "code",
   "execution_count": 472,
   "metadata": {},
   "outputs": [],
   "source": [
    "# we'll now do the same for the injured columns\n",
    "injured_col = [col for col in mvc.columns if 'injured' in col]\n",
    "injured = injured[injured_col]"
   ]
  },
  {
   "cell_type": "code",
   "execution_count": 476,
   "metadata": {},
   "outputs": [],
   "source": [
    "# creating a manual sum\n",
    "injured_manual_sum = injured[injured_col[:3]].sum(axis=1)"
   ]
  },
  {
   "cell_type": "code",
   "execution_count": 481,
   "metadata": {},
   "outputs": [
    {
     "data": {
      "text/html": [
       "<div>\n",
       "<style scoped>\n",
       "    .dataframe tbody tr th:only-of-type {\n",
       "        vertical-align: middle;\n",
       "    }\n",
       "\n",
       "    .dataframe tbody tr th {\n",
       "        vertical-align: top;\n",
       "    }\n",
       "\n",
       "    .dataframe thead th {\n",
       "        text-align: right;\n",
       "    }\n",
       "</style>\n",
       "<table border=\"1\" class=\"dataframe\">\n",
       "  <thead>\n",
       "    <tr style=\"text-align: right;\">\n",
       "      <th></th>\n",
       "      <th>pedestrians_injured</th>\n",
       "      <th>cyclist_injured</th>\n",
       "      <th>motorist_injured</th>\n",
       "      <th>total_injured</th>\n",
       "    </tr>\n",
       "  </thead>\n",
       "  <tbody>\n",
       "  </tbody>\n",
       "</table>\n",
       "</div>"
      ],
      "text/plain": [
       "Empty DataFrame\n",
       "Columns: [pedestrians_injured, cyclist_injured, motorist_injured, total_injured]\n",
       "Index: []"
      ]
     },
     "execution_count": 481,
     "metadata": {},
     "output_type": "execute_result"
    }
   ],
   "source": [
    "injured_mask = injured['total_injured'] != injured_manual_sum\n",
    "injured[injured_mask]"
   ]
  },
  {
   "cell_type": "code",
   "execution_count": 477,
   "metadata": {},
   "outputs": [
    {
     "data": {
      "text/plain": [
       "0    0\n",
       "1    0\n",
       "2    1\n",
       "dtype: int64"
      ]
     },
     "execution_count": 477,
     "metadata": {},
     "output_type": "execute_result"
    }
   ],
   "source": [
    "injured.head()\n",
    "injured_manual_sum[:3]"
   ]
  },
  {
   "cell_type": "code",
   "execution_count": 467,
   "metadata": {},
   "outputs": [
    {
     "data": {
      "text/html": [
       "<div>\n",
       "<style scoped>\n",
       "    .dataframe tbody tr th:only-of-type {\n",
       "        vertical-align: middle;\n",
       "    }\n",
       "\n",
       "    .dataframe tbody tr th {\n",
       "        vertical-align: top;\n",
       "    }\n",
       "\n",
       "    .dataframe thead th {\n",
       "        text-align: right;\n",
       "    }\n",
       "</style>\n",
       "<table border=\"1\" class=\"dataframe\">\n",
       "  <thead>\n",
       "    <tr style=\"text-align: right;\">\n",
       "      <th></th>\n",
       "      <th>pedestrians_injured</th>\n",
       "      <th>cyclist_injured</th>\n",
       "      <th>motorist_injured</th>\n",
       "      <th>total_injured</th>\n",
       "    </tr>\n",
       "  </thead>\n",
       "  <tbody>\n",
       "    <tr>\n",
       "      <th>0</th>\n",
       "      <td>0</td>\n",
       "      <td>0</td>\n",
       "      <td>0</td>\n",
       "      <td>0.0</td>\n",
       "    </tr>\n",
       "    <tr>\n",
       "      <th>1</th>\n",
       "      <td>0</td>\n",
       "      <td>0</td>\n",
       "      <td>0</td>\n",
       "      <td>0.0</td>\n",
       "    </tr>\n",
       "    <tr>\n",
       "      <th>2</th>\n",
       "      <td>0</td>\n",
       "      <td>0</td>\n",
       "      <td>1</td>\n",
       "      <td>1.0</td>\n",
       "    </tr>\n",
       "  </tbody>\n",
       "</table>\n",
       "</div>"
      ],
      "text/plain": [
       "   pedestrians_injured  cyclist_injured  motorist_injured  total_injured\n",
       "0                    0                0                 0            0.0\n",
       "1                    0                0                 0            0.0\n",
       "2                    0                0                 1            1.0"
      ]
     },
     "execution_count": 467,
     "metadata": {},
     "output_type": "execute_result"
    }
   ],
   "source": [
    "injured.head(3)"
   ]
  },
  {
   "cell_type": "code",
   "execution_count": 480,
   "metadata": {},
   "outputs": [],
   "source": [
    "# replacing null and values that don't match\n",
    "\n",
    "injured['total_injured'] = injured['total_injured'].mask(injured['total_injured'].isnull(), injured_manual_sum)\n",
    "injured['total_injured'] = injured['total_injured'].mask(injured['total_injured'] != injured_manual_sum, np.nan)"
   ]
  },
  {
   "cell_type": "markdown",
   "metadata": {},
   "source": [
    "# Assigning the Corrected Data Back to the Main Dataframe"
   ]
  },
  {
   "cell_type": "code",
   "execution_count": 482,
   "metadata": {},
   "outputs": [],
   "source": [
    "# comparing the new data to the old data\n",
    "\n",
    "summary = {\n",
    "    'injured': [\n",
    "        mvc['total_injured'].isnull().sum(),\n",
    "        injured['total_injured'].isnull().sum()\n",
    "    ],\n",
    "    'killed': [\n",
    "        mvc['total_killed'].isnull().sum(),\n",
    "        killed['total_killed'].isnull().sum()\n",
    "    ]\n",
    "}"
   ]
  },
  {
   "cell_type": "code",
   "execution_count": 483,
   "metadata": {},
   "outputs": [
    {
     "data": {
      "text/plain": [
       "{'injured': [1, 0], 'killed': [5, 1]}"
      ]
     },
     "execution_count": 483,
     "metadata": {},
     "output_type": "execute_result"
    }
   ],
   "source": [
    "summary"
   ]
  },
  {
   "cell_type": "code",
   "execution_count": 484,
   "metadata": {},
   "outputs": [
    {
     "data": {
      "text/html": [
       "<div>\n",
       "<style scoped>\n",
       "    .dataframe tbody tr th:only-of-type {\n",
       "        vertical-align: middle;\n",
       "    }\n",
       "\n",
       "    .dataframe tbody tr th {\n",
       "        vertical-align: top;\n",
       "    }\n",
       "\n",
       "    .dataframe thead th {\n",
       "        text-align: right;\n",
       "    }\n",
       "</style>\n",
       "<table border=\"1\" class=\"dataframe\">\n",
       "  <thead>\n",
       "    <tr style=\"text-align: right;\">\n",
       "      <th></th>\n",
       "      <th>injured</th>\n",
       "      <th>killed</th>\n",
       "    </tr>\n",
       "  </thead>\n",
       "  <tbody>\n",
       "    <tr>\n",
       "      <th>before</th>\n",
       "      <td>1</td>\n",
       "      <td>5</td>\n",
       "    </tr>\n",
       "    <tr>\n",
       "      <th>after</th>\n",
       "      <td>0</td>\n",
       "      <td>1</td>\n",
       "    </tr>\n",
       "  </tbody>\n",
       "</table>\n",
       "</div>"
      ],
      "text/plain": [
       "        injured  killed\n",
       "before        1       5\n",
       "after         0       1"
      ]
     },
     "execution_count": 484,
     "metadata": {},
     "output_type": "execute_result"
    }
   ],
   "source": [
    "pd.DataFrame(summary, index=['before','after'])"
   ]
  },
  {
   "cell_type": "code",
   "execution_count": 486,
   "metadata": {},
   "outputs": [],
   "source": [
    "# assigning the corrected data to the original dataframe\n",
    "mvc['total_injured'] = injured['total_injured']\n",
    "mvc['total_killed'] = killed['total_killed']"
   ]
  },
  {
   "cell_type": "markdown",
   "metadata": {},
   "source": [
    "# Plotting missing values"
   ]
  },
  {
   "cell_type": "code",
   "execution_count": 494,
   "metadata": {},
   "outputs": [],
   "source": [
    "# this plots missing values asdark areas\n",
    "def plot_null_matrix(df, figsize=(18,15)):\n",
    "    # initiate the figure\n",
    "    plt.figure(figsize=figsize)\n",
    "    # create a boolean dataframe based on whether values are null\n",
    "    df_null = df.isnull()\n",
    "    # create a heatmap of the boolean dataframe\n",
    "    sns.heatmap(~df_null, cbar=False, yticklabels=False)\n",
    "    plt.xticks(rotation=90, size='x-large')\n",
    "    plt.show()"
   ]
  },
  {
   "cell_type": "code",
   "execution_count": 495,
   "metadata": {},
   "outputs": [
    {
     "data": {
      "image/png": "[encoded data removed]",
      "text/plain": [
       "<Figure size 1296x72 with 1 Axes>"
      ]
     },
     "metadata": {
      "needs_background": "light"
     },
     "output_type": "display_data"
    }
   ],
   "source": [
    "plot_null_matrix(mvc.head(1), figsize=(18,1))"
   ]
  },
  {
   "cell_type": "code",
   "execution_count": 496,
   "metadata": {},
   "outputs": [
    {
     "data": {
      "text/html": [
       "<div>\n",
       "<style scoped>\n",
       "    .dataframe tbody tr th:only-of-type {\n",
       "        vertical-align: middle;\n",
       "    }\n",
       "\n",
       "    .dataframe tbody tr th {\n",
       "        vertical-align: top;\n",
       "    }\n",
       "\n",
       "    .dataframe thead th {\n",
       "        text-align: right;\n",
       "    }\n",
       "</style>\n",
       "<table border=\"1\" class=\"dataframe\">\n",
       "  <thead>\n",
       "    <tr style=\"text-align: right;\">\n",
       "      <th></th>\n",
       "      <th>unique_key</th>\n",
       "      <th>date</th>\n",
       "      <th>time</th>\n",
       "      <th>borough</th>\n",
       "      <th>location</th>\n",
       "      <th>on_street</th>\n",
       "      <th>cross_street</th>\n",
       "      <th>off_street</th>\n",
       "      <th>pedestrians_injured</th>\n",
       "      <th>cyclist_injured</th>\n",
       "      <th>...</th>\n",
       "      <th>vehicle_1</th>\n",
       "      <th>vehicle_2</th>\n",
       "      <th>vehicle_3</th>\n",
       "      <th>vehicle_4</th>\n",
       "      <th>vehicle_5</th>\n",
       "      <th>cause_vehicle_1</th>\n",
       "      <th>cause_vehicle_2</th>\n",
       "      <th>cause_vehicle_3</th>\n",
       "      <th>cause_vehicle_4</th>\n",
       "      <th>cause_vehicle_5</th>\n",
       "    </tr>\n",
       "  </thead>\n",
       "  <tbody>\n",
       "    <tr>\n",
       "      <th>0</th>\n",
       "      <td>3869058</td>\n",
       "      <td>2018-03-23</td>\n",
       "      <td>21:40</td>\n",
       "      <td>MANHATTAN</td>\n",
       "      <td>(40.742832, -74.00771)</td>\n",
       "      <td>WEST 15 STREET</td>\n",
       "      <td>10 AVENUE</td>\n",
       "      <td>NaN</td>\n",
       "      <td>0</td>\n",
       "      <td>0</td>\n",
       "      <td>...</td>\n",
       "      <td>PASSENGER VEHICLE</td>\n",
       "      <td>NaN</td>\n",
       "      <td>NaN</td>\n",
       "      <td>NaN</td>\n",
       "      <td>NaN</td>\n",
       "      <td>Following Too Closely</td>\n",
       "      <td>Unspecified</td>\n",
       "      <td>NaN</td>\n",
       "      <td>NaN</td>\n",
       "      <td>NaN</td>\n",
       "    </tr>\n",
       "  </tbody>\n",
       "</table>\n",
       "<p>1 rows × 26 columns</p>\n",
       "</div>"
      ],
      "text/plain": [
       "   unique_key        date   time    borough                location  \\\n",
       "0     3869058  2018-03-23  21:40  MANHATTAN  (40.742832, -74.00771)   \n",
       "\n",
       "                          on_street cross_street off_street  \\\n",
       "0  WEST 15 STREET                      10 AVENUE        NaN   \n",
       "\n",
       "   pedestrians_injured  cyclist_injured  ...          vehicle_1  vehicle_2  \\\n",
       "0                    0                0  ...  PASSENGER VEHICLE        NaN   \n",
       "\n",
       "   vehicle_3  vehicle_4  vehicle_5        cause_vehicle_1 cause_vehicle_2  \\\n",
       "0        NaN        NaN        NaN  Following Too Closely     Unspecified   \n",
       "\n",
       "  cause_vehicle_3 cause_vehicle_4 cause_vehicle_5  \n",
       "0             NaN             NaN             NaN  \n",
       "\n",
       "[1 rows x 26 columns]"
      ]
     },
     "execution_count": 496,
     "metadata": {},
     "output_type": "execute_result"
    }
   ],
   "source": [
    "mvc.head(1)"
   ]
  },
  {
   "cell_type": "code",
   "execution_count": 498,
   "metadata": {},
   "outputs": [
    {
     "data": {
      "image/png": "[encoded data removed]",
      "text/plain": [
       "<Figure size 1296x1080 with 1 Axes>"
      ]
     },
     "metadata": {
      "needs_background": "light"
     },
     "output_type": "display_data"
    }
   ],
   "source": [
    "# plotting the entire dataframe we can see some common missing values\n",
    "plot_null_matrix(mvc)"
   ]
  },
  {
   "cell_type": "code",
   "execution_count": 500,
   "metadata": {},
   "outputs": [
    {
     "data": {
      "text/html": [
       "<div>\n",
       "<style scoped>\n",
       "    .dataframe tbody tr th:only-of-type {\n",
       "        vertical-align: middle;\n",
       "    }\n",
       "\n",
       "    .dataframe tbody tr th {\n",
       "        vertical-align: top;\n",
       "    }\n",
       "\n",
       "    .dataframe thead th {\n",
       "        text-align: right;\n",
       "    }\n",
       "</style>\n",
       "<table border=\"1\" class=\"dataframe\">\n",
       "  <thead>\n",
       "    <tr style=\"text-align: right;\">\n",
       "      <th></th>\n",
       "      <th>borough</th>\n",
       "      <th>location</th>\n",
       "      <th>on_street</th>\n",
       "      <th>cross_street</th>\n",
       "      <th>off_street</th>\n",
       "      <th>total_killed</th>\n",
       "      <th>vehicle_1</th>\n",
       "      <th>vehicle_2</th>\n",
       "      <th>vehicle_3</th>\n",
       "      <th>vehicle_4</th>\n",
       "      <th>vehicle_5</th>\n",
       "      <th>cause_vehicle_1</th>\n",
       "      <th>cause_vehicle_2</th>\n",
       "      <th>cause_vehicle_3</th>\n",
       "      <th>cause_vehicle_4</th>\n",
       "      <th>cause_vehicle_5</th>\n",
       "    </tr>\n",
       "  </thead>\n",
       "  <tbody>\n",
       "    <tr>\n",
       "      <th>borough</th>\n",
       "      <td>1.000000</td>\n",
       "      <td>0.190105</td>\n",
       "      <td>-0.350190</td>\n",
       "      <td>0.409107</td>\n",
       "      <td>0.362189</td>\n",
       "      <td>0.005582</td>\n",
       "      <td>-0.018325</td>\n",
       "      <td>-0.077516</td>\n",
       "      <td>-0.061932</td>\n",
       "      <td>-0.020406</td>\n",
       "      <td>-0.010733</td>\n",
       "      <td>-0.012115</td>\n",
       "      <td>-0.058596</td>\n",
       "      <td>-0.060542</td>\n",
       "      <td>-0.020158</td>\n",
       "      <td>-0.011348</td>\n",
       "    </tr>\n",
       "    <tr>\n",
       "      <th>location</th>\n",
       "      <td>0.190105</td>\n",
       "      <td>1.000000</td>\n",
       "      <td>-0.073975</td>\n",
       "      <td>-0.069719</td>\n",
       "      <td>0.084579</td>\n",
       "      <td>0.015496</td>\n",
       "      <td>-0.010466</td>\n",
       "      <td>-0.033842</td>\n",
       "      <td>-0.000927</td>\n",
       "      <td>0.004655</td>\n",
       "      <td>-0.005797</td>\n",
       "      <td>-0.003458</td>\n",
       "      <td>-0.021373</td>\n",
       "      <td>0.000684</td>\n",
       "      <td>0.004604</td>\n",
       "      <td>-0.004841</td>\n",
       "    </tr>\n",
       "    <tr>\n",
       "      <th>on_street</th>\n",
       "      <td>-0.350190</td>\n",
       "      <td>-0.073975</td>\n",
       "      <td>1.000000</td>\n",
       "      <td>0.557767</td>\n",
       "      <td>-0.991030</td>\n",
       "      <td>-0.002344</td>\n",
       "      <td>-0.001889</td>\n",
       "      <td>0.119647</td>\n",
       "      <td>0.020867</td>\n",
       "      <td>0.004172</td>\n",
       "      <td>-0.002768</td>\n",
       "      <td>0.001307</td>\n",
       "      <td>0.087374</td>\n",
       "      <td>0.017426</td>\n",
       "      <td>0.002737</td>\n",
       "      <td>-0.003107</td>\n",
       "    </tr>\n",
       "    <tr>\n",
       "      <th>cross_street</th>\n",
       "      <td>0.409107</td>\n",
       "      <td>-0.069719</td>\n",
       "      <td>0.557767</td>\n",
       "      <td>1.000000</td>\n",
       "      <td>-0.552763</td>\n",
       "      <td>0.004112</td>\n",
       "      <td>-0.017018</td>\n",
       "      <td>0.043799</td>\n",
       "      <td>-0.049910</td>\n",
       "      <td>-0.021137</td>\n",
       "      <td>-0.012003</td>\n",
       "      <td>-0.009102</td>\n",
       "      <td>0.031189</td>\n",
       "      <td>-0.052159</td>\n",
       "      <td>-0.022074</td>\n",
       "      <td>-0.013455</td>\n",
       "    </tr>\n",
       "    <tr>\n",
       "      <th>off_street</th>\n",
       "      <td>0.362189</td>\n",
       "      <td>0.084579</td>\n",
       "      <td>-0.991030</td>\n",
       "      <td>-0.552763</td>\n",
       "      <td>1.000000</td>\n",
       "      <td>0.002323</td>\n",
       "      <td>0.001812</td>\n",
       "      <td>-0.121129</td>\n",
       "      <td>-0.022404</td>\n",
       "      <td>-0.004074</td>\n",
       "      <td>0.002492</td>\n",
       "      <td>-0.001738</td>\n",
       "      <td>-0.088187</td>\n",
       "      <td>-0.019120</td>\n",
       "      <td>-0.002580</td>\n",
       "      <td>0.002863</td>\n",
       "    </tr>\n",
       "    <tr>\n",
       "      <th>total_killed</th>\n",
       "      <td>0.005582</td>\n",
       "      <td>0.015496</td>\n",
       "      <td>-0.002344</td>\n",
       "      <td>0.004112</td>\n",
       "      <td>0.002323</td>\n",
       "      <td>1.000000</td>\n",
       "      <td>-0.000327</td>\n",
       "      <td>0.008017</td>\n",
       "      <td>0.001057</td>\n",
       "      <td>0.000462</td>\n",
       "      <td>0.000234</td>\n",
       "      <td>-0.000229</td>\n",
       "      <td>0.009888</td>\n",
       "      <td>0.001091</td>\n",
       "      <td>0.000477</td>\n",
       "      <td>0.000240</td>\n",
       "    </tr>\n",
       "    <tr>\n",
       "      <th>vehicle_1</th>\n",
       "      <td>-0.018325</td>\n",
       "      <td>-0.010466</td>\n",
       "      <td>-0.001889</td>\n",
       "      <td>-0.017018</td>\n",
       "      <td>0.001812</td>\n",
       "      <td>-0.000327</td>\n",
       "      <td>1.000000</td>\n",
       "      <td>0.151516</td>\n",
       "      <td>0.019972</td>\n",
       "      <td>0.008732</td>\n",
       "      <td>0.004425</td>\n",
       "      <td>0.604281</td>\n",
       "      <td>0.180678</td>\n",
       "      <td>0.020624</td>\n",
       "      <td>0.009022</td>\n",
       "      <td>0.004545</td>\n",
       "    </tr>\n",
       "    <tr>\n",
       "      <th>vehicle_2</th>\n",
       "      <td>-0.077516</td>\n",
       "      <td>-0.033842</td>\n",
       "      <td>0.119647</td>\n",
       "      <td>0.043799</td>\n",
       "      <td>-0.121129</td>\n",
       "      <td>0.008017</td>\n",
       "      <td>0.151516</td>\n",
       "      <td>1.000000</td>\n",
       "      <td>0.131813</td>\n",
       "      <td>0.057631</td>\n",
       "      <td>0.029208</td>\n",
       "      <td>0.106214</td>\n",
       "      <td>0.784402</td>\n",
       "      <td>0.132499</td>\n",
       "      <td>0.058050</td>\n",
       "      <td>0.029264</td>\n",
       "    </tr>\n",
       "    <tr>\n",
       "      <th>vehicle_3</th>\n",
       "      <td>-0.061932</td>\n",
       "      <td>-0.000927</td>\n",
       "      <td>0.020867</td>\n",
       "      <td>-0.049910</td>\n",
       "      <td>-0.022404</td>\n",
       "      <td>0.001057</td>\n",
       "      <td>0.019972</td>\n",
       "      <td>0.131813</td>\n",
       "      <td>1.000000</td>\n",
       "      <td>0.437214</td>\n",
       "      <td>0.221585</td>\n",
       "      <td>0.014000</td>\n",
       "      <td>0.106874</td>\n",
       "      <td>0.961316</td>\n",
       "      <td>0.448525</td>\n",
       "      <td>0.225067</td>\n",
       "    </tr>\n",
       "    <tr>\n",
       "      <th>vehicle_4</th>\n",
       "      <td>-0.020406</td>\n",
       "      <td>0.004655</td>\n",
       "      <td>0.004172</td>\n",
       "      <td>-0.021137</td>\n",
       "      <td>-0.004074</td>\n",
       "      <td>0.000462</td>\n",
       "      <td>0.008732</td>\n",
       "      <td>0.057631</td>\n",
       "      <td>0.437214</td>\n",
       "      <td>1.000000</td>\n",
       "      <td>0.506810</td>\n",
       "      <td>0.006121</td>\n",
       "      <td>0.046727</td>\n",
       "      <td>0.423394</td>\n",
       "      <td>0.963723</td>\n",
       "      <td>0.515058</td>\n",
       "    </tr>\n",
       "    <tr>\n",
       "      <th>vehicle_5</th>\n",
       "      <td>-0.010733</td>\n",
       "      <td>-0.005797</td>\n",
       "      <td>-0.002768</td>\n",
       "      <td>-0.012003</td>\n",
       "      <td>0.002492</td>\n",
       "      <td>0.000234</td>\n",
       "      <td>0.004425</td>\n",
       "      <td>0.029208</td>\n",
       "      <td>0.221585</td>\n",
       "      <td>0.506810</td>\n",
       "      <td>1.000000</td>\n",
       "      <td>0.003102</td>\n",
       "      <td>0.023682</td>\n",
       "      <td>0.214580</td>\n",
       "      <td>0.490537</td>\n",
       "      <td>0.973664</td>\n",
       "    </tr>\n",
       "    <tr>\n",
       "      <th>cause_vehicle_1</th>\n",
       "      <td>-0.012115</td>\n",
       "      <td>-0.003458</td>\n",
       "      <td>0.001307</td>\n",
       "      <td>-0.009102</td>\n",
       "      <td>-0.001738</td>\n",
       "      <td>-0.000229</td>\n",
       "      <td>0.604281</td>\n",
       "      <td>0.106214</td>\n",
       "      <td>0.014000</td>\n",
       "      <td>0.006121</td>\n",
       "      <td>0.003102</td>\n",
       "      <td>1.000000</td>\n",
       "      <td>0.131000</td>\n",
       "      <td>0.014457</td>\n",
       "      <td>0.006324</td>\n",
       "      <td>0.003186</td>\n",
       "    </tr>\n",
       "    <tr>\n",
       "      <th>cause_vehicle_2</th>\n",
       "      <td>-0.058596</td>\n",
       "      <td>-0.021373</td>\n",
       "      <td>0.087374</td>\n",
       "      <td>0.031189</td>\n",
       "      <td>-0.088187</td>\n",
       "      <td>0.009888</td>\n",
       "      <td>0.180678</td>\n",
       "      <td>0.784402</td>\n",
       "      <td>0.106874</td>\n",
       "      <td>0.046727</td>\n",
       "      <td>0.023682</td>\n",
       "      <td>0.131000</td>\n",
       "      <td>1.000000</td>\n",
       "      <td>0.110362</td>\n",
       "      <td>0.048277</td>\n",
       "      <td>0.024322</td>\n",
       "    </tr>\n",
       "    <tr>\n",
       "      <th>cause_vehicle_3</th>\n",
       "      <td>-0.060542</td>\n",
       "      <td>0.000684</td>\n",
       "      <td>0.017426</td>\n",
       "      <td>-0.052159</td>\n",
       "      <td>-0.019120</td>\n",
       "      <td>0.001091</td>\n",
       "      <td>0.020624</td>\n",
       "      <td>0.132499</td>\n",
       "      <td>0.961316</td>\n",
       "      <td>0.423394</td>\n",
       "      <td>0.214580</td>\n",
       "      <td>0.014457</td>\n",
       "      <td>0.110362</td>\n",
       "      <td>1.000000</td>\n",
       "      <td>0.437440</td>\n",
       "      <td>0.220384</td>\n",
       "    </tr>\n",
       "    <tr>\n",
       "      <th>cause_vehicle_4</th>\n",
       "      <td>-0.020158</td>\n",
       "      <td>0.004604</td>\n",
       "      <td>0.002737</td>\n",
       "      <td>-0.022074</td>\n",
       "      <td>-0.002580</td>\n",
       "      <td>0.000477</td>\n",
       "      <td>0.009022</td>\n",
       "      <td>0.058050</td>\n",
       "      <td>0.448525</td>\n",
       "      <td>0.963723</td>\n",
       "      <td>0.490537</td>\n",
       "      <td>0.006324</td>\n",
       "      <td>0.048277</td>\n",
       "      <td>0.437440</td>\n",
       "      <td>1.000000</td>\n",
       "      <td>0.503805</td>\n",
       "    </tr>\n",
       "    <tr>\n",
       "      <th>cause_vehicle_5</th>\n",
       "      <td>-0.011348</td>\n",
       "      <td>-0.004841</td>\n",
       "      <td>-0.003107</td>\n",
       "      <td>-0.013455</td>\n",
       "      <td>0.002863</td>\n",
       "      <td>0.000240</td>\n",
       "      <td>0.004545</td>\n",
       "      <td>0.029264</td>\n",
       "      <td>0.225067</td>\n",
       "      <td>0.515058</td>\n",
       "      <td>0.973664</td>\n",
       "      <td>0.003186</td>\n",
       "      <td>0.024322</td>\n",
       "      <td>0.220384</td>\n",
       "      <td>0.503805</td>\n",
       "      <td>1.000000</td>\n",
       "    </tr>\n",
       "  </tbody>\n",
       "</table>\n",
       "</div>"
      ],
      "text/plain": [
       "                  borough  location  on_street  cross_street  off_street  \\\n",
       "borough          1.000000  0.190105  -0.350190      0.409107    0.362189   \n",
       "location         0.190105  1.000000  -0.073975     -0.069719    0.084579   \n",
       "on_street       -0.350190 -0.073975   1.000000      0.557767   -0.991030   \n",
       "cross_street     0.409107 -0.069719   0.557767      1.000000   -0.552763   \n",
       "off_street       0.362189  0.084579  -0.991030     -0.552763    1.000000   \n",
       "total_killed     0.005582  0.015496  -0.002344      0.004112    0.002323   \n",
       "vehicle_1       -0.018325 -0.010466  -0.001889     -0.017018    0.001812   \n",
       "vehicle_2       -0.077516 -0.033842   0.119647      0.043799   -0.121129   \n",
       "vehicle_3       -0.061932 -0.000927   0.020867     -0.049910   -0.022404   \n",
       "vehicle_4       -0.020406  0.004655   0.004172     -0.021137   -0.004074   \n",
       "vehicle_5       -0.010733 -0.005797  -0.002768     -0.012003    0.002492   \n",
       "cause_vehicle_1 -0.012115 -0.003458   0.001307     -0.009102   -0.001738   \n",
       "cause_vehicle_2 -0.058596 -0.021373   0.087374      0.031189   -0.088187   \n",
       "cause_vehicle_3 -0.060542  0.000684   0.017426     -0.052159   -0.019120   \n",
       "cause_vehicle_4 -0.020158  0.004604   0.002737     -0.022074   -0.002580   \n",
       "cause_vehicle_5 -0.011348 -0.004841  -0.003107     -0.013455    0.002863   \n",
       "\n",
       "                 total_killed  vehicle_1  vehicle_2  vehicle_3  vehicle_4  \\\n",
       "borough              0.005582  -0.018325  -0.077516  -0.061932  -0.020406   \n",
       "location             0.015496  -0.010466  -0.033842  -0.000927   0.004655   \n",
       "on_street           -0.002344  -0.001889   0.119647   0.020867   0.004172   \n",
       "cross_street         0.004112  -0.017018   0.043799  -0.049910  -0.021137   \n",
       "off_street           0.002323   0.001812  -0.121129  -0.022404  -0.004074   \n",
       "total_killed         1.000000  -0.000327   0.008017   0.001057   0.000462   \n",
       "vehicle_1           -0.000327   1.000000   0.151516   0.019972   0.008732   \n",
       "vehicle_2            0.008017   0.151516   1.000000   0.131813   0.057631   \n",
       "vehicle_3            0.001057   0.019972   0.131813   1.000000   0.437214   \n",
       "vehicle_4            0.000462   0.008732   0.057631   0.437214   1.000000   \n",
       "vehicle_5            0.000234   0.004425   0.029208   0.221585   0.506810   \n",
       "cause_vehicle_1     -0.000229   0.604281   0.106214   0.014000   0.006121   \n",
       "cause_vehicle_2      0.009888   0.180678   0.784402   0.106874   0.046727   \n",
       "cause_vehicle_3      0.001091   0.020624   0.132499   0.961316   0.423394   \n",
       "cause_vehicle_4      0.000477   0.009022   0.058050   0.448525   0.963723   \n",
       "cause_vehicle_5      0.000240   0.004545   0.029264   0.225067   0.515058   \n",
       "\n",
       "                 vehicle_5  cause_vehicle_1  cause_vehicle_2  cause_vehicle_3  \\\n",
       "borough          -0.010733        -0.012115        -0.058596        -0.060542   \n",
       "location         -0.005797        -0.003458        -0.021373         0.000684   \n",
       "on_street        -0.002768         0.001307         0.087374         0.017426   \n",
       "cross_street     -0.012003        -0.009102         0.031189        -0.052159   \n",
       "off_street        0.002492        -0.001738        -0.088187        -0.019120   \n",
       "total_killed      0.000234        -0.000229         0.009888         0.001091   \n",
       "vehicle_1         0.004425         0.604281         0.180678         0.020624   \n",
       "vehicle_2         0.029208         0.106214         0.784402         0.132499   \n",
       "vehicle_3         0.221585         0.014000         0.106874         0.961316   \n",
       "vehicle_4         0.506810         0.006121         0.046727         0.423394   \n",
       "vehicle_5         1.000000         0.003102         0.023682         0.214580   \n",
       "cause_vehicle_1   0.003102         1.000000         0.131000         0.014457   \n",
       "cause_vehicle_2   0.023682         0.131000         1.000000         0.110362   \n",
       "cause_vehicle_3   0.214580         0.014457         0.110362         1.000000   \n",
       "cause_vehicle_4   0.490537         0.006324         0.048277         0.437440   \n",
       "cause_vehicle_5   0.973664         0.003186         0.024322         0.220384   \n",
       "\n",
       "                 cause_vehicle_4  cause_vehicle_5  \n",
       "borough                -0.020158        -0.011348  \n",
       "location                0.004604        -0.004841  \n",
       "on_street               0.002737        -0.003107  \n",
       "cross_street           -0.022074        -0.013455  \n",
       "off_street             -0.002580         0.002863  \n",
       "total_killed            0.000477         0.000240  \n",
       "vehicle_1               0.009022         0.004545  \n",
       "vehicle_2               0.058050         0.029264  \n",
       "vehicle_3               0.448525         0.225067  \n",
       "vehicle_4               0.963723         0.515058  \n",
       "vehicle_5               0.490537         0.973664  \n",
       "cause_vehicle_1         0.006324         0.003186  \n",
       "cause_vehicle_2         0.048277         0.024322  \n",
       "cause_vehicle_3         0.437440         0.220384  \n",
       "cause_vehicle_4         1.000000         0.503805  \n",
       "cause_vehicle_5         0.503805         1.000000  "
      ]
     },
     "execution_count": 500,
     "metadata": {},
     "output_type": "execute_result"
    }
   ],
   "source": [
    "# getting the correclation of missing values with other columns\n",
    "cols_with_missing_vals = mvc.columns[mvc.isnull().sum() > 0]\n",
    "missing_corr = mvc[cols_with_missing_vals].isnull().corr()\n",
    "missing_corr"
   ]
  },
  {
   "cell_type": "markdown",
   "metadata": {},
   "source": [
    "# clean correlation plot function"
   ]
  },
  {
   "cell_type": "code",
   "execution_count": 514,
   "metadata": {},
   "outputs": [],
   "source": [
    "# the transformation below seems to flip the order of the columns\n",
    "missing_corr = missing_corr.iloc[1:, :-1]\n",
    "# mask = np.triu(np.ones_like(missing_corr), k=1)"
   ]
  },
  {
   "cell_type": "code",
   "execution_count": 501,
   "metadata": {},
   "outputs": [],
   "source": [
    "# creating a clean correlation plot\n",
    "def plot_null_correlations(df):\n",
    "    # create a correlation matrix only for columns with at least\n",
    "    # one missing value\n",
    "    cols_with_missing_vals = df.columns[df.isnull().sum() > 0]\n",
    "    missing_corr = df[cols_with_missing_vals].isnull().corr()\n",
    "    \n",
    "    # create a triangular mask to avoid repeated values and make\n",
    "    # the plot easier to read\n",
    "    missing_corr = missing_corr.iloc[1:, :-1]\n",
    "    mask = np.triu(np.ones_like(missing_corr), k=1)\n",
    "    \n",
    "    # plot a heatmap of the values\n",
    "    plt.figure(figsize=(20,14))\n",
    "    ax = sns.heatmap(missing_corr, vmin=-1, vmax=1, cbar=False,\n",
    "                     cmap='RdBu', mask=mask, annot=True)\n",
    "    \n",
    "    # format the text in the plot to make it easier to read\n",
    "    for text in ax.texts:\n",
    "        t = float(text.get_text())\n",
    "        if -0.05 < t < 0.01:\n",
    "            text.set_text('')\n",
    "        else:\n",
    "            text.set_text(round(t, 2))\n",
    "        text.set_fontsize('x-large')\n",
    "    plt.xticks(rotation=90, size='x-large')\n",
    "    plt.yticks(rotation=0, size='x-large')\n",
    "\n",
    "    plt.show()"
   ]
  },
  {
   "cell_type": "code",
   "execution_count": 502,
   "metadata": {},
   "outputs": [
    {
     "data": {
      "image/png": "[encoded data removed]",
      "text/plain": [
       "<Figure size 1440x1008 with 1 Axes>"
      ]
     },
     "metadata": {
      "needs_background": "light"
     },
     "output_type": "display_data"
    }
   ],
   "source": [
    "plot_null_correlations(mvc)"
   ]
  },
  {
   "cell_type": "code",
   "execution_count": 504,
   "metadata": {},
   "outputs": [],
   "source": [
    "# plotting correelations with any column containing 'vehicle'\n",
    "# first we neeed to create a list of the columns that contain 'vehicle'\n",
    "veh_list = [col for col in mvc if 'vehicle' in col]"
   ]
  },
  {
   "cell_type": "code",
   "execution_count": 505,
   "metadata": {},
   "outputs": [
    {
     "data": {
      "text/plain": [
       "['vehicle_1',\n",
       " 'vehicle_2',\n",
       " 'vehicle_3',\n",
       " 'vehicle_4',\n",
       " 'vehicle_5',\n",
       " 'cause_vehicle_1',\n",
       " 'cause_vehicle_2',\n",
       " 'cause_vehicle_3',\n",
       " 'cause_vehicle_4',\n",
       " 'cause_vehicle_5']"
      ]
     },
     "execution_count": 505,
     "metadata": {},
     "output_type": "execute_result"
    }
   ],
   "source": [
    "veh_list"
   ]
  },
  {
   "cell_type": "code",
   "execution_count": 508,
   "metadata": {},
   "outputs": [
    {
     "data": {
      "image/png": "[encoded data removed]",
      "text/plain": [
       "<Figure size 1440x1008 with 1 Axes>"
      ]
     },
     "metadata": {
      "needs_background": "light"
     },
     "output_type": "display_data"
    }
   ],
   "source": [
    "plot_null_correlations(mvc[veh_list])"
   ]
  },
  {
   "cell_type": "code",
   "execution_count": 549,
   "metadata": {},
   "outputs": [],
   "source": [
    "# examining the points with the highest correlation\n",
    "# columns we'll use to create a df\n",
    "col_labels = ['v_number', 'vehicle_missing', 'cause_missing']\n",
    "\n",
    "# empty list we will use to store values\n",
    "vc_null_data = []\n",
    "\n",
    "# for loop to extract null value combinations\n",
    "for v in range(1,6):\n",
    "    v_col = 'vehicle_{}'.format(v)\n",
    "    c_col = 'cause_vehicle_{}'.format(v)\n",
    "    v_null = (mvc[v_col].isnull() & mvc[c_col].notnull()).sum()\n",
    "    c_null = (mvc[v_col].notnull() & mvc[c_col].isnull()).sum()\n",
    "    \n",
    "    vc_null_data.append([v, v_null, c_null])\n",
    "\n",
    "vc_null_df = pd.DataFrame(vc_null_data, columns=col_labels)"
   ]
  },
  {
   "cell_type": "code",
   "execution_count": 551,
   "metadata": {},
   "outputs": [
    {
     "data": {
      "text/html": [
       "<div>\n",
       "<style scoped>\n",
       "    .dataframe tbody tr th:only-of-type {\n",
       "        vertical-align: middle;\n",
       "    }\n",
       "\n",
       "    .dataframe tbody tr th {\n",
       "        vertical-align: top;\n",
       "    }\n",
       "\n",
       "    .dataframe thead th {\n",
       "        text-align: right;\n",
       "    }\n",
       "</style>\n",
       "<table border=\"1\" class=\"dataframe\">\n",
       "  <thead>\n",
       "    <tr style=\"text-align: right;\">\n",
       "      <th></th>\n",
       "      <th>v_number</th>\n",
       "      <th>vehicle_missing</th>\n",
       "      <th>cause_missing</th>\n",
       "    </tr>\n",
       "  </thead>\n",
       "  <tbody>\n",
       "    <tr>\n",
       "      <th>0</th>\n",
       "      <td>1</td>\n",
       "      <td>204</td>\n",
       "      <td>24</td>\n",
       "    </tr>\n",
       "    <tr>\n",
       "      <th>1</th>\n",
       "      <td>2</td>\n",
       "      <td>3793</td>\n",
       "      <td>223</td>\n",
       "    </tr>\n",
       "    <tr>\n",
       "      <th>2</th>\n",
       "      <td>3</td>\n",
       "      <td>242</td>\n",
       "      <td>24</td>\n",
       "    </tr>\n",
       "    <tr>\n",
       "      <th>3</th>\n",
       "      <td>4</td>\n",
       "      <td>50</td>\n",
       "      <td>3</td>\n",
       "    </tr>\n",
       "    <tr>\n",
       "      <th>4</th>\n",
       "      <td>5</td>\n",
       "      <td>10</td>\n",
       "      <td>0</td>\n",
       "    </tr>\n",
       "  </tbody>\n",
       "</table>\n",
       "</div>"
      ],
      "text/plain": [
       "   v_number  vehicle_missing  cause_missing\n",
       "0         1              204             24\n",
       "1         2             3793            223\n",
       "2         3              242             24\n",
       "3         4               50              3\n",
       "4         5               10              0"
      ]
     },
     "execution_count": 551,
     "metadata": {},
     "output_type": "execute_result"
    }
   ],
   "source": [
    "# there are about 4500 missing values; dropping all of them would be \n",
    "# eliminating about 10% of the dataset\n",
    "vc_null_df.head()"
   ]
  },
  {
   "cell_type": "code",
   "execution_count": 552,
   "metadata": {},
   "outputs": [
    {
     "data": {
      "text/html": [
       "<div>\n",
       "<style scoped>\n",
       "    .dataframe tbody tr th:only-of-type {\n",
       "        vertical-align: middle;\n",
       "    }\n",
       "\n",
       "    .dataframe tbody tr th {\n",
       "        vertical-align: top;\n",
       "    }\n",
       "\n",
       "    .dataframe thead th {\n",
       "        text-align: right;\n",
       "    }\n",
       "</style>\n",
       "<table border=\"1\" class=\"dataframe\">\n",
       "  <thead>\n",
       "    <tr style=\"text-align: right;\">\n",
       "      <th></th>\n",
       "      <th>cause_vehicle_1</th>\n",
       "      <th>cause_vehicle_2</th>\n",
       "      <th>cause_vehicle_3</th>\n",
       "      <th>cause_vehicle_4</th>\n",
       "      <th>cause_vehicle_5</th>\n",
       "    </tr>\n",
       "  </thead>\n",
       "  <tbody>\n",
       "    <tr>\n",
       "      <th>0</th>\n",
       "      <td>Following Too Closely</td>\n",
       "      <td>Unspecified</td>\n",
       "      <td>NaN</td>\n",
       "      <td>NaN</td>\n",
       "      <td>NaN</td>\n",
       "    </tr>\n",
       "    <tr>\n",
       "      <th>1</th>\n",
       "      <td>Backing Unsafely</td>\n",
       "      <td>Unspecified</td>\n",
       "      <td>NaN</td>\n",
       "      <td>NaN</td>\n",
       "      <td>NaN</td>\n",
       "    </tr>\n",
       "  </tbody>\n",
       "</table>\n",
       "</div>"
      ],
      "text/plain": [
       "         cause_vehicle_1 cause_vehicle_2 cause_vehicle_3 cause_vehicle_4  \\\n",
       "0  Following Too Closely     Unspecified             NaN             NaN   \n",
       "1       Backing Unsafely     Unspecified             NaN             NaN   \n",
       "\n",
       "  cause_vehicle_5  \n",
       "0             NaN  \n",
       "1             NaN  "
      ]
     },
     "execution_count": 552,
     "metadata": {},
     "output_type": "execute_result"
    }
   ],
   "source": [
    "# we will convert our dataframe to a stack in order to move all columns to one\n",
    "# we will use the DataFrame.stack()\n",
    "cause_cols = [c for c in mvc.columns if 'cause' in c]\n",
    "cause = mvc[cause_cols]\n",
    "cause.head(2)"
   ]
  },
  {
   "cell_type": "code",
   "execution_count": 553,
   "metadata": {},
   "outputs": [],
   "source": [
    "# stacking our dataframe into one column\n",
    "cause_1d = cause.stack()"
   ]
  },
  {
   "cell_type": "code",
   "execution_count": 555,
   "metadata": {},
   "outputs": [],
   "source": [
    "# creating a a count of the top 10 reasons\n",
    "cause_top10 = cause_1d.value_counts().head(10)"
   ]
  },
  {
   "cell_type": "code",
   "execution_count": 556,
   "metadata": {},
   "outputs": [
    {
     "data": {
      "text/plain": [
       "Unspecified                       57481\n",
       "Driver Inattention/Distraction    17650\n",
       "Following Too Closely              6567\n",
       "Failure to Yield Right-of-Way      4566\n",
       "Passing or Lane Usage Improper     3260\n",
       "Passing Too Closely                3045\n",
       "Backing Unsafely                   3001\n",
       "Other Vehicular                    2523\n",
       "Unsafe Lane Changing               2372\n",
       "Turning Improperly                 1590\n",
       "dtype: int64"
      ]
     },
     "execution_count": 556,
     "metadata": {},
     "output_type": "execute_result"
    }
   ],
   "source": [
    "cause_top10"
   ]
  },
  {
   "cell_type": "code",
   "execution_count": 557,
   "metadata": {},
   "outputs": [
    {
     "data": {
      "text/html": [
       "<div>\n",
       "<style scoped>\n",
       "    .dataframe tbody tr th:only-of-type {\n",
       "        vertical-align: middle;\n",
       "    }\n",
       "\n",
       "    .dataframe tbody tr th {\n",
       "        vertical-align: top;\n",
       "    }\n",
       "\n",
       "    .dataframe thead th {\n",
       "        text-align: right;\n",
       "    }\n",
       "</style>\n",
       "<table border=\"1\" class=\"dataframe\">\n",
       "  <thead>\n",
       "    <tr style=\"text-align: right;\">\n",
       "      <th></th>\n",
       "      <th>vehicle_1</th>\n",
       "      <th>vehicle_2</th>\n",
       "      <th>vehicle_3</th>\n",
       "      <th>vehicle_4</th>\n",
       "      <th>vehicle_5</th>\n",
       "    </tr>\n",
       "  </thead>\n",
       "  <tbody>\n",
       "    <tr>\n",
       "      <th>0</th>\n",
       "      <td>PASSENGER VEHICLE</td>\n",
       "      <td>NaN</td>\n",
       "      <td>NaN</td>\n",
       "      <td>NaN</td>\n",
       "      <td>NaN</td>\n",
       "    </tr>\n",
       "    <tr>\n",
       "      <th>1</th>\n",
       "      <td>SPORT UTILITY / STATION WAGON</td>\n",
       "      <td>DS</td>\n",
       "      <td>NaN</td>\n",
       "      <td>NaN</td>\n",
       "      <td>NaN</td>\n",
       "    </tr>\n",
       "  </tbody>\n",
       "</table>\n",
       "</div>"
      ],
      "text/plain": [
       "                       vehicle_1 vehicle_2 vehicle_3 vehicle_4 vehicle_5\n",
       "0              PASSENGER VEHICLE       NaN       NaN       NaN       NaN\n",
       "1  SPORT UTILITY / STATION WAGON        DS       NaN       NaN       NaN"
      ]
     },
     "execution_count": 557,
     "metadata": {},
     "output_type": "execute_result"
    }
   ],
   "source": [
    "# I'll do the same for vehicle\n",
    "# list comprehension to extract columns that start with vehicle\n",
    "veh_cols = [c for c in mvc.columns if c.startswith('vehicle')]\n",
    "veh = mvc[veh_cols]\n",
    "veh.head(2)"
   ]
  },
  {
   "cell_type": "code",
   "execution_count": 558,
   "metadata": {},
   "outputs": [
    {
     "data": {
      "text/plain": [
       "0  vehicle_1                PASSENGER VEHICLE\n",
       "1  vehicle_1    SPORT UTILITY / STATION WAGON\n",
       "dtype: object"
      ]
     },
     "execution_count": 558,
     "metadata": {},
     "output_type": "execute_result"
    }
   ],
   "source": [
    "# stacking our veh dataframe\n",
    "veh_1d = veh.stack()\n",
    "veh_1d.head(2)"
   ]
  },
  {
   "cell_type": "code",
   "execution_count": 560,
   "metadata": {},
   "outputs": [
    {
     "data": {
      "text/plain": [
       "Sedan                                  33133\n",
       "Station Wagon/Sport Utility Vehicle    26124\n",
       "PASSENGER VEHICLE                      16026\n",
       "SPORT UTILITY / STATION WAGON          12356\n",
       "Taxi                                    3482\n",
       "Pick-up Truck                           2373\n",
       "TAXI                                    1892\n",
       "Box Truck                               1659\n",
       "Bike                                    1190\n",
       "Bus                                     1162\n",
       "dtype: int64"
      ]
     },
     "execution_count": 560,
     "metadata": {},
     "output_type": "execute_result"
    }
   ],
   "source": [
    "top10_vehicles = veh_1d.value_counts().head(10)\n",
    "top10_vehicles"
   ]
  },
  {
   "cell_type": "markdown",
   "metadata": {},
   "source": [
    "# replacing null values in this format\n",
    "\n",
    "1. For values where the vehicle is null and the cause is non-null, set the vehicle to Unspecified.\n",
    "2. For values where the cause is null and the vehicle is not-null, set the cause to Unspecified."
   ]
  },
  {
   "cell_type": "code",
   "execution_count": null,
   "metadata": {},
   "outputs": [],
   "source": [
    "# create a mask for each column\n",
    "v_missing_mask = mvc['vehicle_1'].isnull() & mvc['cause_vehicle_1'].notnull()\n",
    "c_missing_mask = mvc['cause_vehicle_1'].isnull() & mvc['vehicle_1'].notnull()\n",
    "\n",
    "# replace the values matching the mask for each column\n",
    "mvc['vehicle_1'] =  mvc['vehicle_1'].mask(v_missing_mask, \"Unspecified\")\n",
    "mvc['cause_vehicle_1'] =  mvc['cause_vehicle_1'].mask(c_missing_mask, \"Unspecified\")"
   ]
  },
  {
   "cell_type": "code",
   "execution_count": 563,
   "metadata": {},
   "outputs": [
    {
     "data": {
      "text/html": [
       "<div>\n",
       "<style scoped>\n",
       "    .dataframe tbody tr th:only-of-type {\n",
       "        vertical-align: middle;\n",
       "    }\n",
       "\n",
       "    .dataframe tbody tr th {\n",
       "        vertical-align: top;\n",
       "    }\n",
       "\n",
       "    .dataframe thead th {\n",
       "        text-align: right;\n",
       "    }\n",
       "</style>\n",
       "<table border=\"1\" class=\"dataframe\">\n",
       "  <thead>\n",
       "    <tr style=\"text-align: right;\">\n",
       "      <th></th>\n",
       "      <th>vehicle_number</th>\n",
       "      <th>vehicle_missing</th>\n",
       "      <th>cause_missing</th>\n",
       "    </tr>\n",
       "  </thead>\n",
       "  <tbody>\n",
       "    <tr>\n",
       "      <th>0</th>\n",
       "      <td>1</td>\n",
       "      <td>204</td>\n",
       "      <td>24</td>\n",
       "    </tr>\n",
       "    <tr>\n",
       "      <th>1</th>\n",
       "      <td>2</td>\n",
       "      <td>3793</td>\n",
       "      <td>223</td>\n",
       "    </tr>\n",
       "    <tr>\n",
       "      <th>2</th>\n",
       "      <td>3</td>\n",
       "      <td>242</td>\n",
       "      <td>24</td>\n",
       "    </tr>\n",
       "    <tr>\n",
       "      <th>3</th>\n",
       "      <td>4</td>\n",
       "      <td>50</td>\n",
       "      <td>3</td>\n",
       "    </tr>\n",
       "    <tr>\n",
       "      <th>4</th>\n",
       "      <td>5</td>\n",
       "      <td>10</td>\n",
       "      <td>0</td>\n",
       "    </tr>\n",
       "  </tbody>\n",
       "</table>\n",
       "</div>"
      ],
      "text/plain": [
       "   vehicle_number  vehicle_missing  cause_missing\n",
       "0               1              204             24\n",
       "1               2             3793            223\n",
       "2               3              242             24\n",
       "3               4               50              3\n",
       "4               5               10              0"
      ]
     },
     "execution_count": 563,
     "metadata": {},
     "output_type": "execute_result"
    }
   ],
   "source": [
    "def summarize_missing():\n",
    "    v_missing_data = []\n",
    "\n",
    "    for v in range(1,6):\n",
    "        v_col = 'vehicle_{}'.format(v)\n",
    "        c_col = 'cause_vehicle_{}'.format(v)\n",
    "\n",
    "        v_missing = (mvc[v_col].isnull() & mvc[c_col].notnull()).sum()\n",
    "        c_missing = (mvc[c_col].isnull() & mvc[v_col].notnull()).sum()\n",
    "\n",
    "        v_missing_data.append([v, v_missing, c_missing])\n",
    "\n",
    "    col_labels = columns=[\"vehicle_number\", \"vehicle_missing\", \"cause_missing\"]\n",
    "    return pd.DataFrame(v_missing_data, columns=col_labels)\n",
    "\n",
    "summary_before = summarize_missing()\n",
    "summary_before"
   ]
  },
  {
   "cell_type": "code",
   "execution_count": 565,
   "metadata": {},
   "outputs": [
    {
     "data": {
      "text/html": [
       "<div>\n",
       "<style scoped>\n",
       "    .dataframe tbody tr th:only-of-type {\n",
       "        vertical-align: middle;\n",
       "    }\n",
       "\n",
       "    .dataframe tbody tr th {\n",
       "        vertical-align: top;\n",
       "    }\n",
       "\n",
       "    .dataframe thead th {\n",
       "        text-align: right;\n",
       "    }\n",
       "</style>\n",
       "<table border=\"1\" class=\"dataframe\">\n",
       "  <thead>\n",
       "    <tr style=\"text-align: right;\">\n",
       "      <th></th>\n",
       "      <th>vehicle_number</th>\n",
       "      <th>vehicle_missing</th>\n",
       "      <th>cause_missing</th>\n",
       "    </tr>\n",
       "  </thead>\n",
       "  <tbody>\n",
       "    <tr>\n",
       "      <th>0</th>\n",
       "      <td>1</td>\n",
       "      <td>0</td>\n",
       "      <td>0</td>\n",
       "    </tr>\n",
       "    <tr>\n",
       "      <th>1</th>\n",
       "      <td>2</td>\n",
       "      <td>0</td>\n",
       "      <td>0</td>\n",
       "    </tr>\n",
       "    <tr>\n",
       "      <th>2</th>\n",
       "      <td>3</td>\n",
       "      <td>0</td>\n",
       "      <td>0</td>\n",
       "    </tr>\n",
       "    <tr>\n",
       "      <th>3</th>\n",
       "      <td>4</td>\n",
       "      <td>0</td>\n",
       "      <td>0</td>\n",
       "    </tr>\n",
       "    <tr>\n",
       "      <th>4</th>\n",
       "      <td>5</td>\n",
       "      <td>0</td>\n",
       "      <td>0</td>\n",
       "    </tr>\n",
       "  </tbody>\n",
       "</table>\n",
       "</div>"
      ],
      "text/plain": [
       "   vehicle_number  vehicle_missing  cause_missing\n",
       "0               1                0              0\n",
       "1               2                0              0\n",
       "2               3                0              0\n",
       "3               4                0              0\n",
       "4               5                0              0"
      ]
     },
     "execution_count": 565,
     "metadata": {},
     "output_type": "execute_result"
    }
   ],
   "source": [
    "# doing the above for all columns with a for loop\n",
    "for v in range(1,6):\n",
    "    v_col = 'vehicle_{}'.format(v)\n",
    "    c_col = 'cause_vehicle_{}'.format(v)\n",
    "    \n",
    "    v_missing_mask = mvc[v_col].isnull() & mvc[c_col].notnull()\n",
    "    c_missing_mask = mvc[c_col].isnull() & mvc[v_col].notnull()\n",
    "\n",
    "    mvc[v_col] = mvc[v_col].mask(v_missing_mask, \"Unspecified\")\n",
    "    mvc[c_col] = mvc[c_col].mask(c_missing_mask, \"Unspecified\")\n",
    "\n",
    "summary_after = summarize_missing()\n",
    "summary_after"
   ]
  },
  {
   "cell_type": "code",
   "execution_count": 567,
   "metadata": {},
   "outputs": [
    {
     "data": {
      "image/png": "[encoded data removed]",
      "text/plain": [
       "<Figure size 1440x1008 with 1 Axes>"
      ]
     },
     "metadata": {
      "needs_background": "light"
     },
     "output_type": "display_data"
    }
   ],
   "source": [
    "# plotting the updated data to see the updated correlation\n",
    "veh_cols = [c for c in mvc.columns if 'vehicle' in c]\n",
    "plot_null_correlations(mvc[veh_cols])"
   ]
  },
  {
   "cell_type": "code",
   "execution_count": 570,
   "metadata": {},
   "outputs": [
    {
     "data": {
      "text/html": [
       "<div>\n",
       "<style scoped>\n",
       "    .dataframe tbody tr th:only-of-type {\n",
       "        vertical-align: middle;\n",
       "    }\n",
       "\n",
       "    .dataframe tbody tr th {\n",
       "        vertical-align: top;\n",
       "    }\n",
       "\n",
       "    .dataframe thead th {\n",
       "        text-align: right;\n",
       "    }\n",
       "</style>\n",
       "<table border=\"1\" class=\"dataframe\">\n",
       "  <thead>\n",
       "    <tr style=\"text-align: right;\">\n",
       "      <th></th>\n",
       "      <th>borough</th>\n",
       "      <th>location</th>\n",
       "      <th>on_street</th>\n",
       "      <th>off_street</th>\n",
       "      <th>cross_street</th>\n",
       "    </tr>\n",
       "  </thead>\n",
       "  <tbody>\n",
       "    <tr>\n",
       "      <th>0</th>\n",
       "      <td>MANHATTAN</td>\n",
       "      <td>(40.742832, -74.00771)</td>\n",
       "      <td>WEST 15 STREET</td>\n",
       "      <td>NaN</td>\n",
       "      <td>10 AVENUE</td>\n",
       "    </tr>\n",
       "    <tr>\n",
       "      <th>1</th>\n",
       "      <td>BROOKLYN</td>\n",
       "      <td>(40.623714, -73.99314)</td>\n",
       "      <td>16 AVENUE</td>\n",
       "      <td>NaN</td>\n",
       "      <td>62 STREET</td>\n",
       "    </tr>\n",
       "    <tr>\n",
       "      <th>2</th>\n",
       "      <td>NaN</td>\n",
       "      <td>(40.591755, -73.9083)</td>\n",
       "      <td>BELT PARKWAY</td>\n",
       "      <td>NaN</td>\n",
       "      <td>NaN</td>\n",
       "    </tr>\n",
       "    <tr>\n",
       "      <th>3</th>\n",
       "      <td>QUEENS</td>\n",
       "      <td>(40.73602, -73.87954)</td>\n",
       "      <td>GRAND AVENUE</td>\n",
       "      <td>NaN</td>\n",
       "      <td>VANLOON STREET</td>\n",
       "    </tr>\n",
       "    <tr>\n",
       "      <th>4</th>\n",
       "      <td>BRONX</td>\n",
       "      <td>(40.884727, -73.89945)</td>\n",
       "      <td>NaN</td>\n",
       "      <td>208       WEST 238 STREET</td>\n",
       "      <td>NaN</td>\n",
       "    </tr>\n",
       "  </tbody>\n",
       "</table>\n",
       "</div>"
      ],
      "text/plain": [
       "     borough                location                         on_street  \\\n",
       "0  MANHATTAN  (40.742832, -74.00771)  WEST 15 STREET                     \n",
       "1   BROOKLYN  (40.623714, -73.99314)  16 AVENUE                          \n",
       "2        NaN   (40.591755, -73.9083)  BELT PARKWAY                       \n",
       "3     QUEENS   (40.73602, -73.87954)  GRAND AVENUE                       \n",
       "4      BRONX  (40.884727, -73.89945)                               NaN   \n",
       "\n",
       "                                 off_street    cross_street  \n",
       "0                                       NaN       10 AVENUE  \n",
       "1                                       NaN       62 STREET  \n",
       "2                                       NaN             NaN  \n",
       "3                                       NaN  VANLOON STREET  \n",
       "4  208       WEST 238 STREET                            NaN  "
      ]
     },
     "execution_count": 570,
     "metadata": {},
     "output_type": "execute_result"
    }
   ],
   "source": [
    "# cleaning set of columns that contain missing values (location of accident)\n",
    "loc_cols = ['borough', 'location', 'on_street', 'off_street', 'cross_street']\n",
    "location_data = mvc[loc_cols]\n",
    "location_data.head()"
   ]
  },
  {
   "cell_type": "code",
   "execution_count": 572,
   "metadata": {},
   "outputs": [
    {
     "data": {
      "text/plain": [
       "borough         20646\n",
       "location         3885\n",
       "on_street       13961\n",
       "off_street      44093\n",
       "cross_street    29249\n",
       "dtype: int64"
      ]
     },
     "execution_count": 572,
     "metadata": {},
     "output_type": "execute_result"
    }
   ],
   "source": [
    "# looking at null values\n",
    "location_data.isnull().sum()"
   ]
  },
  {
   "cell_type": "code",
   "execution_count": 575,
   "metadata": {},
   "outputs": [
    {
     "data": {
      "image/png": "[encoded data removed]",
      "text/plain": [
       "<Figure size 1440x1008 with 1 Axes>"
      ]
     },
     "metadata": {
      "needs_background": "light"
     },
     "output_type": "display_data"
    }
   ],
   "source": [
    "# correlation between missing values\n",
    "# only off_street and on_street have a strong correlation\n",
    "plot_null_correlations(location_data)"
   ]
  },
  {
   "cell_type": "code",
   "execution_count": 576,
   "metadata": {},
   "outputs": [
    {
     "data": {
      "image/png": "[encoded data removed]",
      "text/plain": [
       "<Figure size 1296x1080 with 1 Axes>"
      ]
     },
     "metadata": {
      "needs_background": "light"
     },
     "output_type": "display_data"
    }
   ],
   "source": [
    "# plotting a null matrix\n",
    "sorted_location_data = location_data.sort_values(loc_cols)\n",
    "plot_null_matrix(sorted_location_data)"
   ]
  },
  {
   "cell_type": "markdown",
   "metadata": {},
   "source": [
    "Missing data observations:\n",
    "\n",
    "1. About two-thirds of rows have non-null values for borough, but of those values that are missing, most have non-null values for location and one or more of the street name columns.\n",
    "\n",
    "2. Less than one-tenth of rows have missing values in the location column, but most of these have non-null values in one or more of the street name columns.\n",
    "\n",
    "3. Most rows have a non-null value for either on_street or off_street, and some also have a value for cross_street.\n",
    "\n",
    "Supplemnental data was created to fill location data using GeoPy and APIs\n",
    "\n",
    "1. For rows with location values but missing values in either borough or the street name columns, we used geocoding APIs to look up the location coordinates to find the missing data.\n",
    "\n",
    "2. For rows with values in the street name columns missing borough and/or location data, we used geocoding APIs to look up the address to find the missing data."
   ]
  },
  {
   "cell_type": "code",
   "execution_count": 577,
   "metadata": {},
   "outputs": [
    {
     "data": {
      "text/html": [
       "<div>\n",
       "<style scoped>\n",
       "    .dataframe tbody tr th:only-of-type {\n",
       "        vertical-align: middle;\n",
       "    }\n",
       "\n",
       "    .dataframe tbody tr th {\n",
       "        vertical-align: top;\n",
       "    }\n",
       "\n",
       "    .dataframe thead th {\n",
       "        text-align: right;\n",
       "    }\n",
       "</style>\n",
       "<table border=\"1\" class=\"dataframe\">\n",
       "  <thead>\n",
       "    <tr style=\"text-align: right;\">\n",
       "      <th></th>\n",
       "      <th>unique_key</th>\n",
       "      <th>location</th>\n",
       "      <th>on_street</th>\n",
       "      <th>off_street</th>\n",
       "      <th>borough</th>\n",
       "    </tr>\n",
       "  </thead>\n",
       "  <tbody>\n",
       "    <tr>\n",
       "      <th>0</th>\n",
       "      <td>3869058</td>\n",
       "      <td>NaN</td>\n",
       "      <td>NaN</td>\n",
       "      <td>NaN</td>\n",
       "      <td>NaN</td>\n",
       "    </tr>\n",
       "    <tr>\n",
       "      <th>1</th>\n",
       "      <td>3847947</td>\n",
       "      <td>NaN</td>\n",
       "      <td>NaN</td>\n",
       "      <td>NaN</td>\n",
       "      <td>NaN</td>\n",
       "    </tr>\n",
       "    <tr>\n",
       "      <th>2</th>\n",
       "      <td>3914294</td>\n",
       "      <td>NaN</td>\n",
       "      <td>BELT PARKWAY</td>\n",
       "      <td>NaN</td>\n",
       "      <td>BROOKLYN</td>\n",
       "    </tr>\n",
       "    <tr>\n",
       "      <th>3</th>\n",
       "      <td>3915069</td>\n",
       "      <td>NaN</td>\n",
       "      <td>NaN</td>\n",
       "      <td>NaN</td>\n",
       "      <td>NaN</td>\n",
       "    </tr>\n",
       "    <tr>\n",
       "      <th>4</th>\n",
       "      <td>3923123</td>\n",
       "      <td>NaN</td>\n",
       "      <td>NaN</td>\n",
       "      <td>NaN</td>\n",
       "      <td>NaN</td>\n",
       "    </tr>\n",
       "  </tbody>\n",
       "</table>\n",
       "</div>"
      ],
      "text/plain": [
       "   unique_key location     on_street off_street   borough\n",
       "0     3869058      NaN           NaN        NaN       NaN\n",
       "1     3847947      NaN           NaN        NaN       NaN\n",
       "2     3914294      NaN  BELT PARKWAY        NaN  BROOKLYN\n",
       "3     3915069      NaN           NaN        NaN       NaN\n",
       "4     3923123      NaN           NaN        NaN       NaN"
      ]
     },
     "execution_count": 577,
     "metadata": {},
     "output_type": "execute_result"
    }
   ],
   "source": [
    "sup_data = pd.read_csv('supplemental_data.csv')\n",
    "sup_data.head()"
   ]
  },
  {
   "cell_type": "code",
   "execution_count": 578,
   "metadata": {},
   "outputs": [
    {
     "data": {
      "image/png": "[encoded data removed]",
      "text/plain": [
       "<Figure size 1296x1080 with 1 Axes>"
      ]
     },
     "metadata": {
      "needs_background": "light"
     },
     "output_type": "display_data"
    }
   ],
   "source": [
    "plot_null_matrix(sup_data)"
   ]
  },
  {
   "cell_type": "code",
   "execution_count": 580,
   "metadata": {},
   "outputs": [
    {
     "data": {
      "text/plain": [
       "True"
      ]
     },
     "execution_count": 580,
     "metadata": {},
     "output_type": "execute_result"
    }
   ],
   "source": [
    "mvc_keys = mvc['unique_key']\n",
    "sup_keys = sup_data['unique_key']\n",
    "\n",
    "is_equal = mvc_keys.equals(sup_keys)\n",
    "is_equal"
   ]
  },
  {
   "cell_type": "code",
   "execution_count": 582,
   "metadata": {},
   "outputs": [
    {
     "data": {
      "text/plain": [
       "location       3885\n",
       "on_street     13961\n",
       "off_street    44093\n",
       "borough       20646\n",
       "dtype: int64"
      ]
     },
     "execution_count": 582,
     "metadata": {},
     "output_type": "execute_result"
    }
   ],
   "source": [
    "# getting the null values before we replace them with the new location data\n",
    "location_cols = ['location', 'on_street', 'off_street', 'borough']\n",
    "null_before = mvc[location_cols].isnull().sum()\n",
    "null_before"
   ]
  },
  {
   "cell_type": "code",
   "execution_count": 583,
   "metadata": {},
   "outputs": [
    {
     "data": {
      "text/plain": [
       "location         77\n",
       "on_street     13734\n",
       "off_street    36131\n",
       "borough         232\n",
       "dtype: int64"
      ]
     },
     "execution_count": 583,
     "metadata": {},
     "output_type": "execute_result"
    }
   ],
   "source": [
    "# for loop to replace the null values in the mvc dataset\n",
    "for col in location_cols:\n",
    "    mvc[col] = mvc[col].mask(mvc[col].isnull(), sup_data[col]) # replaces nulls with sup_data\n",
    "    \n",
    "null_after = mvc[location_cols].isnull().sum()\n",
    "null_after"
   ]
  },
  {
   "cell_type": "markdown",
   "metadata": {},
   "source": [
    "### In the steps above we have applied multiple strategies to deal with and replace null values"
   ]
  },
  {
   "cell_type": "code",
   "execution_count": null,
   "metadata": {},
   "outputs": [],
   "source": []
  }
 ],
 "metadata": {
  "kernelspec": {
   "display_name": "Python 3",
   "language": "python",
   "name": "python3"
  },
  "language_info": {
   "codemirror_mode": {
    "name": "ipython",
    "version": 3
   },
   "file_extension": ".py",
   "mimetype": "text/x-python",
   "name": "python",
   "nbconvert_exporter": "python",
   "pygments_lexer": "ipython3",
   "version": "3.7.1"
  }
 },
 "nbformat": 4,
 "nbformat_minor": 2
}
